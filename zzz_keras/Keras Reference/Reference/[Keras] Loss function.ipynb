{
 "cells": [
  {
   "cell_type": "markdown",
   "metadata": {},
   "source": [
    "# categorical_crossentropy vs sparse_categorical_crossentoropy\n",
    "\n",
    "일반적으로 loss function으로 cross entropy를 많이 사용합니다. cross-entropy를 이용하면 MSE 등에 비해서 학습을 빠르게 할 수 있는 이유가 있습니다.<br>\n",
    "Keras에서 loss function은 model.compile() 에서 지정해 줍니다. 이 때, 'loss = ' 에 줄 수 있는 cross-entropy옵션은 \n",
    "\n",
    "1) categorical_crossentropy <br>\n",
    "2) sparse_categorical_crossentropy <br>\n",
    "\n",
    "2가지가 있습니다. 각각의 쓰임새는 label의 형태에 따라 다릅니다.\n",
    "\n",
    "label 데이터가 다음과 같을 때,\n",
    "\n",
    "[[6] <br>\n",
    " [2] <br>\n",
    " [5] <br>\n",
    " [7] <br>\n",
    "... ]\n",
    "\n",
    "one-hot encoding으로 표현하면 다음과 같습니다.\n",
    "one_hot_labels = keras.utils.to_categorical(labels, num_classes = 10) 로 변환할 수 있습니다.\n",
    "\n",
    "[[0. 0. 0. ... 0. 0. 0.] <br>\n",
    " [0. 0. 1. ... 0. 0. 0.] <br>\n",
    " [0. 0. 0. ... 0. 0. 0.] <br>\n",
    " ...<br>\n",
    " [0. 0. 0. ... 0. 0. 0.] <br>\n",
    " [0. 0. 0. ... 0. 0. 1.] <br>\n",
    " [1. 0. 0. ... 0. 0. 0.]]\n",
    "\n",
    "- <span class=\"mark\">categorical_crossentropy</span>는 <span class=\"mark\">one-hot encoding</span>을 통하여 정답 label을 one-hot 형태로 표현할 경우에 사용할 수 있습니다.\n",
    "- <span class=\"mark\">sparse_categorical_crossentropy</span>는 one-hot encoding이 아닌 형태의 label일 때 사용할 수 있습니다.\n"
   ]
  },
  {
   "cell_type": "code",
   "execution_count": null,
   "metadata": {},
   "outputs": [],
   "source": [
    "\n"
   ]
  }
 ],
 "metadata": {
  "anaconda-cloud": {},
  "kernelspec": {
   "display_name": "Python [conda root]",
   "language": "python",
   "name": "conda-root-py"
  },
  "language_info": {
   "codemirror_mode": {
    "name": "ipython",
    "version": 3
   },
   "file_extension": ".py",
   "mimetype": "text/x-python",
   "name": "python",
   "nbconvert_exporter": "python",
   "pygments_lexer": "ipython3",
   "version": "3.5.2"
  },
  "varInspector": {
   "cols": {
    "lenName": 16,
    "lenType": 16,
    "lenVar": 40
   },
   "kernels_config": {
    "python": {
     "delete_cmd_postfix": "",
     "delete_cmd_prefix": "del ",
     "library": "var_list.py",
     "varRefreshCmd": "print(var_dic_list())"
    },
    "r": {
     "delete_cmd_postfix": ") ",
     "delete_cmd_prefix": "rm(",
     "library": "var_list.r",
     "varRefreshCmd": "cat(var_dic_list()) "
    }
   },
   "types_to_exclude": [
    "module",
    "function",
    "builtin_function_or_method",
    "instance",
    "_Feature"
   ],
   "window_display": false
  }
 },
 "nbformat": 4,
 "nbformat_minor": 1
}
