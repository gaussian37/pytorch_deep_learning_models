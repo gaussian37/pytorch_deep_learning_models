{
 "cells": [
  {
   "cell_type": "markdown",
   "metadata": {},
   "source": [
    "케라스로 딥러닝 모델을 개발할 때, 가장 많이 보게 되는 것이 <font color='red'>fit 함수가 화면에 찍어주는 로그</font>입니다.<br>\n",
    "이 로그에 포함된 수치들은 학습이 제대로 되고 있는지, 학습을 그만할 지 등 판단하는 중요한 척도가 됩니다.<br>\n",
    "수치들이 <font color='red'>epoch마다 바뀌는 변화 추이를 보는 것이 중요</font>하기 때문에 그래프로 표시하여 보는 것이 더 직관적입니다.<br>\n",
    "이러한 수치를 그래프로 보기 위해 케라스에서 제공하는 히스토리 기능을 이용하는 방법, 텐서보드와 연동하여 보는 방법, 콜백함수를 직접 만들어서 사용하는 방법에 대하여 알아보겠습니다.\n",
    "\n",
    "- 히스토리 기능 사용하기\n",
    "- 텐서보드와 연동하기\n",
    "- 직접 콜백함수 만들어 보기\n",
    "    \n"
   ]
  },
  {
   "cell_type": "markdown",
   "metadata": {},
   "source": [
    "# 히스토리 기능 사용하기 #\n",
    "\n",
    "케라스에서 학습시킬 때 fit() 함수를 사용합니다. 이 함수의 반환 값으로 히스토리 객체를 얻을 수 있습니다.<br>\n",
    "이 객체는 다음의 정보를 담고 있습니다.\n",
    "\n",
    "- 매 epoch 마다 훈련 손실값(loss)\n",
    "- 매 epoch 마다 훈련 정확도(acc)\n",
    "- 매 epoch 마다 검증 손실값(val_loss)\n",
    "- 매 epoch 마다의 검증 정확도(val_acc)\n",
    "\n",
    "히스토리 기능은 케라스의 모든 모델에 탑재되어 있으므로 별도의 설정 없이 fit() 함수의 반환으로 쉽게 얻을 수 있습니다."
   ]
  },
  {
   "cell_type": "code",
   "execution_count": 1,
   "metadata": {
    "ExecuteTime": {
     "end_time": "2018-02-04T17:27:13.864858Z",
     "start_time": "2018-02-04T17:27:13.775621Z"
    }
   },
   "outputs": [
    {
     "ename": "NameError",
     "evalue": "name 'model' is not defined",
     "output_type": "error",
     "traceback": [
      "\u001b[1;31m---------------------------------------------------------------------------\u001b[0m",
      "\u001b[1;31mNameError\u001b[0m                                 Traceback (most recent call last)",
      "\u001b[1;32m<ipython-input-1-5549e2650f51>\u001b[0m in \u001b[0;36m<module>\u001b[1;34m()\u001b[0m\n\u001b[1;32m----> 1\u001b[1;33m \u001b[0mhist\u001b[0m \u001b[1;33m=\u001b[0m \u001b[0mmodel\u001b[0m\u001b[1;33m.\u001b[0m\u001b[0mfit\u001b[0m\u001b[1;33m(\u001b[0m\u001b[0mX_train\u001b[0m\u001b[1;33m,\u001b[0m \u001b[0mY_train\u001b[0m\u001b[1;33m,\u001b[0m \u001b[0mepochs\u001b[0m \u001b[1;33m=\u001b[0m \u001b[1;36m1000\u001b[0m\u001b[1;33m,\u001b[0m \u001b[0mbatch_size\u001b[0m \u001b[1;33m=\u001b[0m \u001b[1;36m10\u001b[0m\u001b[1;33m,\u001b[0m \u001b[0mvalidation_data\u001b[0m \u001b[1;33m=\u001b[0m \u001b[1;33m(\u001b[0m\u001b[0mX_val\u001b[0m\u001b[1;33m,\u001b[0m \u001b[0mY_val\u001b[0m\u001b[1;33m)\u001b[0m\u001b[1;33m)\u001b[0m\u001b[1;33m\u001b[0m\u001b[0m\n\u001b[0m\u001b[0;32m      2\u001b[0m \u001b[1;33m\u001b[0m\u001b[0m\n\u001b[0;32m      3\u001b[0m \u001b[0mprint\u001b[0m\u001b[1;33m(\u001b[0m\u001b[0mhist\u001b[0m\u001b[1;33m.\u001b[0m\u001b[0mhistory\u001b[0m\u001b[1;33m[\u001b[0m\u001b[1;34m'loss'\u001b[0m\u001b[1;33m]\u001b[0m\u001b[1;33m)\u001b[0m\u001b[1;33m\u001b[0m\u001b[0m\n\u001b[0;32m      4\u001b[0m \u001b[0mprint\u001b[0m\u001b[1;33m(\u001b[0m\u001b[0mhist\u001b[0m\u001b[1;33m.\u001b[0m\u001b[0mhistory\u001b[0m\u001b[1;33m[\u001b[0m\u001b[1;34m'acc'\u001b[0m\u001b[1;33m]\u001b[0m\u001b[1;33m)\u001b[0m\u001b[1;33m\u001b[0m\u001b[0m\n\u001b[0;32m      5\u001b[0m \u001b[0mprint\u001b[0m\u001b[1;33m(\u001b[0m\u001b[0mhist\u001b[0m\u001b[1;33m.\u001b[0m\u001b[0mhistory\u001b[0m\u001b[1;33m[\u001b[0m\u001b[1;34m'val_loss'\u001b[0m\u001b[1;33m]\u001b[0m\u001b[1;33m)\u001b[0m\u001b[1;33m\u001b[0m\u001b[0m\n",
      "\u001b[1;31mNameError\u001b[0m: name 'model' is not defined"
     ]
    }
   ],
   "source": [
    "hist = model.fit(X_train, Y_train, epochs = 1000, batch_size = 10, validation_data = (X_val, Y_val))\n",
    "\n",
    "print(hist.history['loss'])\n",
    "print(hist.history['acc'])\n",
    "print(hist.history['val_loss'])\n",
    "print(hist.history['val_acc'])        "
   ]
  },
  {
   "cell_type": "markdown",
   "metadata": {},
   "source": [
    "수치들은 각 epoch마다 해당 값이 추가되므로 배열 형태로 저장되어 있습니다.<br>\n",
    "매 epoch마다 변화되는 수치들의 추이를 그래프로 비교하면 학습 상태를 직관적으로 이해하기 쉽습니다.<br>\n",
    "\n",
    "아래 코드와 같이 matplotlib 패키지를 이용하면 하나의 그래프로 쉽게 표시할 수 있습니다.\n",
    "\n",
    "- train_loss(노란색) : 훈련 손실값이며 x축은 epoch 수, w"
   ]
  },
  {
   "cell_type": "markdown",
   "metadata": {},
   "source": [
    "# 손글씨 데이터셋 MNIST를 MLP로 학습시키는 간단한 예제"
   ]
  },
  {
   "cell_type": "markdown",
   "metadata": {},
   "source": [
    "## 1) 사용할 패키지 불러오기 ##"
   ]
  },
  {
   "cell_type": "code",
   "execution_count": 1,
   "metadata": {
    "ExecuteTime": {
     "end_time": "2018-02-24T16:32:26.666990Z",
     "start_time": "2018-02-24T16:32:24.881770Z"
    }
   },
   "outputs": [
    {
     "name": "stderr",
     "output_type": "stream",
     "text": [
      "C:\\Users\\infoe\\Anaconda3\\lib\\site-packages\\h5py\\__init__.py:36: FutureWarning: Conversion of the second argument of issubdtype from `float` to `np.floating` is deprecated. In future, it will be treated as `np.float64 == np.dtype(float).type`.\n",
      "  from ._conv import register_converters as _register_converters\n",
      "Using TensorFlow backend.\n"
     ]
    }
   ],
   "source": [
    "from keras.utils import np_utils\n",
    "from keras.datasets import mnist\n",
    "from keras.models import Sequential\n",
    "from keras.layers import Dense, Activation\n",
    "import numpy as np\n",
    "\n",
    "np.random.seed(777)"
   ]
  },
  {
   "cell_type": "markdown",
   "metadata": {},
   "source": [
    "## 2) 데이터셋 생성하기"
   ]
  },
  {
   "cell_type": "code",
   "execution_count": 2,
   "metadata": {
    "ExecuteTime": {
     "end_time": "2018-02-24T16:32:51.617135Z",
     "start_time": "2018-02-24T16:32:51.393540Z"
    }
   },
   "outputs": [],
   "source": [
    "# 훈련셋과 시험셋 불러오기 \n",
    "(x_train, y_train), (x_test, y_test) = mnist.load_data()\n",
    "\n",
    "# 훈련셋과 검증셋 분리\n",
    "x_Train = x_train[0:50000]\n",
    "y_Train = y_train[0:50000]\n",
    "x_val = x_train[50000:]\n",
    "y_val = y_train[50000:]"
   ]
  },
  {
   "cell_type": "code",
   "execution_count": 3,
   "metadata": {
    "ExecuteTime": {
     "end_time": "2018-02-24T16:32:56.348648Z",
     "start_time": "2018-02-24T16:32:56.161060Z"
    }
   },
   "outputs": [],
   "source": [
    "# 데이터셋 전처리\n",
    "x_Train = x_Train.reshape(50000, 784).astype('float32') / 255.0\n",
    "x_val = x_val.reshape(10000, 784).astype('float32') / 255.0\n",
    "x_test = x_test.reshape(10000, 784).astype('float32') / 255.0"
   ]
  },
  {
   "cell_type": "code",
   "execution_count": 5,
   "metadata": {
    "ExecuteTime": {
     "end_time": "2018-02-04T17:27:25.102882Z",
     "start_time": "2018-02-04T17:27:25.100375Z"
    }
   },
   "outputs": [],
   "source": [
    "# 훈련셋과 검증셋 고르기\n",
    "#train_rand_idxs = np.random.choice(50000, 700)\n",
    "#val_rand_idxs = np.random.choice(10000, 300)\n",
    "#x_Train = x_Train[train_rand_idxs]\n",
    "#y_Train = y_Train[train_rand_idxs]\n",
    "#x_val = x_val[val_rand_idxs]\n",
    "#y_val = y_val[val_rand_idxs]"
   ]
  },
  {
   "cell_type": "code",
   "execution_count": 4,
   "metadata": {
    "ExecuteTime": {
     "end_time": "2018-02-24T16:33:05.057754Z",
     "start_time": "2018-02-24T16:33:05.045697Z"
    }
   },
   "outputs": [],
   "source": [
    "# 라벨데이터와 one-hot encoding 처리\n",
    "y_Train = np_utils.to_categorical(y_Train) # train 데이터\n",
    "y_val = np_utils.to_categorical(y_val) # validation 데이터\n",
    "y_test = np_utils.to_categorical(y_test) # test 데이터"
   ]
  },
  {
   "cell_type": "code",
   "execution_count": 8,
   "metadata": {
    "ExecuteTime": {
     "end_time": "2018-02-04T17:28:23.672831Z",
     "start_time": "2018-02-04T17:28:23.667316Z"
    }
   },
   "outputs": [
    {
     "data": {
      "text/plain": [
       "(60000, 28, 28)"
      ]
     },
     "execution_count": 8,
     "metadata": {},
     "output_type": "execute_result"
    }
   ],
   "source": [
    "x_train.shape"
   ]
  },
  {
   "cell_type": "markdown",
   "metadata": {},
   "source": [
    "## 3) 모델 구성하기"
   ]
  },
  {
   "cell_type": "code",
   "execution_count": 5,
   "metadata": {
    "ExecuteTime": {
     "end_time": "2018-02-24T16:33:31.722435Z",
     "start_time": "2018-02-24T16:33:31.665285Z"
    }
   },
   "outputs": [],
   "source": [
    "model = Sequential()\n",
    "model.add(Dense(units = 2, input_dim = 784, activation='relu'))\n",
    "model.add(Dense(units=10, activation='softmax'))"
   ]
  },
  {
   "cell_type": "markdown",
   "metadata": {},
   "source": [
    "## 4) 모델 학습과정 설정하기"
   ]
  },
  {
   "cell_type": "code",
   "execution_count": 6,
   "metadata": {
    "ExecuteTime": {
     "end_time": "2018-02-24T16:33:40.898998Z",
     "start_time": "2018-02-24T16:33:40.844859Z"
    }
   },
   "outputs": [],
   "source": [
    "model.compile(loss = 'categorical_crossentropy', optimizer = 'adam', metrics = ['accuracy'])"
   ]
  },
  {
   "cell_type": "markdown",
   "metadata": {},
   "source": [
    "## 5) 모델 학습 시키기"
   ]
  },
  {
   "cell_type": "code",
   "execution_count": null,
   "metadata": {
    "ExecuteTime": {
     "start_time": "2018-02-24T07:33:53.139Z"
    }
   },
   "outputs": [
    {
     "name": "stdout",
     "output_type": "stream",
     "text": [
      "Train on 50000 samples, validate on 10000 samples\n",
      "Epoch 1/500\n",
      "50000/50000 [==============================] - 17s 345us/step - loss: 1.5103 - acc: 0.4659 - val_loss: 1.2121 - val_acc: 0.5615\n",
      "Epoch 2/500\n",
      "50000/50000 [==============================] - 16s 316us/step - loss: 1.1657 - acc: 0.5786 - val_loss: 1.1019 - val_acc: 0.6020\n",
      "Epoch 3/500\n",
      "50000/50000 [==============================] - 15s 307us/step - loss: 1.0974 - acc: 0.5991 - val_loss: 1.0525 - val_acc: 0.6173\n",
      "Epoch 4/500\n",
      "50000/50000 [==============================] - 15s 300us/step - loss: 1.0640 - acc: 0.6134 - val_loss: 1.0249 - val_acc: 0.6401\n",
      "Epoch 5/500\n",
      "50000/50000 [==============================] - 15s 298us/step - loss: 1.0417 - acc: 0.6248 - val_loss: 0.9972 - val_acc: 0.6473\n",
      "Epoch 6/500\n",
      "50000/50000 [==============================] - 15s 309us/step - loss: 1.0209 - acc: 0.6383 - val_loss: 0.9781 - val_acc: 0.6662\n",
      "Epoch 7/500\n",
      "50000/50000 [==============================] - 15s 307us/step - loss: 1.0058 - acc: 0.6480 - val_loss: 0.9700 - val_acc: 0.6714\n",
      "Epoch 8/500\n",
      "50000/50000 [==============================] - 15s 298us/step - loss: 0.9916 - acc: 0.6579 - val_loss: 0.9508 - val_acc: 0.6807\n",
      "Epoch 9/500\n",
      "50000/50000 [==============================] - 16s 322us/step - loss: 0.9805 - acc: 0.6643 - val_loss: 0.9546 - val_acc: 0.6806\n",
      "Epoch 10/500\n",
      "50000/50000 [==============================] - 17s 335us/step - loss: 0.9727 - acc: 0.6682 - val_loss: 0.9313 - val_acc: 0.6888\n",
      "Epoch 11/500\n",
      "50000/50000 [==============================] - 16s 328us/step - loss: 0.9663 - acc: 0.6716 - val_loss: 0.9267 - val_acc: 0.6915\n",
      "Epoch 12/500\n",
      "50000/50000 [==============================] - 15s 300us/step - loss: 0.9617 - acc: 0.6741 - val_loss: 0.9240 - val_acc: 0.6856\n",
      "Epoch 13/500\n",
      "50000/50000 [==============================] - 15s 299us/step - loss: 0.9591 - acc: 0.6745 - val_loss: 0.9182 - val_acc: 0.6886\n",
      "Epoch 14/500\n",
      "50000/50000 [==============================] - 15s 303us/step - loss: 0.9559 - acc: 0.6772 - val_loss: 0.9186 - val_acc: 0.6919\n",
      "Epoch 15/500\n",
      "50000/50000 [==============================] - 16s 318us/step - loss: 0.9529 - acc: 0.6772 - val_loss: 0.9129 - val_acc: 0.6981\n",
      "Epoch 16/500\n",
      "50000/50000 [==============================] - 17s 333us/step - loss: 0.9515 - acc: 0.6784 - val_loss: 0.9178 - val_acc: 0.6943\n",
      "Epoch 17/500\n",
      "50000/50000 [==============================] - 15s 308us/step - loss: 0.9489 - acc: 0.6803 - val_loss: 0.9106 - val_acc: 0.6985\n",
      "Epoch 18/500\n",
      "50000/50000 [==============================] - 15s 297us/step - loss: 0.9492 - acc: 0.6815 - val_loss: 0.9114 - val_acc: 0.6974\n",
      "Epoch 19/500\n",
      "50000/50000 [==============================] - 15s 304us/step - loss: 0.9473 - acc: 0.6809 - val_loss: 0.9246 - val_acc: 0.6942\n",
      "Epoch 20/500\n",
      "50000/50000 [==============================] - 15s 304us/step - loss: 0.9459 - acc: 0.6829 - val_loss: 0.9145 - val_acc: 0.6884\n",
      "Epoch 21/500\n",
      "50000/50000 [==============================] - 15s 298us/step - loss: 0.9447 - acc: 0.6817 - val_loss: 0.9117 - val_acc: 0.7001\n",
      "Epoch 22/500\n",
      "50000/50000 [==============================] - 15s 303us/step - loss: 0.9433 - acc: 0.6842 - val_loss: 0.9205 - val_acc: 0.6901\n",
      "Epoch 23/500\n",
      "50000/50000 [==============================] - 16s 322us/step - loss: 0.9433 - acc: 0.6840 - val_loss: 0.9047 - val_acc: 0.7019\n",
      "Epoch 24/500\n",
      "50000/50000 [==============================] - 15s 308us/step - loss: 0.9422 - acc: 0.6852 - val_loss: 0.9134 - val_acc: 0.7002\n",
      "Epoch 25/500\n",
      "50000/50000 [==============================] - 15s 304us/step - loss: 0.9415 - acc: 0.6841 - val_loss: 0.9088 - val_acc: 0.6959\n",
      "Epoch 26/500\n",
      "50000/50000 [==============================] - 15s 304us/step - loss: 0.9408 - acc: 0.6871 - val_loss: 0.9030 - val_acc: 0.7012\n",
      "Epoch 27/500\n",
      "50000/50000 [==============================] - 15s 301us/step - loss: 0.9400 - acc: 0.6851 - val_loss: 0.9034 - val_acc: 0.7038\n",
      "Epoch 28/500\n",
      "50000/50000 [==============================] - 15s 303us/step - loss: 0.9398 - acc: 0.6862 - val_loss: 0.9158 - val_acc: 0.6948\n",
      "Epoch 29/500\n",
      "50000/50000 [==============================] - 15s 299us/step - loss: 0.9392 - acc: 0.6861 - val_loss: 0.9074 - val_acc: 0.7013\n",
      "Epoch 30/500\n",
      "50000/50000 [==============================] - 16s 319us/step - loss: 0.9388 - acc: 0.6871 - val_loss: 0.9050 - val_acc: 0.7006\n",
      "Epoch 31/500\n",
      "50000/50000 [==============================] - 16s 315us/step - loss: 0.9386 - acc: 0.6866 - val_loss: 0.9054 - val_acc: 0.7035\n",
      "Epoch 32/500\n",
      "50000/50000 [==============================] - 15s 305us/step - loss: 0.9377 - acc: 0.6872 - val_loss: 0.9067 - val_acc: 0.6992\n",
      "Epoch 33/500\n",
      "50000/50000 [==============================] - 15s 301us/step - loss: 0.9370 - acc: 0.6866 - val_loss: 0.9010 - val_acc: 0.7039\n",
      "Epoch 34/500\n",
      "50000/50000 [==============================] - 16s 310us/step - loss: 0.9367 - acc: 0.6880 - val_loss: 0.9053 - val_acc: 0.7005\n",
      "Epoch 35/500\n",
      "50000/50000 [==============================] - 16s 321us/step - loss: 0.9363 - acc: 0.6879 - val_loss: 0.8998 - val_acc: 0.7043\n",
      "Epoch 36/500\n",
      "50000/50000 [==============================] - 15s 306us/step - loss: 0.9364 - acc: 0.6882 - val_loss: 0.9025 - val_acc: 0.7039\n",
      "Epoch 37/500\n",
      "50000/50000 [==============================] - 16s 327us/step - loss: 0.9354 - acc: 0.6893 - val_loss: 0.9029 - val_acc: 0.7030\n",
      "Epoch 38/500\n",
      "50000/50000 [==============================] - 15s 305us/step - loss: 0.9351 - acc: 0.6876 - val_loss: 0.9031 - val_acc: 0.7043\n",
      "Epoch 39/500\n",
      "50000/50000 [==============================] - 15s 297us/step - loss: 0.9349 - acc: 0.6884 - val_loss: 0.8983 - val_acc: 0.7063\n",
      "Epoch 40/500\n",
      "50000/50000 [==============================] - 16s 321us/step - loss: 0.9349 - acc: 0.6890 - val_loss: 0.9057 - val_acc: 0.7040\n",
      "Epoch 41/500\n",
      "50000/50000 [==============================] - 15s 306us/step - loss: 0.9347 - acc: 0.6875 - val_loss: 0.9001 - val_acc: 0.7054\n",
      "Epoch 42/500\n",
      "50000/50000 [==============================] - 16s 310us/step - loss: 0.9343 - acc: 0.6894 - val_loss: 0.8991 - val_acc: 0.7052\n",
      "Epoch 43/500\n",
      "49890/50000 [============================>.] - ETA: 0s - loss: 0.9330 - acc: 0.6894"
     ]
    }
   ],
   "source": [
    "hist = model.fit(x_Train, y_Train, epochs=500, batch_size = 10, validation_data=(x_val, y_val))"
   ]
  },
  {
   "cell_type": "markdown",
   "metadata": {
    "collapsed": true
   },
   "source": [
    "## 6) 학습과정 살펴보기\n",
    "\n",
    "수치들은 각 epoch 마다 해당값이 추가되므로 배열 형태로 저장되어 있습니다.<br>\n",
    "매 epoch 마다 변화되는 수치들의 추이를 그래프로 비교하면 학습 상태를 직관적으로 이해하기 쉽습니다.<br>\n",
    "아래 코드와 같이 matplotlib 패키지를 이용하면 하나의 그래프로 쉽게 표현할 수 있습니다.\n",
    "\n",
    "- train_loss(노란색) : 훈련 손실값이며 x축은 epoch 수, 좌측 y축은 손실값을 나타냅니다.\n",
    "- val_loss(빨간색) : 검증 손실값이며 x축은 epoch 수, 좌측 y축은 손실값을 나타냅니다.\n",
    "- train_acc(파란색) : 훈련 정확도이며 x축은 epoch 수, 우측 y축은 정확도를 나타냅니다.\n",
    "- val_acc (녹색) : 검증 정확도이며 x축은 epoch 수, 우측 y축은 정확도를 나타냅니다.\n",
    "\n",
    "좌측 세로축은 손실값을 표시하고, 우측 세로축은 정확도를 나타냅니다."
   ]
  },
  {
   "cell_type": "code",
   "execution_count": 36,
   "metadata": {},
   "outputs": [
    {
     "data": {
      "image/png": "[encoded data removed]",
      "text/plain": [
       "<matplotlib.figure.Figure at 0x2047aa53828>"
      ]
     },
     "metadata": {},
     "output_type": "display_data"
    }
   ],
   "source": [
    "%matplotlib inline\n",
    "import matplotlib.pyplot as plt\n",
    "\n",
    "fig, loss_ax = plt.subplots()\n",
    "\n",
    "acc_ax = loss_ax.twinx()\n",
    "\n",
    "\n",
    "\n",
    "loss_ax.plot(hist.history['loss'], 'y', label = 'train loss')\n",
    "loss_ax.plot(hist.history['val_loss'], 'r', label='val loss')\n",
    "\n",
    "loss_ax.set_ylim = ([0, 2.0])\n",
    "#acc_ax.set_ylim = ([0, 1.0])\n",
    "\n",
    "acc_ax.plot(hist.history['acc'], 'b', label = 'train acc')\n",
    "acc_ax.plot(hist.history['val_acc'], 'g', label = 'val acc')\n",
    "\n",
    "loss_ax.set_xlabel('epoch')\n",
    "loss_ax.set_ylabel('loss')\n",
    "\n",
    "acc_ax.set_ylabel('accuracy')\n",
    "\n",
    "loss_ax.legend(bbox_to_anchor=(1.5, 0.3))\n",
    "acc_ax.legend(bbox_to_anchor=(1.5, 1))\n",
    "\n",
    "plt.show()"
   ]
  },
  {
   "cell_type": "code",
   "execution_count": null,
   "metadata": {
    "collapsed": true
   },
   "outputs": [],
   "source": []
  }
 ],
 "metadata": {
  "anaconda-cloud": {},
  "kernelspec": {
   "display_name": "Python [conda root]",
   "language": "python",
   "name": "conda-root-py"
  },
  "language_info": {
   "codemirror_mode": {
    "name": "ipython",
    "version": 3
   },
   "file_extension": ".py",
   "mimetype": "text/x-python",
   "name": "python",
   "nbconvert_exporter": "python",
   "pygments_lexer": "ipython3",
   "version": "3.5.2"
  },
  "varInspector": {
   "cols": {
    "lenName": 16,
    "lenType": 16,
    "lenVar": 40
   },
   "kernels_config": {
    "python": {
     "delete_cmd_postfix": "",
     "delete_cmd_prefix": "del ",
     "library": "var_list.py",
     "varRefreshCmd": "print(var_dic_list())"
    },
    "r": {
     "delete_cmd_postfix": ") ",
     "delete_cmd_prefix": "rm(",
     "library": "var_list.r",
     "varRefreshCmd": "cat(var_dic_list()) "
    }
   },
   "oldHeight": 276.4,
   "position": {
    "height": "40px",
    "left": "889.4px",
    "right": "20px",
    "top": "90px",
    "width": "567px"
   },
   "types_to_exclude": [
    "module",
    "function",
    "builtin_function_or_method",
    "instance",
    "_Feature"
   ],
   "varInspector_section_display": "none",
   "window_display": true
  }
 },
 "nbformat": 4,
 "nbformat_minor": 1
}
