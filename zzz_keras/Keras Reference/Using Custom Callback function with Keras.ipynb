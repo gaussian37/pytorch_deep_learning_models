{
 "cells": [
  {
   "cell_type": "markdown",
   "metadata": {},
   "source": [
    "# Using Custom Callback function with Keras"
   ]
  },
  {
   "cell_type": "markdown",
   "metadata": {},
   "source": [
    "You can use history callback function or tensorboard in basic model monitoring. But, if you monitor another model like Recurrent Neural Network, you would not monitor properly because RNN call **fit function**  many times. Let me give you a example."
   ]
  },
  {
   "cell_type": "code",
   "execution_count": null,
   "metadata": {},
   "outputs": [],
   "source": [
    "for epoch in range(1000):\n",
    "    print(\"Epochs : \" + str(epoch))\n",
    "    hist = model.fit(x_train, y_train, epochs = 1, batch_size = 1, verbose = 2, shuffle=False)\n",
    "    model.reset_states()"
   ]
  },
  {
   "cell_type": "markdown",
   "metadata": {},
   "source": [
    "In above code, You can not observe the trend by every epoch because in every epoch, new history object replaces existing object. Accordingly, You need to `define custom callback function in order to maintain the existing learning state.`\n",
    "Let me give you a example."
   ]
  },
  {
   "cell_type": "code",
   "execution_count": 1,
   "metadata": {
    "ExecuteTime": {
     "end_time": "2018-07-22T12:55:43.920925Z",
     "start_time": "2018-07-22T12:55:42.123422Z"
    }
   },
   "outputs": [
    {
     "name": "stderr",
     "output_type": "stream",
     "text": [
      "Using TensorFlow backend.\n"
     ]
    }
   ],
   "source": [
    "import keras\n",
    "from keras.utils import np_utils\n",
    "from keras.datasets import mnist\n",
    "from keras.models import Sequential\n",
    "from keras.layers import Dense, Activation\n",
    "import numpy as np\n",
    "\n",
    "np.random.seed(3)"
   ]
  },
  {
   "cell_type": "markdown",
   "metadata": {},
   "source": [
    "### Define custom callback function"
   ]
  },
  {
   "cell_type": "code",
   "execution_count": 2,
   "metadata": {
    "ExecuteTime": {
     "end_time": "2018-07-22T12:55:43.953662Z",
     "start_time": "2018-07-22T12:55:43.942750Z"
    }
   },
   "outputs": [],
   "source": [
    "class CustomHistory(keras.callbacks.Callback):\n",
    "    def init(self):\n",
    "        self.train_loss = []\n",
    "        self.val_loss = []\n",
    "        self.train_acc = []\n",
    "        self.val_acc = []\n",
    "        \n",
    "    def on_epoch_end(self, batch, logs={}):\n",
    "        self.train_loss.append(logs.get('loss'))\n",
    "        self.val_loss.append(logs.get('val_loss'))\n",
    "        self.train_acc.append(logs.get('acc'))\n",
    "        self.val_acc.append(logs.get('val_acc'))"
   ]
  },
  {
   "cell_type": "markdown",
   "metadata": {},
   "source": [
    "### Dataset"
   ]
  },
  {
   "cell_type": "code",
   "execution_count": 3,
   "metadata": {
    "ExecuteTime": {
     "end_time": "2018-07-22T12:55:44.187774Z",
     "start_time": "2018-07-22T12:55:43.976974Z"
    }
   },
   "outputs": [],
   "source": [
    "(x_train, y_train), (x_test, y_test) = mnist.load_data()\n",
    "\n",
    "print(x_train.shape, y_train.shape)"
   ]
  },
  {
   "cell_type": "code",
   "execution_count": 5,
   "metadata": {
    "ExecuteTime": {
     "end_time": "2018-07-22T12:55:44.654509Z",
     "start_time": "2018-07-22T12:55:44.651533Z"
    }
   },
   "outputs": [],
   "source": [
    "x_val = x_train[50000:]\n",
    "y_val = y_train[50000:]\n",
    "x_train = x_train[:50000]\n",
    "y_train = y_train[:50000]"
   ]
  },
  {
   "cell_type": "markdown",
   "metadata": {},
   "source": [
    "### preprocessing dataset"
   ]
  },
  {
   "cell_type": "code",
   "execution_count": 6,
   "metadata": {
    "ExecuteTime": {
     "end_time": "2018-07-22T12:55:45.783183Z",
     "start_time": "2018-07-22T12:55:45.619972Z"
    }
   },
   "outputs": [],
   "source": [
    "x_train = x_train.reshape(50000, 784).astype(\"float32\") / 255.0\n",
    "x_val = x_val.reshape(10000, 784).astype(\"float32\") / 255.0\n",
    "x_test = x_test.reshape(10000, 784).astype(\"float32\") / 255.0"
   ]
  },
  {
   "cell_type": "markdown",
   "metadata": {
    "ExecuteTime": {
     "end_time": "2018-07-22T11:58:52.601665Z",
     "start_time": "2018-07-22T11:58:52.598168Z"
    }
   },
   "source": [
    "### Randomize dataset"
   ]
  },
  {
   "cell_type": "code",
   "execution_count": 7,
   "metadata": {
    "ExecuteTime": {
     "end_time": "2018-07-22T12:55:46.673011Z",
     "start_time": "2018-07-22T12:55:46.580259Z"
    }
   },
   "outputs": [],
   "source": [
    "train_rand_idx = np.arange(0, x_train.shape[0])\n",
    "val_rand_idx = np.arange(0, x_val.shape[0])\n",
    "np.random.shuffle(train_rand_idx)\n",
    "np.random.shuffle(val_rand_idx)\n",
    "\n",
    "x_train = x_train[train_rand_idx]\n",
    "y_train = y_train[train_rand_idx]\n",
    "x_val = x_val[val_rand_idx]\n",
    "y_val = y_val[val_rand_idx]"
   ]
  },
  {
   "cell_type": "markdown",
   "metadata": {},
   "source": [
    "### One-hot encoding the labels"
   ]
  },
  {
   "cell_type": "code",
   "execution_count": 8,
   "metadata": {
    "ExecuteTime": {
     "end_time": "2018-07-22T12:55:47.457592Z",
     "start_time": "2018-07-22T12:55:47.452108Z"
    }
   },
   "outputs": [],
   "source": [
    "y_train = np_utils.to_categorical(y_train)\n",
    "y_val = np_utils.to_categorical(y_val)\n",
    "y_test = np_utils.to_categorical(y_test)"
   ]
  },
  {
   "cell_type": "markdown",
   "metadata": {},
   "source": [
    "### Modeling"
   ]
  },
  {
   "cell_type": "code",
   "execution_count": 9,
   "metadata": {
    "ExecuteTime": {
     "end_time": "2018-07-22T12:55:48.399881Z",
     "start_time": "2018-07-22T12:55:48.372625Z"
    }
   },
   "outputs": [],
   "source": [
    "model = Sequential()\n",
    "model.add(Dense(units = 2, input_dim = 28*28, activation = \"relu\"))\n",
    "model.add(Dense(units = 10, activation = \"softmax\"))"
   ]
  },
  {
   "cell_type": "markdown",
   "metadata": {},
   "source": [
    "### Compile"
   ]
  },
  {
   "cell_type": "code",
   "execution_count": 10,
   "metadata": {
    "ExecuteTime": {
     "end_time": "2018-07-22T12:55:49.256760Z",
     "start_time": "2018-07-22T12:55:49.227816Z"
    }
   },
   "outputs": [],
   "source": [
    "model.compile(loss = \"categorical_crossentropy\", optimizer = \"sgd\", metrics = [\"accuracy\"])"
   ]
  },
  {
   "cell_type": "markdown",
   "metadata": {},
   "source": [
    "### Learning\n",
    "\n",
    "Basically, you can set the epoch option in model.fit (ex. model.fit(epochs = 1000)). But in this example, we set the epoch option as 1 and use the for-loop in order to use custom callback function."
   ]
  },
  {
   "cell_type": "code",
   "execution_count": 11,
   "metadata": {
    "ExecuteTime": {
     "end_time": "2018-07-22T13:23:34.639287Z",
     "start_time": "2018-07-22T12:55:50.092085Z"
    }
   },
   "outputs": [
    {
     "name": "stdout",
     "output_type": "stream",
     "text": [
      "Epoch : 0\n",
      "Train on 50000 samples, validate on 10000 samples\n",
      "Epoch 1/1\n",
      "50000/50000 [==============================] - 18s 356us/step - loss: 1.6571 - acc: 0.3595 - val_loss: 1.4322 - val_acc: 0.4336\n",
      "Epoch : 1\n",
      "Train on 50000 samples, validate on 10000 samples\n",
      "Epoch 1/1\n",
      "50000/50000 [==============================] - 17s 333us/step - loss: 1.3770 - acc: 0.4512 - val_loss: 1.3054 - val_acc: 0.4753\n",
      "Epoch : 2\n",
      "Train on 50000 samples, validate on 10000 samples\n",
      "Epoch 1/1\n",
      "50000/50000 [==============================] - 17s 341us/step - loss: 1.2902 - acc: 0.4804 - val_loss: 1.2532 - val_acc: 0.4800\n",
      "Epoch : 3\n",
      "Train on 50000 samples, validate on 10000 samples\n",
      "Epoch 1/1\n",
      "50000/50000 [==============================] - 17s 340us/step - loss: 1.2512 - acc: 0.4958 - val_loss: 1.2210 - val_acc: 0.5155\n",
      "Epoch : 4\n",
      "Train on 50000 samples, validate on 10000 samples\n",
      "Epoch 1/1\n",
      "50000/50000 [==============================] - 17s 341us/step - loss: 1.2272 - acc: 0.5108 - val_loss: 1.2011 - val_acc: 0.5208\n",
      "Epoch : 5\n",
      "Train on 50000 samples, validate on 10000 samples\n",
      "Epoch 1/1\n",
      "50000/50000 [==============================] - 17s 333us/step - loss: 1.2109 - acc: 0.5211 - val_loss: 1.1898 - val_acc: 0.5331\n",
      "Epoch : 6\n",
      "Train on 50000 samples, validate on 10000 samples\n",
      "Epoch 1/1\n",
      "50000/50000 [==============================] - 17s 336us/step - loss: 1.1984 - acc: 0.5286 - val_loss: 1.1773 - val_acc: 0.5255\n",
      "Epoch : 7\n",
      "Train on 50000 samples, validate on 10000 samples\n",
      "Epoch 1/1\n",
      "50000/50000 [==============================] - 17s 333us/step - loss: 1.1879 - acc: 0.5352 - val_loss: 1.1646 - val_acc: 0.5427\n",
      "Epoch : 8\n",
      "Train on 50000 samples, validate on 10000 samples\n",
      "Epoch 1/1\n",
      "50000/50000 [==============================] - 17s 337us/step - loss: 1.1785 - acc: 0.5367 - val_loss: 1.1608 - val_acc: 0.5495\n",
      "Epoch : 9\n",
      "Train on 50000 samples, validate on 10000 samples\n",
      "Epoch 1/1\n",
      "50000/50000 [==============================] - 17s 339us/step - loss: 1.1690 - acc: 0.5417 - val_loss: 1.1520 - val_acc: 0.5428\n",
      "Epoch : 10\n",
      "Train on 50000 samples, validate on 10000 samples\n",
      "Epoch 1/1\n",
      "50000/50000 [==============================] - 17s 337us/step - loss: 1.1629 - acc: 0.5435 - val_loss: 1.1432 - val_acc: 0.5444\n",
      "Epoch : 11\n",
      "Train on 50000 samples, validate on 10000 samples\n",
      "Epoch 1/1\n",
      "50000/50000 [==============================] - 16s 321us/step - loss: 1.1579 - acc: 0.5486 - val_loss: 1.1371 - val_acc: 0.5612\n",
      "Epoch : 12\n",
      "Train on 50000 samples, validate on 10000 samples\n",
      "Epoch 1/1\n",
      "50000/50000 [==============================] - 17s 337us/step - loss: 1.1533 - acc: 0.5518 - val_loss: 1.1298 - val_acc: 0.5601\n",
      "Epoch : 13\n",
      "Train on 50000 samples, validate on 10000 samples\n",
      "Epoch 1/1\n",
      "50000/50000 [==============================] - 17s 337us/step - loss: 1.1502 - acc: 0.5558 - val_loss: 1.1327 - val_acc: 0.5557\n",
      "Epoch : 14\n",
      "Train on 50000 samples, validate on 10000 samples\n",
      "Epoch 1/1\n",
      "50000/50000 [==============================] - 16s 321us/step - loss: 1.1464 - acc: 0.5580 - val_loss: 1.1321 - val_acc: 0.5570\n",
      "Epoch : 15\n",
      "Train on 50000 samples, validate on 10000 samples\n",
      "Epoch 1/1\n",
      "50000/50000 [==============================] - 17s 339us/step - loss: 1.1442 - acc: 0.5591 - val_loss: 1.1235 - val_acc: 0.5601\n",
      "Epoch : 16\n",
      "Train on 50000 samples, validate on 10000 samples\n",
      "Epoch 1/1\n",
      "50000/50000 [==============================] - 16s 329us/step - loss: 1.1426 - acc: 0.5599 - val_loss: 1.1267 - val_acc: 0.5700\n",
      "Epoch : 17\n",
      "Train on 50000 samples, validate on 10000 samples\n",
      "Epoch 1/1\n",
      "50000/50000 [==============================] - 17s 333us/step - loss: 1.1409 - acc: 0.5626 - val_loss: 1.1187 - val_acc: 0.5702\n",
      "Epoch : 18\n",
      "Train on 50000 samples, validate on 10000 samples\n",
      "Epoch 1/1\n",
      "50000/50000 [==============================] - 17s 337us/step - loss: 1.1387 - acc: 0.5636 - val_loss: 1.1202 - val_acc: 0.5729\n",
      "Epoch : 19\n",
      "Train on 50000 samples, validate on 10000 samples\n",
      "Epoch 1/1\n",
      "50000/50000 [==============================] - 17s 334us/step - loss: 1.1372 - acc: 0.5637 - val_loss: 1.1273 - val_acc: 0.5598\n",
      "Epoch : 20\n",
      "Train on 50000 samples, validate on 10000 samples\n",
      "Epoch 1/1\n",
      "50000/50000 [==============================] - 17s 336us/step - loss: 1.1356 - acc: 0.5628 - val_loss: 1.1346 - val_acc: 0.5654\n",
      "Epoch : 21\n",
      "Train on 50000 samples, validate on 10000 samples\n",
      "Epoch 1/1\n",
      "50000/50000 [==============================] - 17s 337us/step - loss: 1.1350 - acc: 0.5661 - val_loss: 1.1168 - val_acc: 0.5691\n",
      "Epoch : 22\n",
      "Train on 50000 samples, validate on 10000 samples\n",
      "Epoch 1/1\n",
      "50000/50000 [==============================] - 17s 337us/step - loss: 1.1331 - acc: 0.5660 - val_loss: 1.1166 - val_acc: 0.5670\n",
      "Epoch : 23\n",
      "Train on 50000 samples, validate on 10000 samples\n",
      "Epoch 1/1\n",
      "50000/50000 [==============================] - 16s 328us/step - loss: 1.1309 - acc: 0.5670 - val_loss: 1.1090 - val_acc: 0.5752\n",
      "Epoch : 24\n",
      "Train on 50000 samples, validate on 10000 samples\n",
      "Epoch 1/1\n",
      "50000/50000 [==============================] - 16s 327us/step - loss: 1.1304 - acc: 0.5680 - val_loss: 1.1055 - val_acc: 0.5771\n",
      "Epoch : 25\n",
      "Train on 50000 samples, validate on 10000 samples\n",
      "Epoch 1/1\n",
      "50000/50000 [==============================] - 17s 334us/step - loss: 1.1293 - acc: 0.5716 - val_loss: 1.1124 - val_acc: 0.5888\n",
      "Epoch : 26\n",
      "Train on 50000 samples, validate on 10000 samples\n",
      "Epoch 1/1\n",
      "50000/50000 [==============================] - 17s 337us/step - loss: 1.1271 - acc: 0.5732 - val_loss: 1.0965 - val_acc: 0.5913\n",
      "Epoch : 27\n",
      "Train on 50000 samples, validate on 10000 samples\n",
      "Epoch 1/1\n",
      "50000/50000 [==============================] - 17s 336us/step - loss: 1.1214 - acc: 0.5907 - val_loss: 1.0904 - val_acc: 0.6045\n",
      "Epoch : 28\n",
      "Train on 50000 samples, validate on 10000 samples\n",
      "Epoch 1/1\n",
      "50000/50000 [==============================] - 17s 335us/step - loss: 1.1118 - acc: 0.6022 - val_loss: 1.0744 - val_acc: 0.6253\n",
      "Epoch : 29\n",
      "Train on 50000 samples, validate on 10000 samples\n",
      "Epoch 1/1\n",
      "50000/50000 [==============================] - 16s 324us/step - loss: 1.1043 - acc: 0.6071 - val_loss: 1.0732 - val_acc: 0.6256\n",
      "Epoch : 30\n",
      "Train on 50000 samples, validate on 10000 samples\n",
      "Epoch 1/1\n",
      "50000/50000 [==============================] - 16s 328us/step - loss: 1.0999 - acc: 0.6114 - val_loss: 1.0706 - val_acc: 0.6260\n",
      "Epoch : 31\n",
      "Train on 50000 samples, validate on 10000 samples\n",
      "Epoch 1/1\n",
      "50000/50000 [==============================] - 17s 336us/step - loss: 1.0965 - acc: 0.6129 - val_loss: 1.0711 - val_acc: 0.6221\n",
      "Epoch : 32\n",
      "Train on 50000 samples, validate on 10000 samples\n",
      "Epoch 1/1\n",
      "50000/50000 [==============================] - 17s 338us/step - loss: 1.0938 - acc: 0.6126 - val_loss: 1.0617 - val_acc: 0.6443\n",
      "Epoch : 33\n",
      "Train on 50000 samples, validate on 10000 samples\n",
      "Epoch 1/1\n",
      "50000/50000 [==============================] - 17s 335us/step - loss: 1.0922 - acc: 0.6152 - val_loss: 1.0614 - val_acc: 0.6338\n",
      "Epoch : 34\n",
      "Train on 50000 samples, validate on 10000 samples\n",
      "Epoch 1/1\n",
      "50000/50000 [==============================] - 17s 333us/step - loss: 1.0904 - acc: 0.6130 - val_loss: 1.0578 - val_acc: 0.6294\n",
      "Epoch : 35\n",
      "Train on 50000 samples, validate on 10000 samples\n",
      "Epoch 1/1\n",
      "50000/50000 [==============================] - 16s 330us/step - loss: 1.0891 - acc: 0.6160 - val_loss: 1.0613 - val_acc: 0.6228\n",
      "Epoch : 36\n",
      "Train on 50000 samples, validate on 10000 samples\n",
      "Epoch 1/1\n",
      "50000/50000 [==============================] - 16s 327us/step - loss: 1.0878 - acc: 0.6147 - val_loss: 1.0707 - val_acc: 0.6230\n",
      "Epoch : 37\n",
      "Train on 50000 samples, validate on 10000 samples\n",
      "Epoch 1/1\n",
      "50000/50000 [==============================] - 16s 330us/step - loss: 1.0868 - acc: 0.6135 - val_loss: 1.0569 - val_acc: 0.6319\n",
      "Epoch : 38\n",
      "Train on 50000 samples, validate on 10000 samples\n",
      "Epoch 1/1\n",
      "50000/50000 [==============================] - 17s 335us/step - loss: 1.0853 - acc: 0.6147 - val_loss: 1.0479 - val_acc: 0.6326\n",
      "Epoch : 39\n",
      "Train on 50000 samples, validate on 10000 samples\n",
      "Epoch 1/1\n",
      "50000/50000 [==============================] - 17s 338us/step - loss: 1.0839 - acc: 0.6173 - val_loss: 1.0628 - val_acc: 0.6218\n",
      "Epoch : 40\n",
      "Train on 50000 samples, validate on 10000 samples\n",
      "Epoch 1/1\n",
      "50000/50000 [==============================] - 17s 340us/step - loss: 1.0828 - acc: 0.6139 - val_loss: 1.0508 - val_acc: 0.6278\n",
      "Epoch : 41\n",
      "Train on 50000 samples, validate on 10000 samples\n",
      "Epoch 1/1\n"
     ]
    },
    {
     "name": "stdout",
     "output_type": "stream",
     "text": [
      "50000/50000 [==============================] - 17s 334us/step - loss: 1.0817 - acc: 0.6161 - val_loss: 1.0510 - val_acc: 0.6324\n",
      "Epoch : 42\n",
      "Train on 50000 samples, validate on 10000 samples\n",
      "Epoch 1/1\n",
      "50000/50000 [==============================] - 16s 328us/step - loss: 1.0810 - acc: 0.6152 - val_loss: 1.0524 - val_acc: 0.6250\n",
      "Epoch : 43\n",
      "Train on 50000 samples, validate on 10000 samples\n",
      "Epoch 1/1\n",
      "50000/50000 [==============================] - 17s 334us/step - loss: 1.0805 - acc: 0.6153 - val_loss: 1.0531 - val_acc: 0.6210\n",
      "Epoch : 44\n",
      "Train on 50000 samples, validate on 10000 samples\n",
      "Epoch 1/1\n",
      "50000/50000 [==============================] - 16s 330us/step - loss: 1.0790 - acc: 0.6187 - val_loss: 1.0538 - val_acc: 0.6205\n",
      "Epoch : 45\n",
      "Train on 50000 samples, validate on 10000 samples\n",
      "Epoch 1/1\n",
      "50000/50000 [==============================] - 16s 328us/step - loss: 1.0786 - acc: 0.6169 - val_loss: 1.0678 - val_acc: 0.6081\n",
      "Epoch : 46\n",
      "Train on 50000 samples, validate on 10000 samples\n",
      "Epoch 1/1\n",
      "50000/50000 [==============================] - 17s 337us/step - loss: 1.0771 - acc: 0.6166 - val_loss: 1.0447 - val_acc: 0.6251\n",
      "Epoch : 47\n",
      "Train on 50000 samples, validate on 10000 samples\n",
      "Epoch 1/1\n",
      "50000/50000 [==============================] - 17s 338us/step - loss: 1.0768 - acc: 0.6173 - val_loss: 1.0547 - val_acc: 0.6239\n",
      "Epoch : 48\n",
      "Train on 50000 samples, validate on 10000 samples\n",
      "Epoch 1/1\n",
      "50000/50000 [==============================] - 16s 312us/step - loss: 1.0755 - acc: 0.6176 - val_loss: 1.0498 - val_acc: 0.6254\n",
      "Epoch : 49\n",
      "Train on 50000 samples, validate on 10000 samples\n",
      "Epoch 1/1\n",
      "50000/50000 [==============================] - 17s 332us/step - loss: 1.0748 - acc: 0.6154 - val_loss: 1.0620 - val_acc: 0.6143\n",
      "Epoch : 50\n",
      "Train on 50000 samples, validate on 10000 samples\n",
      "Epoch 1/1\n",
      "50000/50000 [==============================] - 17s 336us/step - loss: 1.0746 - acc: 0.6172 - val_loss: 1.0437 - val_acc: 0.6340\n",
      "Epoch : 51\n",
      "Train on 50000 samples, validate on 10000 samples\n",
      "Epoch 1/1\n",
      "50000/50000 [==============================] - 17s 335us/step - loss: 1.0737 - acc: 0.6186 - val_loss: 1.0483 - val_acc: 0.6281\n",
      "Epoch : 52\n",
      "Train on 50000 samples, validate on 10000 samples\n",
      "Epoch 1/1\n",
      "50000/50000 [==============================] - 17s 332us/step - loss: 1.0730 - acc: 0.6184 - val_loss: 1.0449 - val_acc: 0.6273\n",
      "Epoch : 53\n",
      "Train on 50000 samples, validate on 10000 samples\n",
      "Epoch 1/1\n",
      "50000/50000 [==============================] - 17s 332us/step - loss: 1.0730 - acc: 0.6184 - val_loss: 1.0446 - val_acc: 0.6209\n",
      "Epoch : 54\n",
      "Train on 50000 samples, validate on 10000 samples\n",
      "Epoch 1/1\n",
      "50000/50000 [==============================] - 17s 341us/step - loss: 1.0718 - acc: 0.6183 - val_loss: 1.0444 - val_acc: 0.6414\n",
      "Epoch : 55\n",
      "Train on 50000 samples, validate on 10000 samples\n",
      "Epoch 1/1\n",
      "50000/50000 [==============================] - 17s 330us/step - loss: 1.0713 - acc: 0.6194 - val_loss: 1.0584 - val_acc: 0.6139\n",
      "Epoch : 56\n",
      "Train on 50000 samples, validate on 10000 samples\n",
      "Epoch 1/1\n",
      "50000/50000 [==============================] - 17s 335us/step - loss: 1.0710 - acc: 0.6195 - val_loss: 1.0438 - val_acc: 0.6326\n",
      "Epoch : 57\n",
      "Train on 50000 samples, validate on 10000 samples\n",
      "Epoch 1/1\n",
      "50000/50000 [==============================] - 17s 337us/step - loss: 1.0698 - acc: 0.6204 - val_loss: 1.0426 - val_acc: 0.6230\n",
      "Epoch : 58\n",
      "Train on 50000 samples, validate on 10000 samples\n",
      "Epoch 1/1\n",
      "50000/50000 [==============================] - 17s 335us/step - loss: 1.0696 - acc: 0.6206 - val_loss: 1.0572 - val_acc: 0.6142\n",
      "Epoch : 59\n",
      "Train on 50000 samples, validate on 10000 samples\n",
      "Epoch 1/1\n",
      "50000/50000 [==============================] - 17s 336us/step - loss: 1.0702 - acc: 0.6176 - val_loss: 1.0397 - val_acc: 0.6325\n",
      "Epoch : 60\n",
      "Train on 50000 samples, validate on 10000 samples\n",
      "Epoch 1/1\n",
      "50000/50000 [==============================] - 17s 331us/step - loss: 1.0687 - acc: 0.6198 - val_loss: 1.0413 - val_acc: 0.6375\n",
      "Epoch : 61\n",
      "Train on 50000 samples, validate on 10000 samples\n",
      "Epoch 1/1\n",
      "50000/50000 [==============================] - 17s 334us/step - loss: 1.0690 - acc: 0.6189 - val_loss: 1.0428 - val_acc: 0.6220\n",
      "Epoch : 62\n",
      "Train on 50000 samples, validate on 10000 samples\n",
      "Epoch 1/1\n",
      "50000/50000 [==============================] - 17s 336us/step - loss: 1.0685 - acc: 0.6177 - val_loss: 1.0392 - val_acc: 0.6277\n",
      "Epoch : 63\n",
      "Train on 50000 samples, validate on 10000 samples\n",
      "Epoch 1/1\n",
      "50000/50000 [==============================] - 17s 336us/step - loss: 1.0681 - acc: 0.6181 - val_loss: 1.0340 - val_acc: 0.6382\n",
      "Epoch : 64\n",
      "Train on 50000 samples, validate on 10000 samples\n",
      "Epoch 1/1\n",
      "50000/50000 [==============================] - 17s 333us/step - loss: 1.0675 - acc: 0.6199 - val_loss: 1.0395 - val_acc: 0.6233\n",
      "Epoch : 65\n",
      "Train on 50000 samples, validate on 10000 samples\n",
      "Epoch 1/1\n",
      "50000/50000 [==============================] - 17s 334us/step - loss: 1.0672 - acc: 0.6208 - val_loss: 1.0368 - val_acc: 0.6169\n",
      "Epoch : 66\n",
      "Train on 50000 samples, validate on 10000 samples\n",
      "Epoch 1/1\n",
      "50000/50000 [==============================] - 17s 334us/step - loss: 1.0672 - acc: 0.6198 - val_loss: 1.0460 - val_acc: 0.6259\n",
      "Epoch : 67\n",
      "Train on 50000 samples, validate on 10000 samples\n",
      "Epoch 1/1\n",
      "50000/50000 [==============================] - 16s 311us/step - loss: 1.0665 - acc: 0.6204 - val_loss: 1.0340 - val_acc: 0.6425\n",
      "Epoch : 68\n",
      "Train on 50000 samples, validate on 10000 samples\n",
      "Epoch 1/1\n",
      "50000/50000 [==============================] - 17s 332us/step - loss: 1.0668 - acc: 0.6199 - val_loss: 1.0432 - val_acc: 0.6250\n",
      "Epoch : 69\n",
      "Train on 50000 samples, validate on 10000 samples\n",
      "Epoch 1/1\n",
      "50000/50000 [==============================] - 16s 327us/step - loss: 1.0666 - acc: 0.6194 - val_loss: 1.0384 - val_acc: 0.6264\n",
      "Epoch : 70\n",
      "Train on 50000 samples, validate on 10000 samples\n",
      "Epoch 1/1\n",
      "50000/50000 [==============================] - 17s 333us/step - loss: 1.0653 - acc: 0.6183 - val_loss: 1.0482 - val_acc: 0.6227\n",
      "Epoch : 71\n",
      "Train on 50000 samples, validate on 10000 samples\n",
      "Epoch 1/1\n",
      "50000/50000 [==============================] - 17s 332us/step - loss: 1.0648 - acc: 0.6195 - val_loss: 1.0689 - val_acc: 0.6123\n",
      "Epoch : 72\n",
      "Train on 50000 samples, validate on 10000 samples\n",
      "Epoch 1/1\n",
      "50000/50000 [==============================] - 16s 312us/step - loss: 1.0650 - acc: 0.6188 - val_loss: 1.0553 - val_acc: 0.6124\n",
      "Epoch : 73\n",
      "Train on 50000 samples, validate on 10000 samples\n",
      "Epoch 1/1\n",
      "50000/50000 [==============================] - 16s 320us/step - loss: 1.0648 - acc: 0.6194 - val_loss: 1.0650 - val_acc: 0.6157\n",
      "Epoch : 74\n",
      "Train on 50000 samples, validate on 10000 samples\n",
      "Epoch 1/1\n",
      "50000/50000 [==============================] - 17s 332us/step - loss: 1.0642 - acc: 0.6212 - val_loss: 1.0424 - val_acc: 0.6286\n",
      "Epoch : 75\n",
      "Train on 50000 samples, validate on 10000 samples\n",
      "Epoch 1/1\n",
      "50000/50000 [==============================] - 17s 336us/step - loss: 1.0643 - acc: 0.6213 - val_loss: 1.0417 - val_acc: 0.6438\n",
      "Epoch : 76\n",
      "Train on 50000 samples, validate on 10000 samples\n",
      "Epoch 1/1\n",
      "50000/50000 [==============================] - 17s 337us/step - loss: 1.0640 - acc: 0.6191 - val_loss: 1.0403 - val_acc: 0.6370\n",
      "Epoch : 77\n",
      "Train on 50000 samples, validate on 10000 samples\n",
      "Epoch 1/1\n",
      "50000/50000 [==============================] - 17s 335us/step - loss: 1.0638 - acc: 0.6198 - val_loss: 1.0384 - val_acc: 0.6314\n",
      "Epoch : 78\n",
      "Train on 50000 samples, validate on 10000 samples\n",
      "Epoch 1/1\n",
      "50000/50000 [==============================] - 17s 331us/step - loss: 1.0633 - acc: 0.6216 - val_loss: 1.0417 - val_acc: 0.6293\n",
      "Epoch : 79\n",
      "Train on 50000 samples, validate on 10000 samples\n",
      "Epoch 1/1\n",
      "50000/50000 [==============================] - 17s 332us/step - loss: 1.0637 - acc: 0.6194 - val_loss: 1.0374 - val_acc: 0.6330\n",
      "Epoch : 80\n",
      "Train on 50000 samples, validate on 10000 samples\n",
      "Epoch 1/1\n",
      "50000/50000 [==============================] - 16s 325us/step - loss: 1.0630 - acc: 0.6200 - val_loss: 1.0386 - val_acc: 0.6242\n",
      "Epoch : 81\n",
      "Train on 50000 samples, validate on 10000 samples\n",
      "Epoch 1/1\n",
      "50000/50000 [==============================] - 17s 338us/step - loss: 1.0635 - acc: 0.6208 - val_loss: 1.0404 - val_acc: 0.6279\n",
      "Epoch : 82\n",
      "Train on 50000 samples, validate on 10000 samples\n",
      "Epoch 1/1\n"
     ]
    },
    {
     "name": "stdout",
     "output_type": "stream",
     "text": [
      "50000/50000 [==============================] - 17s 334us/step - loss: 1.0624 - acc: 0.6207 - val_loss: 1.0373 - val_acc: 0.6245\n",
      "Epoch : 83\n",
      "Train on 50000 samples, validate on 10000 samples\n",
      "Epoch 1/1\n",
      "50000/50000 [==============================] - 17s 334us/step - loss: 1.0623 - acc: 0.6208 - val_loss: 1.0338 - val_acc: 0.6328\n",
      "Epoch : 84\n",
      "Train on 50000 samples, validate on 10000 samples\n",
      "Epoch 1/1\n",
      "50000/50000 [==============================] - 17s 335us/step - loss: 1.0625 - acc: 0.6222 - val_loss: 1.0397 - val_acc: 0.6194\n",
      "Epoch : 85\n",
      "Train on 50000 samples, validate on 10000 samples\n",
      "Epoch 1/1\n",
      "50000/50000 [==============================] - 16s 325us/step - loss: 1.0625 - acc: 0.6189 - val_loss: 1.0303 - val_acc: 0.6368\n",
      "Epoch : 86\n",
      "Train on 50000 samples, validate on 10000 samples\n",
      "Epoch 1/1\n",
      "50000/50000 [==============================] - 16s 320us/step - loss: 1.0626 - acc: 0.6208 - val_loss: 1.0335 - val_acc: 0.6363\n",
      "Epoch : 87\n",
      "Train on 50000 samples, validate on 10000 samples\n",
      "Epoch 1/1\n",
      "50000/50000 [==============================] - 17s 334us/step - loss: 1.0618 - acc: 0.6199 - val_loss: 1.0343 - val_acc: 0.6401\n",
      "Epoch : 88\n",
      "Train on 50000 samples, validate on 10000 samples\n",
      "Epoch 1/1\n",
      "50000/50000 [==============================] - 17s 334us/step - loss: 1.0610 - acc: 0.6225 - val_loss: 1.0378 - val_acc: 0.6223\n",
      "Epoch : 89\n",
      "Train on 50000 samples, validate on 10000 samples\n",
      "Epoch 1/1\n",
      "50000/50000 [==============================] - 17s 334us/step - loss: 1.0608 - acc: 0.6227 - val_loss: 1.0452 - val_acc: 0.6214\n",
      "Epoch : 90\n",
      "Train on 50000 samples, validate on 10000 samples\n",
      "Epoch 1/1\n",
      "50000/50000 [==============================] - 17s 333us/step - loss: 1.0619 - acc: 0.6203 - val_loss: 1.0379 - val_acc: 0.6225\n",
      "Epoch : 91\n",
      "Train on 50000 samples, validate on 10000 samples\n",
      "Epoch 1/1\n",
      "50000/50000 [==============================] - 17s 332us/step - loss: 1.0608 - acc: 0.6214 - val_loss: 1.0367 - val_acc: 0.6404\n",
      "Epoch : 92\n",
      "Train on 50000 samples, validate on 10000 samples\n",
      "Epoch 1/1\n",
      "50000/50000 [==============================] - 17s 338us/step - loss: 1.0608 - acc: 0.6223 - val_loss: 1.0330 - val_acc: 0.6366\n",
      "Epoch : 93\n",
      "Train on 50000 samples, validate on 10000 samples\n",
      "Epoch 1/1\n",
      "50000/50000 [==============================] - 16s 328us/step - loss: 1.0607 - acc: 0.6229 - val_loss: 1.0444 - val_acc: 0.6356\n",
      "Epoch : 94\n",
      "Train on 50000 samples, validate on 10000 samples\n",
      "Epoch 1/1\n",
      "50000/50000 [==============================] - 17s 336us/step - loss: 1.0605 - acc: 0.6220 - val_loss: 1.0324 - val_acc: 0.6407\n",
      "Epoch : 95\n",
      "Train on 50000 samples, validate on 10000 samples\n",
      "Epoch 1/1\n",
      "50000/50000 [==============================] - 17s 335us/step - loss: 1.0609 - acc: 0.6209 - val_loss: 1.0405 - val_acc: 0.6306\n",
      "Epoch : 96\n",
      "Train on 50000 samples, validate on 10000 samples\n",
      "Epoch 1/1\n",
      "50000/50000 [==============================] - 17s 332us/step - loss: 1.0603 - acc: 0.6216 - val_loss: 1.0351 - val_acc: 0.6411\n",
      "Epoch : 97\n",
      "Train on 50000 samples, validate on 10000 samples\n",
      "Epoch 1/1\n",
      "50000/50000 [==============================] - 16s 325us/step - loss: 1.0602 - acc: 0.6219 - val_loss: 1.0411 - val_acc: 0.6287\n",
      "Epoch : 98\n",
      "Train on 50000 samples, validate on 10000 samples\n",
      "Epoch 1/1\n",
      "50000/50000 [==============================] - 17s 334us/step - loss: 1.0601 - acc: 0.6211 - val_loss: 1.0338 - val_acc: 0.6238\n",
      "Epoch : 99\n",
      "Train on 50000 samples, validate on 10000 samples\n",
      "Epoch 1/1\n",
      "50000/50000 [==============================] - 17s 337us/step - loss: 1.0597 - acc: 0.6202 - val_loss: 1.0356 - val_acc: 0.6299\n"
     ]
    }
   ],
   "source": [
    "custom_hist = CustomHistory()\n",
    "custom_hist.init()\n",
    "\n",
    "for epoch in range(100):\n",
    "    print(\"Epoch : {}\".format(epoch))\n",
    "    model.fit(x_train, y_train, batch_size=10, epochs=1, validation_data=(x_val, y_val), callbacks=[custom_hist])"
   ]
  },
  {
   "cell_type": "code",
   "execution_count": 14,
   "metadata": {
    "ExecuteTime": {
     "end_time": "2018-07-22T13:32:45.263060Z",
     "start_time": "2018-07-22T13:32:45.112276Z"
    }
   },
   "outputs": [
    {
     "data": {
      "text/plain": [
       "<matplotlib.legend.Legend at 0x1efdf679320>"
      ]
     },
     "execution_count": 14,
     "metadata": {},
     "output_type": "execute_result"
    },
    {
     "data": {
      "image/png": "[encoded data removed]",
      "text/plain": [
       "<Figure size 432x288 with 2 Axes>"
      ]
     },
     "metadata": {},
     "output_type": "display_data"
    }
   ],
   "source": [
    "import matplotlib.pyplot as plt\n",
    "%matplotlib inline\n",
    "fig, loss_ax = plt.subplots()\n",
    "\n",
    "acc_ax = loss_ax.twinx()\n",
    "\n",
    "loss_ax.plot(custom_hist.train_loss, 'y', label = 'train loss')\n",
    "loss_ax.plot(custom_hist.val_loss, 'r', label = 'val loss')\n",
    "\n",
    "acc_ax.plot(custom_hist.train_acc, 'b', label = 'train acc')\n",
    "acc_ax.plot(custom_hist.val_acc, 'g', label = 'val acc')\n",
    "\n",
    "loss_ax.set_xlabel('epoch')\n",
    "loss_ax.set_ylabel('loss')\n",
    "acc_ax.set_ylabel('accuaracy')\n",
    "\n",
    "loss_ax.legend(loc = 'upper left')\n",
    "acc_ax.legend(loc = 'lower left')"
   ]
  },
  {
   "cell_type": "code",
   "execution_count": null,
   "metadata": {},
   "outputs": [],
   "source": []
  }
 ],
 "metadata": {
  "anaconda-cloud": {},
  "kernelspec": {
   "display_name": "Python [default]",
   "language": "python",
   "name": "python3"
  },
  "language_info": {
   "codemirror_mode": {
    "name": "ipython",
    "version": 3
   },
   "file_extension": ".py",
   "mimetype": "text/x-python",
   "name": "python",
   "nbconvert_exporter": "python",
   "pygments_lexer": "ipython3",
   "version": "3.5.2"
  },
  "varInspector": {
   "cols": {
    "lenName": 16,
    "lenType": 16,
    "lenVar": 40
   },
   "kernels_config": {
    "python": {
     "delete_cmd_postfix": "",
     "delete_cmd_prefix": "del ",
     "library": "var_list.py",
     "varRefreshCmd": "print(var_dic_list())"
    },
    "r": {
     "delete_cmd_postfix": ") ",
     "delete_cmd_prefix": "rm(",
     "library": "var_list.r",
     "varRefreshCmd": "cat(var_dic_list()) "
    }
   },
   "types_to_exclude": [
    "module",
    "function",
    "builtin_function_or_method",
    "instance",
    "_Feature"
   ],
   "window_display": false
  }
 },
 "nbformat": 4,
 "nbformat_minor": 1
}
