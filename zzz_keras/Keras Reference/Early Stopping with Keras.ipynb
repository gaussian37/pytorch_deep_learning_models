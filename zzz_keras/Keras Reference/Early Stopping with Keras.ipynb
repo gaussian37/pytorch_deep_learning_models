{
 "cells": [
  {
   "cell_type": "markdown",
   "metadata": {
    "ExecuteTime": {
     "end_time": "2018-07-24T21:35:01.148010Z",
     "start_time": "2018-07-24T21:34:50.484000Z"
    }
   },
   "source": [
    "# Early Stopping with Keras"
   ]
  },
  {
   "cell_type": "markdown",
   "metadata": {},
   "source": [
    "In order to early stop the learning, We can use 'EarlyStopping()' function. This is the callback function and we can use it when the learning algorithm can not improve the learning status. \n",
    "\n",
    "Callback function means that when you call a function, callback function calls specific function which I designated.\n",
    "\n",
    "In kears, EarlyStopping() callback function is called in fit() function.\n",
    "\n",
    "EarlyStopping() callback function has many option. Let's check those out!\n",
    "\n",
    "+ monitor\n",
    "    - Items to observe. **\"val_loss\", \"val_acc\"**\n",
    "  \n",
    "+ min_delta\n",
    "    - It indicates the **minimum amount of change** to be determined to be improving. If the amount of changing is less than min_delta, it is judged that there is no improvement.\n",
    "\n",
    "+ patience\n",
    "    - Specify **how long to wait** the non-improvement epoch and not to stop immediately even though there is no improvement. If you set this value as 10, learning ends when consecutive 10 times no improvement happens."
   ]
  },
  {
   "cell_type": "markdown",
   "metadata": {},
   "source": [
    "### Import package"
   ]
  },
  {
   "cell_type": "code",
   "execution_count": 1,
   "metadata": {
    "ExecuteTime": {
     "end_time": "2018-07-25T03:42:07.642189Z",
     "start_time": "2018-07-25T03:42:02.307710Z"
    }
   },
   "outputs": [
    {
     "name": "stderr",
     "output_type": "stream",
     "text": [
      "Using TensorFlow backend.\n"
     ]
    }
   ],
   "source": [
    "from keras.utils import np_utils\n",
    "from keras.datasets import fashion_mnist\n",
    "from keras.models import Sequential\n",
    "from keras.layers import Dense, Activation\n",
    "import numpy as np\n",
    "from keras.regularizers import l2\n",
    "np.random.seed(3)"
   ]
  },
  {
   "cell_type": "markdown",
   "metadata": {},
   "source": [
    "### Dataset"
   ]
  },
  {
   "cell_type": "code",
   "execution_count": 2,
   "metadata": {
    "ExecuteTime": {
     "end_time": "2018-07-25T03:42:11.423713Z",
     "start_time": "2018-07-25T03:42:11.131074Z"
    }
   },
   "outputs": [],
   "source": [
    "(x_train, y_train), (x_test, y_test) = fashion_mnist.load_data()"
   ]
  },
  {
   "cell_type": "markdown",
   "metadata": {},
   "source": [
    "### split the dataset"
   ]
  },
  {
   "cell_type": "code",
   "execution_count": 3,
   "metadata": {
    "ExecuteTime": {
     "end_time": "2018-07-25T03:42:12.231070Z",
     "start_time": "2018-07-25T03:42:12.227072Z"
    }
   },
   "outputs": [],
   "source": [
    "x_val = x_train[50000:]\n",
    "y_val = y_train[50000:]\n",
    "x_train = x_train[:50000]\n",
    "y_train = y_train[:50000]"
   ]
  },
  {
   "cell_type": "markdown",
   "metadata": {},
   "source": [
    "### preprocessing"
   ]
  },
  {
   "cell_type": "code",
   "execution_count": 4,
   "metadata": {
    "ExecuteTime": {
     "end_time": "2018-07-25T03:42:14.007377Z",
     "start_time": "2018-07-25T03:42:13.851136Z"
    }
   },
   "outputs": [],
   "source": [
    "x_train = x_train.reshape(50000, 784).astype(\"float32\") / 255.0\n",
    "x_val = x_val.reshape(10000, 784).astype(\"float32\") / 255.0\n",
    "x_test = x_test.reshape(10000, 784).astype(\"float32\") / 255.0"
   ]
  },
  {
   "cell_type": "markdown",
   "metadata": {},
   "source": [
    "### One-hot encoding process"
   ]
  },
  {
   "cell_type": "code",
   "execution_count": 5,
   "metadata": {
    "ExecuteTime": {
     "end_time": "2018-07-25T03:42:14.937125Z",
     "start_time": "2018-07-25T03:42:14.931173Z"
    }
   },
   "outputs": [],
   "source": [
    "y_train = np_utils.to_categorical(y_train)\n",
    "y_val = np_utils.to_categorical(y_val)\n",
    "y_test = np_utils.to_categorical(y_test)"
   ]
  },
  {
   "cell_type": "markdown",
   "metadata": {},
   "source": [
    "### Modeling"
   ]
  },
  {
   "cell_type": "code",
   "execution_count": 6,
   "metadata": {
    "ExecuteTime": {
     "end_time": "2018-07-25T03:42:16.224308Z",
     "start_time": "2018-07-25T03:42:16.162828Z"
    }
   },
   "outputs": [
    {
     "name": "stderr",
     "output_type": "stream",
     "text": [
      "C:\\Users\\infoe\\Anaconda3\\lib\\site-packages\\ipykernel\\__main__.py:2: UserWarning: Update your `Dense` call to the Keras 2 API: `Dense(kernel_regularizer=<keras.reg..., input_dim=784, activation=\"relu\", units=50)`\n",
      "  from ipykernel import kernelapp as app\n",
      "C:\\Users\\infoe\\Anaconda3\\lib\\site-packages\\ipykernel\\__main__.py:3: UserWarning: Update your `Dense` call to the Keras 2 API: `Dense(kernel_regularizer=<keras.reg..., activation=\"relu\", units=30)`\n",
      "  app.launch_new_instance()\n",
      "C:\\Users\\infoe\\Anaconda3\\lib\\site-packages\\ipykernel\\__main__.py:4: UserWarning: Update your `Dense` call to the Keras 2 API: `Dense(kernel_regularizer=<keras.reg..., activation=\"relu\", units=10)`\n",
      "C:\\Users\\infoe\\Anaconda3\\lib\\site-packages\\ipykernel\\__main__.py:5: UserWarning: Update your `Dense` call to the Keras 2 API: `Dense(kernel_regularizer=<keras.reg..., activation=\"softmax\", units=10)`\n"
     ]
    }
   ],
   "source": [
    "model = Sequential()\n",
    "model.add(Dense(units = 50, input_dim = 28*28, activation = \"relu\", W_regularizer=l2(0.01)))\n",
    "model.add(Dense(units = 30, activation= \"relu\", W_regularizer=l2(0.01)))\n",
    "model.add(Dense(units= 10, activation=\"relu\",W_regularizer=l2(0.01)))\n",
    "model.add(Dense(units= 10, activation=\"softmax\",W_regularizer=l2(0.01)))\n",
    "\n",
    "model.compile(loss = \"categorical_crossentropy\", optimizer= \"adam\", metrics=[\"accuracy\"])"
   ]
  },
  {
   "cell_type": "markdown",
   "metadata": {},
   "source": [
    "### Learning"
   ]
  },
  {
   "cell_type": "code",
   "execution_count": 7,
   "metadata": {
    "ExecuteTime": {
     "end_time": "2018-07-25T03:54:08.175306Z",
     "start_time": "2018-07-25T03:42:20.787520Z"
    }
   },
   "outputs": [
    {
     "name": "stdout",
     "output_type": "stream",
     "text": [
      "Train on 50000 samples, validate on 10000 samples\n",
      "Epoch 1/1000\n",
      "50000/50000 [==============================] - 20s 408us/step - loss: 1.1935 - acc: 0.7163 - val_loss: 1.1089 - val_acc: 0.7328\n",
      "Epoch 2/1000\n",
      "50000/50000 [==============================] - 19s 378us/step - loss: 0.9925 - acc: 0.7760 - val_loss: 0.9935 - val_acc: 0.7491\n",
      "Epoch 3/1000\n",
      "50000/50000 [==============================] - 18s 368us/step - loss: 0.9630 - acc: 0.7832 - val_loss: 0.9464 - val_acc: 0.7857\n",
      "Epoch 4/1000\n",
      "50000/50000 [==============================] - 19s 381us/step - loss: 0.9452 - acc: 0.7895 - val_loss: 0.9294 - val_acc: 0.7882\n",
      "Epoch 5/1000\n",
      "50000/50000 [==============================] - 19s 380us/step - loss: 0.9331 - acc: 0.7936 - val_loss: 0.9184 - val_acc: 0.7937\n",
      "Epoch 6/1000\n",
      "50000/50000 [==============================] - 19s 373us/step - loss: 0.9272 - acc: 0.7940 - val_loss: 0.9477 - val_acc: 0.7880\n",
      "Epoch 7/1000\n",
      "50000/50000 [==============================] - 19s 374us/step - loss: 0.9215 - acc: 0.7966 - val_loss: 0.9514 - val_acc: 0.7844\n",
      "Epoch 8/1000\n",
      "50000/50000 [==============================] - 19s 371us/step - loss: 0.9176 - acc: 0.7959 - val_loss: 0.9334 - val_acc: 0.7860\n",
      "Epoch 9/1000\n",
      "50000/50000 [==============================] - 18s 369us/step - loss: 0.9144 - acc: 0.7979 - val_loss: 0.9254 - val_acc: 0.7841\n",
      "Epoch 10/1000\n",
      "50000/50000 [==============================] - 19s 372us/step - loss: 0.9141 - acc: 0.7979 - val_loss: 0.9010 - val_acc: 0.8018\n",
      "Epoch 11/1000\n",
      "50000/50000 [==============================] - 18s 370us/step - loss: 0.9135 - acc: 0.7950 - val_loss: 0.9080 - val_acc: 0.8000\n",
      "Epoch 12/1000\n",
      "50000/50000 [==============================] - 18s 369us/step - loss: 0.9127 - acc: 0.7977 - val_loss: 0.9341 - val_acc: 0.7877\n",
      "Epoch 13/1000\n",
      "50000/50000 [==============================] - 18s 366us/step - loss: 0.9108 - acc: 0.7972 - val_loss: 0.9427 - val_acc: 0.7824\n",
      "Epoch 14/1000\n",
      "50000/50000 [==============================] - 19s 374us/step - loss: 0.9102 - acc: 0.7975 - val_loss: 0.9332 - val_acc: 0.7862\n",
      "Epoch 15/1000\n",
      "50000/50000 [==============================] - 19s 377us/step - loss: 0.9117 - acc: 0.7978 - val_loss: 0.9249 - val_acc: 0.7971\n",
      "Epoch 16/1000\n",
      "50000/50000 [==============================] - 19s 371us/step - loss: 0.9091 - acc: 0.7983 - val_loss: 0.9147 - val_acc: 0.7972\n",
      "Epoch 17/1000\n",
      "50000/50000 [==============================] - 19s 374us/step - loss: 0.9098 - acc: 0.7963 - val_loss: 0.9052 - val_acc: 0.7969\n",
      "Epoch 18/1000\n",
      "50000/50000 [==============================] - 19s 373us/step - loss: 0.9082 - acc: 0.7975 - val_loss: 0.8882 - val_acc: 0.8037\n",
      "Epoch 19/1000\n",
      "50000/50000 [==============================] - 18s 369us/step - loss: 0.9069 - acc: 0.7985 - val_loss: 0.9150 - val_acc: 0.7958\n",
      "Epoch 20/1000\n",
      "50000/50000 [==============================] - 19s 373us/step - loss: 0.9061 - acc: 0.7982 - val_loss: 0.9164 - val_acc: 0.7956\n",
      "Epoch 21/1000\n",
      "50000/50000 [==============================] - 18s 368us/step - loss: 0.9072 - acc: 0.7966 - val_loss: 0.9089 - val_acc: 0.7934\n",
      "Epoch 22/1000\n",
      "50000/50000 [==============================] - 18s 368us/step - loss: 0.9050 - acc: 0.7981 - val_loss: 0.9000 - val_acc: 0.7921\n",
      "Epoch 23/1000\n",
      "50000/50000 [==============================] - 18s 362us/step - loss: 0.9043 - acc: 0.7964 - val_loss: 0.9095 - val_acc: 0.7937\n",
      "Epoch 24/1000\n",
      "50000/50000 [==============================] - 18s 366us/step - loss: 0.9057 - acc: 0.7989 - val_loss: 0.9293 - val_acc: 0.7901\n",
      "Epoch 25/1000\n",
      "50000/50000 [==============================] - 19s 371us/step - loss: 0.9050 - acc: 0.7977 - val_loss: 0.8902 - val_acc: 0.8019\n",
      "Epoch 26/1000\n",
      "50000/50000 [==============================] - 19s 372us/step - loss: 0.9046 - acc: 0.7976 - val_loss: 0.9003 - val_acc: 0.7956\n",
      "Epoch 27/1000\n",
      "50000/50000 [==============================] - 19s 374us/step - loss: 0.9055 - acc: 0.7982 - val_loss: 0.9425 - val_acc: 0.7737\n",
      "Epoch 28/1000\n",
      "50000/50000 [==============================] - 18s 364us/step - loss: 0.9013 - acc: 0.8007 - val_loss: 0.9158 - val_acc: 0.7932\n",
      "Epoch 29/1000\n",
      "50000/50000 [==============================] - 19s 375us/step - loss: 0.9041 - acc: 0.7987 - val_loss: 0.8907 - val_acc: 0.7972\n",
      "Epoch 30/1000\n",
      "50000/50000 [==============================] - 19s 372us/step - loss: 0.9047 - acc: 0.7984 - val_loss: 0.8933 - val_acc: 0.7985\n",
      "Epoch 31/1000\n",
      "50000/50000 [==============================] - 19s 374us/step - loss: 0.9023 - acc: 0.7985 - val_loss: 0.9103 - val_acc: 0.7887\n",
      "Epoch 32/1000\n",
      "50000/50000 [==============================] - 19s 376us/step - loss: 0.9036 - acc: 0.7992 - val_loss: 0.8995 - val_acc: 0.7974\n",
      "Epoch 33/1000\n",
      "50000/50000 [==============================] - 19s 372us/step - loss: 0.9031 - acc: 0.7981 - val_loss: 0.9398 - val_acc: 0.7820\n",
      "Epoch 34/1000\n",
      "50000/50000 [==============================] - 18s 368us/step - loss: 0.9039 - acc: 0.8004 - val_loss: 0.9014 - val_acc: 0.7946\n",
      "Epoch 35/1000\n",
      "50000/50000 [==============================] - 18s 366us/step - loss: 0.9045 - acc: 0.7986 - val_loss: 0.8989 - val_acc: 0.7923\n",
      "Epoch 36/1000\n",
      "50000/50000 [==============================] - 18s 360us/step - loss: 0.9013 - acc: 0.7989 - val_loss: 0.8973 - val_acc: 0.7937\n",
      "Epoch 37/1000\n",
      "50000/50000 [==============================] - 19s 371us/step - loss: 0.9033 - acc: 0.7973 - val_loss: 0.9232 - val_acc: 0.7875\n",
      "Epoch 38/1000\n",
      "50000/50000 [==============================] - 19s 375us/step - loss: 0.9020 - acc: 0.7991 - val_loss: 0.9169 - val_acc: 0.7834\n"
     ]
    }
   ],
   "source": [
    "from keras.callbacks import EarlyStopping\n",
    "early_stopping = EarlyStopping(patience=20)\n",
    "hist = model.fit(x_train, y_train, epochs=1000, batch_size=32, \n",
    "                 validation_data=(x_val, y_val), callbacks=[early_stopping])"
   ]
  },
  {
   "cell_type": "markdown",
   "metadata": {},
   "source": [
    "### Display"
   ]
  },
  {
   "cell_type": "code",
   "execution_count": 8,
   "metadata": {
    "ExecuteTime": {
     "end_time": "2018-07-25T03:54:09.031071Z",
     "start_time": "2018-07-25T03:54:08.184209Z"
    }
   },
   "outputs": [],
   "source": [
    "import matplotlib.pyplot as plt\n",
    "%matplotlib inline"
   ]
  },
  {
   "cell_type": "code",
   "execution_count": 9,
   "metadata": {
    "ExecuteTime": {
     "end_time": "2018-07-25T03:54:09.264524Z",
     "start_time": "2018-07-25T03:54:09.039809Z"
    }
   },
   "outputs": [
    {
     "data": {
      "image/png": "[encoded data removed]",
      "text/plain": [
       "<Figure size 432x288 with 2 Axes>"
      ]
     },
     "metadata": {},
     "output_type": "display_data"
    }
   ],
   "source": [
    "fig, loss_ax = plt.subplots()\n",
    "acc_ax = loss_ax.twinx()\n",
    "\n",
    "loss_ax.plot(hist.history[\"loss\"], \"y\", label = \"train_loss\")\n",
    "loss_ax.plot(hist.history[\"val_loss\"], \"r\", label = \"val_loss\")\n",
    "\n",
    "acc_ax.plot(hist.history[\"acc\"], \"b\", label=\"train_acc\")\n",
    "acc_ax.plot(hist.history[\"val_acc\"], \"g\", label=\"val_acc\")\n",
    "\n",
    "loss_ax.set_ylabel(\"loss\")\n",
    "acc_ax.set_ylabel(\"accuracy\")\n",
    "\n",
    "loss_ax.legend(loc = \"upper left\")\n",
    "acc_ax.legend(loc = \"lower left\")\n",
    "\n",
    "plt.show()"
   ]
  },
  {
   "cell_type": "code",
   "execution_count": 10,
   "metadata": {
    "ExecuteTime": {
     "end_time": "2018-07-25T03:54:09.724891Z",
     "start_time": "2018-07-25T03:54:09.275905Z"
    }
   },
   "outputs": [
    {
     "name": "stdout",
     "output_type": "stream",
     "text": [
      "10000/10000 [==============================] - 0s 44us/step\n",
      "\n",
      "loss : 0.929823195362091\n",
      "accuracy : 0.7799\n"
     ]
    }
   ],
   "source": [
    "loss_and_metrics = model.evaluate(x_test, y_test, batch_size=32)\n",
    "print(\"\")\n",
    "print(\"loss : {}\".format(loss_and_metrics[0]))\n",
    "print(\"accuracy : {}\".format(loss_and_metrics[1]))"
   ]
  }
 ],
 "metadata": {
  "anaconda-cloud": {},
  "kernelspec": {
   "display_name": "Python [default]",
   "language": "python",
   "name": "python3"
  },
  "language_info": {
   "codemirror_mode": {
    "name": "ipython",
    "version": 3
   },
   "file_extension": ".py",
   "mimetype": "text/x-python",
   "name": "python",
   "nbconvert_exporter": "python",
   "pygments_lexer": "ipython3",
   "version": "3.5.2"
  },
  "varInspector": {
   "cols": {
    "lenName": 16,
    "lenType": 16,
    "lenVar": 40
   },
   "kernels_config": {
    "python": {
     "delete_cmd_postfix": "",
     "delete_cmd_prefix": "del ",
     "library": "var_list.py",
     "varRefreshCmd": "print(var_dic_list())"
    },
    "r": {
     "delete_cmd_postfix": ") ",
     "delete_cmd_prefix": "rm(",
     "library": "var_list.r",
     "varRefreshCmd": "cat(var_dic_list()) "
    }
   },
   "types_to_exclude": [
    "module",
    "function",
    "builtin_function_or_method",
    "instance",
    "_Feature"
   ],
   "window_display": false
  }
 },
 "nbformat": 4,
 "nbformat_minor": 1
}
