{
 "cells": [
  {
   "cell_type": "code",
   "execution_count": 21,
   "metadata": {
    "scrolled": true
   },
   "outputs": [
    {
     "name": "stdout",
     "output_type": "stream",
     "text": [
      "['films', 'adapted', 'comic', 'books', 'plenty', 'success', 'whether', 'theyre', 'superheroes', 'batman', 'superman', 'spawn', 'geared', 'toward', 'kids', 'casper', 'arthouse', 'crowd', 'ghost', 'world', 'theres', 'never', 'really', 'comic', 'book', 'like', 'hell', 'starters', 'created', 'alan', 'moore', 'eddie', 'campbell', 'brought', 'medium', 'whole', 'new', 'level', 'mid', 'series', 'called', 'watchmen', 'say', 'moore', 'campbell', 'thoroughly', 'researched', 'subject', 'jack', 'ripper', 'would', 'like', 'saying', 'michael', 'jackson', 'starting', 'look', 'little', 'odd', 'book', 'graphic', 'novel', 'pages', 'long', 'includes', 'nearly', 'consist', 'nothing', 'footnotes', 'words', 'dont', 'dismiss', 'film', 'source', 'get', 'past', 'whole', 'comic', 'book', 'thing', 'might', 'find', 'another', 'stumbling', 'block', 'hells', 'directors', 'albert', 'allen', 'hughes', 'getting', 'hughes', 'brothers', 'direct', 'seems', 'almost', 'ludicrous', 'casting', 'carrot', 'top', 'well', 'anything', 'riddle', 'better', 'direct', 'film', 'thats', 'set', 'ghetto', 'features', 'really', 'violent', 'street', 'crime', 'mad', 'geniuses', 'behind', 'menace', 'ii', 'society', 'ghetto', 'question', 'course', 'whitechapel', 'londons', 'east', 'end', 'filthy', 'sooty', 'place', 'whores', 'called', 'unfortunates', 'starting', 'get', 'little', 'nervous', 'mysterious', 'psychopath', 'carving', 'profession', 'surgical', 'precision', 'first', 'stiff', 'turns', 'copper', 'peter', 'godley', 'robbie', 'coltrane', 'world', 'enough', 'calls', 'inspector', 'frederick', 'abberline', 'johnny', 'depp', 'blow', 'crack', 'case', 'abberline', 'widower', 'prophetic', 'dreams', 'unsuccessfully', 'tries', 'quell', 'copious', 'amounts', 'absinthe', 'opium', 'upon', 'arriving', 'whitechapel', 'befriends', 'unfortunate', 'named', 'mary', 'kelly', 'heather', 'graham', 'say', 'isnt', 'proceeds', 'investigate', 'horribly', 'gruesome', 'crimes', 'even', 'police', 'surgeon', 'cant', 'stomach', 'dont', 'think', 'anyone', 'needs', 'briefed', 'jack', 'ripper', 'wont', 'go', 'particulars', 'say', 'moore', 'campbell', 'unique', 'interesting', 'theory', 'identity', 'killer', 'reasons', 'chooses', 'slay', 'comic', 'dont', 'bother', 'cloaking', 'identity', 'ripper', 'screenwriters', 'terry', 'hayes', 'vertical', 'limit', 'rafael', 'yglesias', 'les', 'mis', 'rables', 'good', 'job', 'keeping', 'hidden', 'viewers', 'end', 'funny', 'watch', 'locals', 'blindly', 'point', 'finger', 'blame', 'jews', 'indians', 'englishman', 'could', 'never', 'capable', 'committing', 'ghastly', 'acts', 'hells', 'ending', 'whistling', 'stonecutters', 'song', 'simpsons', 'days', 'holds', 'back', 'electric', 'carwho', 'made', 'steve', 'guttenberg', 'star', 'dont', 'worry', 'itll', 'make', 'sense', 'see', 'onto', 'hells', 'appearance', 'certainly', 'dark', 'bleak', 'enough', 'surprising', 'see', 'much', 'looks', 'like', 'tim', 'burton', 'film', 'planet', 'apes', 'times', 'seems', 'like', 'sleepy', 'hollow', 'print', 'saw', 'wasnt', 'completely', 'finished', 'color', 'music', 'finalized', 'comments', 'marilyn', 'manson', 'cinematographer', 'peter', 'deming', 'dont', 'say', 'word', 'ably', 'captures', 'dreariness', 'victorianera', 'london', 'helped', 'make', 'flashy', 'killing', 'scenes', 'remind', 'crazy', 'flashbacks', 'twin', 'peaks', 'even', 'though', 'violence', 'film', 'pales', 'comparison', 'blackandwhite', 'comic', 'oscar', 'winner', 'martin', 'childs', 'shakespeare', 'love', 'production', 'design', 'turns', 'original', 'prague', 'surroundings', 'one', 'creepy', 'place', 'even', 'acting', 'hell', 'solid', 'dreamy', 'depp', 'turning', 'typically', 'strong', 'performance', 'deftly', 'handling', 'british', 'accent', 'ians', 'holm', 'joe', 'goulds', 'secret', 'richardson', 'dalmatians', 'log', 'great', 'supporting', 'roles', 'big', 'surprise', 'graham', 'cringed', 'first', 'time', 'opened', 'mouth', 'imagining', 'attempt', 'irish', 'accent', 'actually', 'wasnt', 'half', 'bad', 'film', 'however', 'good', 'strong', 'violencegore', 'sexuality', 'language', 'drug', 'content']\n"
     ]
    }
   ],
   "source": [
    "from nltk.corpus import stopwords\n",
    "import string\n",
    "\n",
    "def load_doc(filename):\n",
    "    file = open(filename, 'r')\n",
    "    text = file.read()\n",
    "    file.close()\n",
    "    return text\n",
    "\n",
    "def clean_doc(doc):\n",
    "    tokens = doc.split()\n",
    "    table = str.maketrans('', '', string.punctuation)\n",
    "    tokens = [w.translate(table) for w in tokens]\n",
    "    tokens = [word for word in tokens if word.isalpha()]\n",
    "    stop_words = set(stopwords.words('english'))\n",
    "    tokens = [w for w in tokens if not w in stop_words]\n",
    "    tokens = [word for word in tokens if len(word)>1]\n",
    "    return tokens\n",
    "\n",
    "filename = r'C:\\Users\\danie\\Desktop\\txt_sentoken\\pos\\cv000_29590.txt'\n",
    "text = load_doc(filename)\n",
    "tokens = clean_doc(text)\n",
    "print(tokens)"
   ]
  },
  {
   "cell_type": "code",
   "execution_count": 22,
   "metadata": {
    "scrolled": true
   },
   "outputs": [
    {
     "name": "stdout",
     "output_type": "stream",
     "text": [
      "44276\n",
      "[('film', 7983), ('one', 4946), ('movie', 4826), ('like', 3201), ('even', 2262), ('good', 2080), ('time', 2041), ('story', 1907), ('films', 1873), ('would', 1844), ('much', 1824), ('also', 1757), ('characters', 1735), ('get', 1724), ('character', 1703), ('two', 1643), ('first', 1588), ('see', 1557), ('way', 1515), ('well', 1511), ('make', 1418), ('really', 1407), ('little', 1351), ('life', 1334), ('plot', 1288), ('people', 1269), ('bad', 1248), ('could', 1248), ('scene', 1241), ('movies', 1238), ('never', 1201), ('best', 1179), ('new', 1140), ('scenes', 1135), ('man', 1131), ('many', 1130), ('doesnt', 1118), ('know', 1092), ('dont', 1086), ('hes', 1024), ('great', 1014), ('another', 992), ('action', 985), ('love', 977), ('us', 967), ('go', 952), ('director', 948), ('end', 946), ('something', 945), ('still', 936)]\n"
     ]
    }
   ],
   "source": [
    "from collections import Counter\n",
    "from os import listdir\n",
    "\n",
    "def add_doc_to_vocab(filename, vocab):\n",
    "    doc = load_doc(filename)\n",
    "    tokens = clean_doc(doc)\n",
    "    vocab.update(tokens)\n",
    "    \n",
    "def process_docs(directory, vocab, is_train):\n",
    "    for filename in listdir(directory):\n",
    "        if is_train and filename.startswith('cv9'):\n",
    "            continue\n",
    "        if not is_train and not filename.startswith('cv9'):\n",
    "            continue\n",
    "        path = directory+'/'+ filename\n",
    "        add_doc_to_vocab(path, vocab)\n",
    "\n",
    "vocab = Counter()\n",
    "process_docs(r'C:\\Users\\danie\\Desktop\\txt_sentoken\\neg',vocab,True)\n",
    "process_docs(r'C:\\Users\\danie\\Desktop\\txt_sentoken\\pos',vocab,True)\n",
    "\n",
    "print(len(vocab))\n",
    "print(vocab.most_common(50))"
   ]
  },
  {
   "cell_type": "code",
   "execution_count": 23,
   "metadata": {},
   "outputs": [
    {
     "name": "stdout",
     "output_type": "stream",
     "text": [
      "25767\n"
     ]
    }
   ],
   "source": [
    "at_least = 2\n",
    "tokens  = [k for k,c in vocab.items() if c >= at_least]\n",
    "print(len(tokens))"
   ]
  },
  {
   "cell_type": "code",
   "execution_count": 24,
   "metadata": {
    "collapsed": true
   },
   "outputs": [],
   "source": [
    "def save_list(lines, filename):\n",
    "    data = '\\n'.join(lines)\n",
    "    file = open(filename,'w')\n",
    "    file.write(data)\n",
    "    file.close()\n",
    "    \n",
    "save_list(tokens, r'C:\\Users\\danie\\Desktop\\vocab.txt')"
   ]
  },
  {
   "cell_type": "code",
   "execution_count": 25,
   "metadata": {
    "collapsed": true
   },
   "outputs": [],
   "source": []
  },
  {
   "cell_type": "code",
   "execution_count": 32,
   "metadata": {
    "collapsed": true
   },
   "outputs": [],
   "source": [
    "def doc_to_line(filename, vocab):\n",
    "    doc = load_doc(filename)\n",
    "    tokens = clean_doc(doc)\n",
    "    tokens = [w for w in tokens if w in vocab]\n",
    "    return ' '.join(tokens)\n",
    "\n",
    "def process_docs(directory, vocab, is_train):\n",
    "    lines = list()\n",
    "    for filename in listdir(directory):\n",
    "        if is_train and filename.startswith('cv9'):\n",
    "            continue\n",
    "        if not is_train and not filename.startswith('cv9'):\n",
    "            continue\n",
    "        path = directory +'/'+filename\n",
    "        line = doc_to_line(path, vocab)\n",
    "        lines.append(line)\n",
    "    return lines\n",
    "    "
   ]
  },
  {
   "cell_type": "code",
   "execution_count": 33,
   "metadata": {
    "collapsed": true
   },
   "outputs": [],
   "source": [
    "vocab_filename = r'C:\\Users\\danie\\Desktop\\vocab.txt'\n",
    "vocab = load_doc(vocab_filename)\n",
    "vocab = vocab.split()\n",
    "vocab = set(vocab)"
   ]
  },
  {
   "cell_type": "code",
   "execution_count": 35,
   "metadata": {
    "scrolled": true
   },
   "outputs": [
    {
     "name": "stdout",
     "output_type": "stream",
     "text": [
      "900 900\n"
     ]
    }
   ],
   "source": [
    "positive_lines = process_docs(r'C:\\Users\\danie\\Desktop\\txt_sentoken\\pos',vocab, True)\n",
    "negative_lines = process_docs(r'C:\\Users\\danie\\Desktop\\txt_sentoken\\neg',vocab, True)\n",
    "print(len(positive_lines), len(negative_lines))"
   ]
  },
  {
   "cell_type": "code",
   "execution_count": 37,
   "metadata": {
    "scrolled": true
   },
   "outputs": [
    {
     "name": "stdout",
     "output_type": "stream",
     "text": [
      "(1800, 25768)\n"
     ]
    }
   ],
   "source": [
    "from keras.preprocessing.text import Tokenizer\n",
    "tokenizer = Tokenizer()\n",
    "docs = positive_lines + negative_lines\n",
    "tokenizer.fit_on_texts(docs)\n",
    "Xtrain = tokenizer.texts_to_matrix(docs, mode='freq')\n",
    "print(Xtrain.shape)"
   ]
  },
  {
   "cell_type": "code",
   "execution_count": 38,
   "metadata": {
    "scrolled": true
   },
   "outputs": [
    {
     "name": "stdout",
     "output_type": "stream",
     "text": [
      "(200, 25768)\n"
     ]
    }
   ],
   "source": [
    "positive_lines = process_docs(r'C:\\Users\\danie\\Desktop\\txt_sentoken\\pos',vocab, False)\n",
    "negative_lines = process_docs(r'C:\\Users\\danie\\Desktop\\txt_sentoken\\neg',vocab, False)\n",
    "docs = positive_lines + negative_lines\n",
    "Xtest = tokenizer.texts_to_matrix(docs, mode='freq')\n",
    "print(Xtest.shape)"
   ]
  },
  {
   "cell_type": "code",
   "execution_count": 40,
   "metadata": {},
   "outputs": [],
   "source": [
    "from numpy import array\n",
    "n_words = Xtest.shape[1]\n",
    "ytrain = array([0 for _ in range(900)] + [1 for _ in range(900)])\n",
    "ytest = array([0 for _ in range(100)] + [1 for _ in range(100)])"
   ]
  },
  {
   "cell_type": "code",
   "execution_count": 41,
   "metadata": {
    "scrolled": true
   },
   "outputs": [
    {
     "name": "stdout",
     "output_type": "stream",
     "text": [
      "Epoch 1/50\n",
      "1s - loss: 0.6916 - acc: 0.5428\n",
      "Epoch 2/50\n",
      "1s - loss: 0.6818 - acc: 0.7156\n",
      "Epoch 3/50\n",
      "1s - loss: 0.6613 - acc: 0.7139\n",
      "Epoch 4/50\n",
      "1s - loss: 0.6306 - acc: 0.9317\n",
      "Epoch 5/50\n",
      "1s - loss: 0.5911 - acc: 0.9378\n",
      "Epoch 6/50\n",
      "1s - loss: 0.5470 - acc: 0.9439\n",
      "Epoch 7/50\n",
      "1s - loss: 0.5005 - acc: 0.9522\n",
      "Epoch 8/50\n",
      "1s - loss: 0.4535 - acc: 0.9578\n",
      "Epoch 9/50\n",
      "1s - loss: 0.4093 - acc: 0.9611\n",
      "Epoch 10/50\n",
      "1s - loss: 0.3689 - acc: 0.9678\n",
      "Epoch 11/50\n",
      "1s - loss: 0.3306 - acc: 0.9739\n",
      "Epoch 12/50\n",
      "1s - loss: 0.2971 - acc: 0.9767\n",
      "Epoch 13/50\n",
      "1s - loss: 0.2658 - acc: 0.9833\n",
      "Epoch 14/50\n",
      "1s - loss: 0.2384 - acc: 0.9844\n",
      "Epoch 15/50\n",
      "1s - loss: 0.2152 - acc: 0.9867\n",
      "Epoch 16/50\n",
      "1s - loss: 0.1938 - acc: 0.9906\n",
      "Epoch 17/50\n",
      "1s - loss: 0.1744 - acc: 0.9928\n",
      "Epoch 18/50\n",
      "1s - loss: 0.1579 - acc: 0.9933\n",
      "Epoch 19/50\n",
      "1s - loss: 0.1432 - acc: 0.9939\n",
      "Epoch 20/50\n",
      "1s - loss: 0.1297 - acc: 0.9956\n",
      "Epoch 21/50\n",
      "1s - loss: 0.1173 - acc: 0.9961\n",
      "Epoch 22/50\n",
      "1s - loss: 0.1067 - acc: 0.9978\n",
      "Epoch 23/50\n",
      "1s - loss: 0.0974 - acc: 0.9978\n",
      "Epoch 24/50\n",
      "1s - loss: 0.0888 - acc: 0.9978\n",
      "Epoch 25/50\n",
      "1s - loss: 0.0811 - acc: 1.0000\n",
      "Epoch 26/50\n",
      "1s - loss: 0.0742 - acc: 1.0000\n",
      "Epoch 27/50\n",
      "1s - loss: 0.0680 - acc: 1.0000\n",
      "Epoch 28/50\n",
      "1s - loss: 0.0627 - acc: 1.0000\n",
      "Epoch 29/50\n",
      "1s - loss: 0.0577 - acc: 1.0000\n",
      "Epoch 30/50\n",
      "1s - loss: 0.0529 - acc: 1.0000\n",
      "Epoch 31/50\n",
      "1s - loss: 0.0489 - acc: 1.0000\n",
      "Epoch 32/50\n",
      "1s - loss: 0.0452 - acc: 1.0000\n",
      "Epoch 33/50\n",
      "1s - loss: 0.0419 - acc: 1.0000\n",
      "Epoch 34/50\n",
      "1s - loss: 0.0388 - acc: 1.0000\n",
      "Epoch 35/50\n",
      "1s - loss: 0.0359 - acc: 1.0000\n",
      "Epoch 36/50\n",
      "1s - loss: 0.0335 - acc: 1.0000\n",
      "Epoch 37/50\n",
      "1s - loss: 0.0311 - acc: 1.0000\n",
      "Epoch 38/50\n",
      "1s - loss: 0.0290 - acc: 1.0000\n",
      "Epoch 39/50\n",
      "1s - loss: 0.0271 - acc: 1.0000\n",
      "Epoch 40/50\n",
      "1s - loss: 0.0253 - acc: 1.0000\n",
      "Epoch 41/50\n",
      "1s - loss: 0.0236 - acc: 1.0000\n",
      "Epoch 42/50\n",
      "1s - loss: 0.0221 - acc: 1.0000\n",
      "Epoch 43/50\n",
      "1s - loss: 0.0208 - acc: 1.0000\n",
      "Epoch 44/50\n",
      "1s - loss: 0.0195 - acc: 1.0000\n",
      "Epoch 45/50\n",
      "1s - loss: 0.0184 - acc: 1.0000\n",
      "Epoch 46/50\n",
      "1s - loss: 0.0172 - acc: 1.0000\n",
      "Epoch 47/50\n",
      "1s - loss: 0.0162 - acc: 1.0000\n",
      "Epoch 48/50\n",
      "1s - loss: 0.0153 - acc: 1.0000\n",
      "Epoch 49/50\n",
      "1s - loss: 0.0144 - acc: 1.0000\n",
      "Epoch 50/50\n",
      "1s - loss: 0.0136 - acc: 1.0000\n",
      "Test Accuracy: 91.000000\n"
     ]
    }
   ],
   "source": [
    "from keras.models import Sequential\n",
    "from keras.layers import Dense\n",
    "from keras.layers import Dropout\n",
    "model = Sequential()\n",
    "model.add(Dense(50, input_shape=(n_words,), activation='relu'))\n",
    "model.add(Dense(1, activation='sigmoid'))\n",
    "model.compile(loss='binary_crossentropy', optimizer='adam', metrics=['accuracy'])\n",
    "\n",
    "model.fit(Xtrain, ytrain, epochs = 50, verbose =2)\n",
    "\n",
    "loss, acc = model.evaluate(Xtest, ytest, verbose = 0)\n",
    "print('Test Accuracy: %f' % (acc*100))"
   ]
  },
  {
   "cell_type": "code",
   "execution_count": 42,
   "metadata": {
    "collapsed": true
   },
   "outputs": [],
   "source": [
    "def predict_sentiment(review, vocab, tokenizer, model):\n",
    "    tokens = clean_doc(review)\n",
    "    token  = [w for w in tokens if w in vocab]\n",
    "    line = ' '.join(tokens)\n",
    "    encoded = tokenizer.texts_to_matrix([line], mode='freq')\n",
    "    predict = model.predict(encoded, verbose=0)\n",
    "    return round(predict[0,0])"
   ]
  },
  {
   "cell_type": "code",
   "execution_count": 44,
   "metadata": {
    "scrolled": true
   },
   "outputs": [
    {
     "name": "stdout",
     "output_type": "stream",
     "text": [
      "0.0\n"
     ]
    }
   ],
   "source": [
    "positive = 'The best movie I have ever seen'\n",
    "print(predict_sentiment(positive,vocab, tokenizer, model))"
   ]
  },
  {
   "cell_type": "code",
   "execution_count": 45,
   "metadata": {},
   "outputs": [
    {
     "name": "stdout",
     "output_type": "stream",
     "text": [
      "1.0\n"
     ]
    }
   ],
   "source": [
    "negative = 'This is a bad movie. The worst.'\n",
    "print(predict_sentiment(negative, vocab, tokenizer, model))"
   ]
  }
 ],
 "metadata": {
  "kernelspec": {
   "display_name": "Python 3",
   "language": "python",
   "name": "python3"
  },
  "language_info": {
   "codemirror_mode": {
    "name": "ipython",
    "version": 3
   },
   "file_extension": ".py",
   "mimetype": "text/x-python",
   "name": "python",
   "nbconvert_exporter": "python",
   "pygments_lexer": "ipython3",
   "version": "3.6.3"
  }
 },
 "nbformat": 4,
 "nbformat_minor": 2
}
