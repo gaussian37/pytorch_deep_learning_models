{
 "cells": [
  {
   "cell_type": "markdown",
   "metadata": {},
   "source": [
    "# 1~2. RNN Introduction"
   ]
  },
  {
   "cell_type": "code",
   "execution_count": 6,
   "metadata": {
    "ExecuteTime": {
     "end_time": "2018-01-21T11:41:11.738642Z",
     "start_time": "2018-01-21T11:41:11.542465Z"
    }
   },
   "outputs": [
    {
     "data": {
      "image/jpeg": "[encoded data removed]",
      "text/html": [
       "\n",
       "        <iframe\n",
       "            width=\"400\"\n",
       "            height=\"300\"\n",
       "            src=\"https://www.youtube.com/embed/AIQEqg6F38A\"\n",
       "            frameborder=\"0\"\n",
       "            allowfullscreen\n",
       "        ></iframe>\n",
       "        "
      ],
      "text/plain": [
       "<IPython.lib.display.YouTubeVideo at 0x17946c6c780>"
      ]
     },
     "execution_count": 6,
     "metadata": {},
     "output_type": "execute_result"
    }
   ],
   "source": [
    "from IPython.display import YouTubeVideo\n",
    "YouTubeVideo(\"AIQEqg6F38A\")"
   ]
  },
  {
   "cell_type": "markdown",
   "metadata": {},
   "source": [
    "이 단원에서는 RNN (Recurrent Neural Networks)에 대하여 학습합니다. 지금까지 본 Neural Network Architecture는 현재 입력을 통해서만 학습 되었습니다. 현재 출력을 생성할 때 이전 입력을 고려하지 않았습니다. 즉, 우리 시스템에는 메모리 요소가 없었습니다. <span class=\"mark\">RNN은 현재 출력을 생성 할 때 메모리 (즉, 네트워크에 대한 과거 입력)를 사용하여 매우 기본적이고 중요한 문제를 해결합니다.</span>\n",
    "\n",
    "![1](http://postfiles7.naver.net/MjAxODAxMjFfMTk3/MDAxNTE2NDk2OTEyNzMx.PlLP0UJU092mvSHPpKJGuUD8cBZyuNdPtiJWuPxgWlIg.j15ozh1draGdBcnrVpcy9TMsXedMjbihxaBFRcDQ9vMg.PNG.infoefficien/12._RNN_Instroduction.mp4_000017542.png?type=w773)\n",
    "\n",
    "따라서 현재 Output이 현재 Input 뿐만 아니라 과거 Input에 또한 영향을 받게 됩니다. 예를 들면 오늘 저녁을 무엇을 먹을 지 선택하는 것에 오늘 아침, 어제 저녁의 메뉴가 영향을 끼치는 것과 비슷합니다.<br>\n",
    "앞으로 볼 RNN은 이전에 봐왔던 MLP나 CNN등과 같이 Feedforward방법은 유사하지만 과거의 데이터를 살펴보기 위해 추가적인 메모리가 필요합니다. <br>\n",
    "다시 한번 비교하면 RNN 이전의 Network는 현재 Input만 필요하였습니다. <br>\n",
    "![2](http://postfiles15.naver.net/MjAxODAxMjFfMTI5/MDAxNTE2NDk3NDA3NzUx.m3TKEtHEv9adXD2kEz7Quo_VU8eg3fXWIuoKhnsiW9Yg.daIx6JWCg9Fqf0WKyZ0JD9DRtRiOtcuOREEpOg-K_54g.PNG.infoefficien/12._RNN_Instroduction.mp4_000082953.png?type=w773)\n",
    "\n",
    "CNN을 이용하여 image를 분류할 때 우리는 각 Frame 간 정적인 이미지를 이용하여 각 문제를 해결하였습니다. 만약 이 고양이가 달리는 고양이인지, 뛰는 고양이인지 파악하려면 과거 데이터가 필요합니다.(CNN을 잘 이용하면 뛰거나 걷는것을 구분할 수 있긴 합니다.)<br>\n",
    "이렇게 현재와 과거 데이터를 이용하여 문제를 해결하는 Network를 RNN이라고 합니다. \n",
    "\n",
    "![3](http://postfiles13.naver.net/MjAxODAxMjFfNTQg/MDAxNTE2NDk4MTI2NDU1.aZqKDNj9VO3E3kOHzjp66TC-k1DCaHwYjguuKBus74Ug.86vhSIlrMKQT_GvbgZ1zXTI5ucab4JQCwmuPF3QAqK0g.PNG.infoefficien/12._RNN_Instroduction.mp4_000096469.png?type=w773)\n",
    "\n",
    "기본적으로 RNN은 위와 같이 Output이 재 사용되는 구조를 가집니다. \n",
    "\n",
    "![4](http://postfiles2.naver.net/MjAxODAxMjFfMjcx/MDAxNTE2NDk4Mjk5Njgz.i3Xy4QAt2p9fegHS7ys56aNfE3W19OTX7ugH5EB983wg.QapkNh8UC-mUQsIhgIju3om3dAj_2WYuwCp_HgZHfqUg.PNG.infoefficien/12._RNN_Instroduction.mp4_000155073.png?type=w773)\n",
    "\n",
    "기존의 Neural Network는 위와 같은 구조를 가지고 우리의 주 목적은 Non-linearity를 적용하고 Backpropagation 등으로 Training 하여 Evaluation을 하는 것 이었습니다. \n",
    "\n",
    "![5](http://postfiles6.naver.net/MjAxODAxMjFfODAg/MDAxNTE2NDk4NDQ5NzYx.8EN-KlapXO56D54NPKnDSrYUdHRnIF8enq6PT3KM2nMg.adrhS6S3SK2715u_WziveLkwiS26s6jXpxl_ptaeFccg.PNG.infoefficien/12._RNN_Instroduction.mp4_000186568.png?type=w773)\n",
    "\n",
    "RNN에서도 유사하게 살펴볼 예정입니다. 먼저 간단한 예제인 ELMAN NETWORK를 살펴보고 RNN을 Training 해 보겠습니다. 기본적인 RNN을 학습하면서 느낄 수 있는 한계를 LSTM으로 극복하는 과정도 가질 예정입니다. "
   ]
  },
  {
   "cell_type": "code",
   "execution_count": null,
   "metadata": {},
   "outputs": [],
   "source": []
  }
 ],
 "metadata": {
  "anaconda-cloud": {},
  "kernelspec": {
   "display_name": "Python [conda root]",
   "language": "python",
   "name": "conda-root-py"
  },
  "language_info": {
   "codemirror_mode": {
    "name": "ipython",
    "version": 3
   },
   "file_extension": ".py",
   "mimetype": "text/x-python",
   "name": "python",
   "nbconvert_exporter": "python",
   "pygments_lexer": "ipython3",
   "version": "3.5.2"
  },
  "varInspector": {
   "cols": {
    "lenName": 16,
    "lenType": 16,
    "lenVar": 40
   },
   "kernels_config": {
    "python": {
     "delete_cmd_postfix": "",
     "delete_cmd_prefix": "del ",
     "library": "var_list.py",
     "varRefreshCmd": "print(var_dic_list())"
    },
    "r": {
     "delete_cmd_postfix": ") ",
     "delete_cmd_prefix": "rm(",
     "library": "var_list.r",
     "varRefreshCmd": "cat(var_dic_list()) "
    }
   },
   "types_to_exclude": [
    "module",
    "function",
    "builtin_function_or_method",
    "instance",
    "_Feature"
   ],
   "window_display": false
  }
 },
 "nbformat": 4,
 "nbformat_minor": 1
}
