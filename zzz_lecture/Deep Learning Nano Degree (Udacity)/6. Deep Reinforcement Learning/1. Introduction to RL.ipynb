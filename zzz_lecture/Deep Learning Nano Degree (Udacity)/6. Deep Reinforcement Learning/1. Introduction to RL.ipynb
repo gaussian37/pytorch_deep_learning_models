{
 "cells": [
  {
   "cell_type": "markdown",
   "metadata": {},
   "source": [
    "# Introduction to RL"
   ]
  },
  {
   "cell_type": "markdown",
   "metadata": {
    "ExecuteTime": {
     "end_time": "2018-05-05T16:33:31.515533Z",
     "start_time": "2018-05-05T16:33:31.501494Z"
    }
   },
   "source": [
    "![1](nb_images/1.1.png)\n",
    "![2](nb_images/1.2.png)\n",
    "\n",
    "인간, 동물등은 처음부터 새로운 것을 잘 할 수는 없습니다. 하지만 학습을 통해 발전할 수 있습니다. 위의 그림과 같이 새로운 조건 (Sit)이 주어졌을 때 적절한 행동을 하면 보상(reward)를 받게 되고 어떤 상태가 좋은 것인지 학습을 하게 됩니다. "
   ]
  },
  {
   "cell_type": "markdown",
   "metadata": {},
   "source": [
    "![3](nb_images/1.3.png)\n",
    "\n",
    "이렇게 어떤 조건에서 reward가 주어지는지 알게 되는 것을 학습 한다고 할 수 있으며 이런 방식의 학습을 reinforcement learning 이라고 합니다. 즉, 상호작용을 통해 배우는 것이라고 생각하면 됩니다. "
   ]
  },
  {
   "cell_type": "markdown",
   "metadata": {},
   "source": [
    "![4](nb_images/1.4.png)\n",
    "\n",
    "RL 에서는 learner 또는 decision maker를 agent라고 합니다. 위와 같이 개를 Agent라고 하고 학습을 해보겠습니다"
   ]
  },
  {
   "cell_type": "markdown",
   "metadata": {},
   "source": [
    "![5](nb_images/1.5.png)\n",
    "\n",
    "먼저 앞에서 설명한 바와 같이 \"앉아\" 라고 하였을 때 적절한 보상을 받기 위해서는 실제로 앉도록 학습을 해야 합니다."
   ]
  },
  {
   "cell_type": "markdown",
   "metadata": {},
   "source": [
    "![6](nb_images/1.6.png)\n",
    "\n",
    "만약 위와 같이 \"그대로 있어\" 라고 하였는데 개가 달린다면 보상을 받을 수 없는 상황이 됩니다. "
   ]
  },
  {
   "cell_type": "markdown",
   "metadata": {},
   "source": [
    "![7](nb_images/1.7.png)\n",
    "\n",
    "그러면 Agent인 개 입장에서는 2가지 선택을 할 수 있는데 어떤것을 선택해야 하는지 고민에 빠지게 됩니다.\n",
    "1. Exploration : 가능한 가설을 새운 뒤 적절한 행동을 선택해야 합니다.\n",
    "2. Exploitation : 현재 가지고 있는 knowledge를 이용하여 어떤 행동이 가장 좋은지를 선택 합니다."
   ]
  },
  {
   "cell_type": "markdown",
   "metadata": {},
   "source": [
    "![8](nb_images/1.8.png)\n",
    "\n",
    "또다른 Agent 개의 중요한 포인트는 현재 가장 이득이 되는 지점을 선택하는 것이 옳은지, 또는 장기적으로 이득이 되는 것을 선택하는 것이 옳은지 선택해야 합니다. 가능한한 장기적으로 계속 보상이 주어지도록 선택하는 것이 좋습니다."
   ]
  },
  {
   "cell_type": "code",
   "execution_count": null,
   "metadata": {},
   "outputs": [],
   "source": []
  }
 ],
 "metadata": {
  "anaconda-cloud": {},
  "kernelspec": {
   "display_name": "Python [conda root]",
   "language": "python",
   "name": "conda-root-py"
  },
  "language_info": {
   "codemirror_mode": {
    "name": "ipython",
    "version": 3
   },
   "file_extension": ".py",
   "mimetype": "text/x-python",
   "name": "python",
   "nbconvert_exporter": "python",
   "pygments_lexer": "ipython3",
   "version": "3.5.2"
  },
  "varInspector": {
   "cols": {
    "lenName": 16,
    "lenType": 16,
    "lenVar": 40
   },
   "kernels_config": {
    "python": {
     "delete_cmd_postfix": "",
     "delete_cmd_prefix": "del ",
     "library": "var_list.py",
     "varRefreshCmd": "print(var_dic_list())"
    },
    "r": {
     "delete_cmd_postfix": ") ",
     "delete_cmd_prefix": "rm(",
     "library": "var_list.r",
     "varRefreshCmd": "cat(var_dic_list()) "
    }
   },
   "types_to_exclude": [
    "module",
    "function",
    "builtin_function_or_method",
    "instance",
    "_Feature"
   ],
   "window_display": false
  }
 },
 "nbformat": 4,
 "nbformat_minor": 1
}
