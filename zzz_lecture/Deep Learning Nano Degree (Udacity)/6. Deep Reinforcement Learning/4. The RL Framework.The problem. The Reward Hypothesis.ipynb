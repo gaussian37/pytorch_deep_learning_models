{
 "cells": [
  {
   "cell_type": "markdown",
   "metadata": {},
   "source": [
    "# The Reward Hypothesis"
   ]
  },
  {
   "cell_type": "code",
   "execution_count": 1,
   "metadata": {
    "ExecuteTime": {
     "end_time": "2018-05-12T13:41:09.559321Z",
     "start_time": "2018-05-12T13:41:08.777985Z"
    }
   },
   "outputs": [
    {
     "data": {
      "image/jpeg": "[encoded data removed]",
      "text/html": [
       "\n",
       "        <iframe\n",
       "            width=\"400\"\n",
       "            height=\"300\"\n",
       "            src=\"https://www.youtube.com/embed/uAqNwgZ49JE\"\n",
       "            frameborder=\"0\"\n",
       "            allowfullscreen\n",
       "        ></iframe>\n",
       "        "
      ],
      "text/plain": [
       "<IPython.lib.display.YouTubeVideo at 0x2284ca2aef0>"
      ]
     },
     "execution_count": 1,
     "metadata": {},
     "output_type": "execute_result"
    }
   ],
   "source": [
    "from IPython.display import YouTubeVideo\n",
    "YouTubeVideo('uAqNwgZ49JE')"
   ]
  },
  {
   "cell_type": "markdown",
   "metadata": {},
   "source": [
    "![1](nb_images/4.1.png)\n",
    "\n",
    "RL에서는 각 Agent마다 Goal이 다릅니다. 자동차의 경우 Drive하는 방법을 학습하는 것이 되고 게임에서는 Win 하는 방법을 학습하는 것이 됩니다. 하지만 Goal은 다르더라도 RL의 전체 알고리즘은 유사합니다. "
   ]
  },
  {
   "cell_type": "markdown",
   "metadata": {},
   "source": [
    "![2](nb_images/4.2.png)\n",
    "\n",
    "앞에서 설명한 바와 같이 Agent는 Reward를 최대화 하는 방향으로 학습을 합니다. "
   ]
  },
  {
   "cell_type": "markdown",
   "metadata": {},
   "source": [
    "![3](nb_images/4.3.png)\n",
    "\n",
    "즉, Agent와 Environment의 상호 작용을 통하여 누적 보상을 최대화 하는 것이 RL의 핵심입니다. 그러면 어떤 것이 reward가 될 수 있을까요?"
   ]
  },
  {
   "cell_type": "markdown",
   "metadata": {},
   "source": [
    "![4](nb_images/4.4.png)\n",
    "\n",
    "예를 들어 로봇을 걷게 만드는 RL을 한다고 하면 잘 걸을 때 +를 주는 것 입니다. (Great Job!)"
   ]
  },
  {
   "cell_type": "markdown",
   "metadata": {},
   "source": [
    "![5](nb_images/4.5.png)\n",
    "\n",
    "반면 잘못 걸을 때에는 -를 주어 페널티를 주어야 합니다. (NO!) <br>\n",
    "즉, Agent의 Action을 계속 관찬하여 +, -를 계속 주어야 RL을 할 수 있습니다. "
   ]
  },
  {
   "cell_type": "markdown",
   "metadata": {},
   "source": [
    "![6](nb_images/4.6.png)\n",
    "\n",
    "그러면 RL을 하기 이전에 <span class=\"mark\">어떤 Action이 + 인지 -인지를 상세화</span> 해야 합니다. "
   ]
  },
  {
   "cell_type": "markdown",
   "metadata": {},
   "source": [
    "![7](nb_images/4.7.png)\n",
    "\n",
    "앞에서 설명하였듯이 누적 보상이 최대화가 되는 방향을 예측하여 goal을 만들어야 하는데 이것을 Reward Hypothesis라고 합니다. "
   ]
  }
 ],
 "metadata": {
  "anaconda-cloud": {},
  "kernelspec": {
   "display_name": "Python [conda root]",
   "language": "python",
   "name": "conda-root-py"
  },
  "language_info": {
   "codemirror_mode": {
    "name": "ipython",
    "version": 3
   },
   "file_extension": ".py",
   "mimetype": "text/x-python",
   "name": "python",
   "nbconvert_exporter": "python",
   "pygments_lexer": "ipython3",
   "version": "3.5.2"
  },
  "varInspector": {
   "cols": {
    "lenName": 16,
    "lenType": 16,
    "lenVar": 40
   },
   "kernels_config": {
    "python": {
     "delete_cmd_postfix": "",
     "delete_cmd_prefix": "del ",
     "library": "var_list.py",
     "varRefreshCmd": "print(var_dic_list())"
    },
    "r": {
     "delete_cmd_postfix": ") ",
     "delete_cmd_prefix": "rm(",
     "library": "var_list.r",
     "varRefreshCmd": "cat(var_dic_list()) "
    }
   },
   "types_to_exclude": [
    "module",
    "function",
    "builtin_function_or_method",
    "instance",
    "_Feature"
   ],
   "window_display": false
  }
 },
 "nbformat": 4,
 "nbformat_minor": 1
}
