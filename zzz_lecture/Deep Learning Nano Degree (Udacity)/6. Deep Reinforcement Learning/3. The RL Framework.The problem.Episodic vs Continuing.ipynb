{
 "cells": [
  {
   "cell_type": "markdown",
   "metadata": {},
   "source": [
    "# Episodic vs. Continuing"
   ]
  },
  {
   "cell_type": "code",
   "execution_count": 1,
   "metadata": {
    "ExecuteTime": {
     "end_time": "2018-05-05T20:05:45.149711Z",
     "start_time": "2018-05-05T20:05:44.549267Z"
    }
   },
   "outputs": [
    {
     "data": {
      "image/jpeg": "[encoded data removed]",
      "text/html": [
       "\n",
       "        <iframe\n",
       "            width=\"400\"\n",
       "            height=\"300\"\n",
       "            src=\"https://www.youtube.com/embed/E1I-BPanSM8\"\n",
       "            frameborder=\"0\"\n",
       "            allowfullscreen\n",
       "        ></iframe>\n",
       "        "
      ],
      "text/plain": [
       "<IPython.lib.display.YouTubeVideo at 0x1f8e3f5fda0>"
      ]
     },
     "execution_count": 1,
     "metadata": {},
     "output_type": "execute_result"
    }
   ],
   "source": [
    "from IPython.display import YouTubeVideo\n",
    "YouTubeVideo('E1I-BPanSM8')"
   ]
  },
  {
   "cell_type": "markdown",
   "metadata": {},
   "source": [
    "세상에 존재하는 많은 상황들은 끝이 존재합니다. <br>\n",
    "예를 들어 만약 게임에서 RL을 이용하여 Agent에 학습을 한다면 Agent와 Environment의 상호 작용은 게임이 끝나서 승/패가 나뉠때 끝나게 됩니다. \n",
    "\n",
    "모든 RL에서 끝인 ending point가 존재하는 것은 아니지만, 존재한다면 이런 상황을 <span class=\"burk\"><span class=\"mark\">Episodic task</span></span> 라고 부릅니다. "
   ]
  },
  {
   "cell_type": "markdown",
   "metadata": {},
   "source": [
    "![1](nb_images/3.1.png)\n",
    "\n",
    "즉, Episode는 Agent와 Environment의 [시작 ~ 상호작용]이 끝났을 때 까지를 말합니다. Episode가 끝이 나면 Agent는 전체 누적 reward를 계산하여 얼마나 Action을 잘 하였는지를 확인합니다. 따라서 많은 Episode를 거치게 되면 Agent는 점점 더 작업을 잘 수행하게 됩니다. 여기서 말하는 작업의 잘함 정도는 Episode 시작 ~ 끝까지의 누적 reward 총 합이 점점 더 커진다는 뜻입니다."
   ]
  },
  {
   "cell_type": "markdown",
   "metadata": {
    "ExecuteTime": {
     "end_time": "2018-05-05T20:08:33.605779Z",
     "start_time": "2018-05-05T20:08:33.571662Z"
    }
   },
   "source": [
    "![2](nb_images/3.2.png)\n",
    "\n",
    "흔히 게임에서 말하는 점수가 높은 Action을 Agent가 선택할 수 있습니다. "
   ]
  },
  {
   "cell_type": "markdown",
   "metadata": {},
   "source": [
    "![3](nb_images/3.3.png)\n",
    "\n",
    "반면에 게임과 같이 Episode의 단위가 없는 작업도 있을 수 있습니다. 게임에서는 life가 다 소멸되어 끝나는 것처럼 시작과 끝이 있지만, 현실세계에서 주식 시장과 같은 경우에는 Ending point가 없으므로 Agent와 Environment가 실시간으로 학습을 해야 합니다. 이와 같은 경우는 Episodic Task 보다 다소 복잡하며 추후에 다루도록 하겠습니다. "
   ]
  },
  {
   "cell_type": "code",
   "execution_count": null,
   "metadata": {},
   "outputs": [],
   "source": []
  }
 ],
 "metadata": {
  "anaconda-cloud": {},
  "kernelspec": {
   "display_name": "Python [conda root]",
   "language": "python",
   "name": "conda-root-py"
  },
  "language_info": {
   "codemirror_mode": {
    "name": "ipython",
    "version": 3
   },
   "file_extension": ".py",
   "mimetype": "text/x-python",
   "name": "python",
   "nbconvert_exporter": "python",
   "pygments_lexer": "ipython3",
   "version": "3.5.2"
  },
  "varInspector": {
   "cols": {
    "lenName": 16,
    "lenType": 16,
    "lenVar": 40
   },
   "kernels_config": {
    "python": {
     "delete_cmd_postfix": "",
     "delete_cmd_prefix": "del ",
     "library": "var_list.py",
     "varRefreshCmd": "print(var_dic_list())"
    },
    "r": {
     "delete_cmd_postfix": ") ",
     "delete_cmd_prefix": "rm(",
     "library": "var_list.r",
     "varRefreshCmd": "cat(var_dic_list()) "
    }
   },
   "types_to_exclude": [
    "module",
    "function",
    "builtin_function_or_method",
    "instance",
    "_Feature"
   ],
   "window_display": false
  }
 },
 "nbformat": 4,
 "nbformat_minor": 1
}
