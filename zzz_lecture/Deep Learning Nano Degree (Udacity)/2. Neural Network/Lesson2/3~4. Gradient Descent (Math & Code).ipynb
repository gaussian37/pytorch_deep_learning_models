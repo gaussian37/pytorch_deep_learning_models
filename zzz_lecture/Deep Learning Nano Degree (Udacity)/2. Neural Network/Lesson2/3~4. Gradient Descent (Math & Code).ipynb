{
 "cells": [
  {
   "cell_type": "markdown",
   "metadata": {},
   "source": [
    "# Gradient Descent (Math & Code)"
   ]
  },
  {
   "cell_type": "markdown",
   "metadata": {},
   "source": [
    "## 1) Gradient Descent Math"
   ]
  },
  {
   "cell_type": "code",
   "execution_count": 1,
   "metadata": {
    "ExecuteTime": {
     "end_time": "2018-01-28T13:46:27.499068Z",
     "start_time": "2018-01-28T13:46:26.743444Z"
    }
   },
   "outputs": [
    {
     "data": {
      "image/jpeg": "[encoded data removed]",
      "text/html": [
       "\n",
       "        <iframe\n",
       "            width=\"400\"\n",
       "            height=\"300\"\n",
       "            src=\"https://www.youtube.com/embed/7sxA5Ap8AWM\"\n",
       "            frameborder=\"0\"\n",
       "            allowfullscreen\n",
       "        ></iframe>\n",
       "        "
      ],
      "text/plain": [
       "<IPython.lib.display.YouTubeVideo at 0x2457df277f0>"
      ]
     },
     "execution_count": 1,
     "metadata": {},
     "output_type": "execute_result"
    }
   ],
   "source": [
    "from IPython.display import YouTubeVideo\n",
    "YouTubeVideo(\"7sxA5Ap8AWM\")"
   ]
  },
  {
   "cell_type": "markdown",
   "metadata": {},
   "source": [
    "![1](http://postfiles4.naver.net/MjAxODAxMjFfNjcg/MDAxNTE2NTI2NTczMjU5.XOMP2gmS8dV91chPOKiPimKHpH2iyKd0mHFdU41O37gg.sr8ZduXr9oInasbAJ4D_DWqg5tAAWohp3PfQtV_Crugg.PNG.infoefficien/Gradient_Descent-Math.mp4_000010677.png?type=w773)\n",
    "\n",
    "우리는 어떻게 Neural Network를 구성하여 output을 얻을 수 있는지 앞에서 배웠습니다. 그리고 구한 output을 통하여 모델의 예측값을 구할 수 있었습니다. 그러면 weight를 정확히 알기전에 어떻게 모델링을 할 수 있을까요?<br>\n",
    "먼저 weight가 정확할 것이라고 예상하는 값으로  세팅한 다음 점점 실제 model에 적합한 weight를 찾아갑니다.<br>\n",
    "\n",
    "![2](http://postfiles14.naver.net/MjAxODAxMjFfMjcz/MDAxNTE2NTI3NDE5OTcy.50k_JPEvTPfX280emHPd5DwoQezphqhiqmMMVPkr6IUg.tRljCyXA_LN_T_jxZm3bF2uCICnoD2jdfBvkV0LYTMYg.PNG.infoefficien/Gradient_Descent-Math.mp4_000088426.png?type=w773)\n",
    "\n",
    "첫번째, 우리의 model이 현재 weight를 사용하였을 때 얼마나 나쁜지 알 수 있어야 합니다. 현재 weight가 얼마나 나쁜지 알기 위해 이번 예제에서는 SSE를 사용해 보겠습니다.  weight의 좋고 나쁨을 확인하기 위한 척도인 loss function의 종류는 여러가지가 있습니다. 주로 학습에 빠른 CE(Cross Entropy)를 사용하지만 식이 매우 간단한 SSE는 좋은 예가 됩니다.<br>\n",
    "SSE 식을 조금 더 자세히 알아보겠습니다.\n",
    "\n",
    "![3](http://postfiles8.naver.net/MjAxODAxMjFfMjI3/MDAxNTE2NTI4NDM3MTUw.Eyyqk1unmkRBb1kJ7g9nGDqPBOmCgydlbILRinvm3DIg.B_ucDDLSCHhJ7gVH14yJu4i-686JcisdprpPw7dCWfcg.PNG.infoefficien/Gradient_Descent-Math.mp4_000033204.png?type=w773)\n",
    "\n",
    "먼저 정답 label y와 model의 output 값인 prediction $\\hat{y}$의 차이를 Error로 생각합니다. 하지만 이렇게 표현하면 Error의 크기가 양수가 될 수도 있고 음수도 될 수 있어 Error의 절대량을 표현하기가 어려워지므로 항상 양의 값이 되도록 표현하겠습니다.\n",
    "\n",
    "![4](http://postfiles8.naver.net/MjAxODAxMjFfMjU3/MDAxNTE2NTI4NjAwNjQ1.nWhoQCsMCDePjTOhNbQeRvOByZo0grPGy2HrIXNu0VUg.RKR179YZe2yrEOaNdIEuBk62RefVfgQr7gHl_chzO30g.PNG.infoefficien/Gradient_Descent-Math.mp4_000046104.png?type=w773)\n",
    "\n",
    "정답값과 예측값의 차이를 제곱하면 항상 양의 값을 구할 수 있습니다. 절대값을 사용하는 대신 제곱을 사용하는 이유는 좀 더 큰 에러에 더 많은 페널티를 주기 위해서 입니다. 또한 제곱 연산을 이용하는게 나중에 나올 수학 연산을 사용할 때 좀 더 계산이 간편합니다. \n",
    "\n",
    "![5](http://blogfiles.naver.net/MjAxODAxMjFfNzYg/MDAxNTE2NTI5MjY2MDYz.XVgn1Mj7p29VXRI1Qn4xKMNNURRzlHnjHbQVQ0AT9yUg.BHLlGov4a0OQ5G4n0voMP92RRq5IskESYLCoiJxSfdAg.PNG.infoefficien/Gradient_Descent-Math.mp4_000072450.png?type=w1)\n",
    "\n",
    "weight를 업데이트 하기 위해서는 전체 데이터 셋에 대하여 학습을 해야 합니다. 따라서 앞에서 만든 정답값과 예측값의 차이에 제곱한 값을 모든 데이터 셋 $\\mu$ 개에 대하여 모두 적용한 후 합을 구합니다."
   ]
  },
  {
   "cell_type": "markdown",
   "metadata": {},
   "source": [
    "![6](http://blogfiles.naver.net/MjAxODAxMjFfMTk4/MDAxNTE2NTI5NDQ0MTMw.V8K_j0n9Jv5UW_6LLd6yyVKvlEbkrzf4QCr8UiX3ofQg.SrchIIaivRviEcVLK-yq6golkc1AJR1RWtI6I9GzL8Eg.PNG.infoefficien/Gradient_Descent-Math.mp4_000084421.png?type=w1)\n",
    "\n",
    "전체 합의 수식에 마지막으로 $\\frac{1}{2}$를 곱해줍니다. $\\frac{1}{2}$를 곱해주는 이유는 나중에 미분 연산 시 발생하는 상수값 2와 곱해주어 식을 간단하게 만들기 위해서 입니다. \n",
    "\n",
    "![7](http://blogfiles.naver.net/MjAxODAxMjFfNiAg/MDAxNTE2NTI5NTUyMTc3.uf_54lHz08hzluk5IkolKMGcwEIU4crLSo_7qGmIrD0g.tXrzSjip130crcnQSKb0D66QcsPu8CKORPj6AbH1tYIg.PNG.infoefficien/Gradient_Descent-Math.mp4_000088426.png?type=w1)\n",
    "\n",
    "다시 한번 정리하면 위의 형태가 SSE(Sum of the Squared Errors)가 됩니다.\n",
    "\n",
    "![8](http://blogfiles.naver.net/MjAxODAxMjFfMTM3/MDAxNTE2NTI5NTk2NDE5.Fk5rEXQtjfhdwryJOsGP5aJmSFiUSY3x9Wd5joFF5skg.Smw-Kee5Xb2vTXtF4_FmiGQzJXl4BUTj1V0Ia5SKW4Ug.PNG.infoefficien/Gradient_Descent-Math.mp4_000097178.png?type=w1)\n",
    "\n",
    "prediction값인 $\\hat{y}$을 풀어서 대입해 보면 위 식과 같습니다. $\\hat{y}$은 weight와 input의 linear combination의 형태로 연산이 되어있고 이 값은 최종적으로 activation function을 거치게 됩니다.\n",
    "\n",
    "![9](http://blogfiles.naver.net/MjAxODAxMjFfMTMx/MDAxNTE2NTMwMjg2NzY1.5nKjT6-zsUlg77YxqmWR6IKmJ_amDzJgMvdKRlhF-xgg.cVv-PY52q3RQQGn7PXp_KdgM68w-twPW-g0OhSQvhcAg.PNG.infoefficien/Gradient_Descent-Math.mp4_000129539.png?type=w1)\n",
    "\n",
    "위 식을 matrix 형태로 살펴 보면 input값 x와 target값인 y의 형태를 살펴 볼 수 있습니다. \n",
    "\n",
    "![10](http://blogfiles.naver.net/MjAxODAxMjFfMTE0/MDAxNTE2NTMwNDM3NjU2.h9SnpfY9t-59ZRwoCYVgF4VoA2UfHBOtBRTHamPnTqkg.9t_yahZdaSi48bPhcd8Vl97VtdS4_S40fqEJS5MOF8Ug.PNG.infoefficien/Gradient_Descent-Math.mp4_000155518.png?type=w1)\n",
    "\n",
    "SSE는 model의 성능이 얼마나 나쁜지 나타내므로 우리의 목표는 SSE 값을 가능한 한 최소 값으로 만드는 것입니다.  데이터 셋 전체를 고려하기 이전에 데이터 레코드 하나(데이터 행 한개)만 고려하여 좀 더 단순한 형태를 살펴보도록 하겠습니다."
   ]
  },
  {
   "cell_type": "markdown",
   "metadata": {},
   "source": [
    "![11](http://blogfiles.naver.net/MjAxODAxMjFfNTQg/MDAxNTE2NTMwNjkxMjk1.ouJDgbah4ssXyGpHxYRZoU6mXYCfWNTSxGv4h3-mZXcg.b1lpypL8L-EwwbZ4xGCYQP4vEHKPvnALcLzvO_IpFZ0g.PNG.infoefficien/Gradient_Descent-Math.mp4_000158603.png?type=w1)\n",
    "\n",
    "데이터 레코드 하나만 고려 한다면 SSE의 $\\mu$ = 1이므로 $\\Sigma$ 를 없애도 됩니다. 따라서 위와 같이 식을 간단히 적을 수 있습니다. \n",
    "\n",
    "![12](http://blogfiles.naver.net/MjAxODAxMjFfMzAw/MDAxNTE2NTMwOTg4MTc2.a10j43WXFCpb5E3sPvBChUSyS70ZtSvmIFG8L56lk5gg.KdGGf21gy7RKjJ6BjaMyl3JUA2Du7M3Q49M1zxzQZyYg.PNG.infoefficien/Gradient_Descent-Math.mp4_000169197.png?type=w1)\n",
    "\n",
    "다시 $\\hat{y}$을 자세히 표현한 형태로 풀어서 적어보겠습니다.\n",
    "\n",
    "![13](http://blogfiles.naver.net/MjAxODAxMjFfOTMg/MDAxNTE2NTMxMDkxNTQ0.QVWU05dmd4aM3az0aFlzeypO7XYShBCJrO81bmfzaGkg.kOLHPqOenzWXraNjtig2hVLzdiX0TFoiUZb-3IfKzp8g.PNG.infoefficien/Gradient_Descent-Math.mp4_000207111.png?type=w1)\n",
    "\n",
    "위에서 전개한 식을 살펴보면 변수는 weight인 w가 됩니다. w 값의 변화에 따라 SSE 값이 변하게 되고 앞에서 말했듯이 모델의 성능을 개선하기 위하여 SSE를 가장 최소화 하도록 해야합니다. 위 Error 식은 2차원 형태로 되어 있고 변수는 w이므로  w에 따른 2차원 함수 그래프로 나타낼 수 있습니다. 이 때 E의 값을 최소로 만드는 w를 찾는 것이 학습의 목적이 될 수 있습니다. 이 때 한번에 E를 최소로 만드는 w를 찾는 것이 어렵기 때문에 gradient descent 방법을 이용하여 점진적으로 찾아 나아가야 합니다. Error를 줄이기 위해서는 $\\Delta w = -gradient $ 방향으로 weight 값을 변경해야 합니다. \n",
    "\n",
    "![14](http://blogfiles.naver.net/MjAxODAxMjFfMjA4/MDAxNTE2NTMyMDIyMTk5.Og34qTS4R-D2XOKvIOmf-XWimGRMbV-7xFD1Pgk-hgYg.LocwoDBn-HMKBcUogeyKQ5NzFkBH1JLbez3-y70cdRkg.PNG.infoefficien/Gradient_Descent-Math.mp4_000253953.png?type=w1)\n",
    "\n",
    "weight를 업데이트 하기 위해서는 $w_{i}$에 $\\Delta w_{i}$를 더해줍니다. 이 때 $\\Delta w_{i}$는 $\\frac{-\\partial E}{\\partial w_{i}}$값에 비례합니다.  $\\frac{-\\partial E}{\\partial w_{i}}$ 값에 Learning rate $\\eta$를 곱한 값이 최종적으로 업데이트할 값인 $\\Delta w_{i}$ 가 됩니다. 이 때 Learning rate는 Gradient를 얼마나 반영할 지에 대한 hyper parameter가 됩니다. \n",
    "\n",
    "![15](http://blogfiles.naver.net/MjAxODAxMjFfMTg3/MDAxNTE2NTMyNzc2MDM0.KcXnmxYFhcDbudhQ325u9U7Ha6XVNe-9khGiYmdg590g.KBh5hXTXEoPNV9bXs-YSxKgNJyZEcJRFMC39cRrvPUkg.PNG.infoefficien/Gradient_Descent-Math.mp4_000272993.png?type=w1)\n",
    "\n",
    "따라서 $w_{i}$에 대하여 E를 미분하면 위와 같이 전개할 수 있습니다. 이 연산을 좀 더 쉽게 하려면 Chain rule을 적용해야 합니다. "
   ]
  },
  {
   "cell_type": "markdown",
   "metadata": {},
   "source": [
    "![16](http://blogfiles.naver.net/MjAxODAxMjFfMzUg/MDAxNTE2NTMzNDY5NjI2.q9AWoekGLEopzkR56Tc1CTTI4T-sqUpLIx2Oe4dw8T8g.51WLENCirjNEDxS90-xDMjBw4isUq_0o3fkoT6LB-JAg.PNG.infoefficien/Gradient_Descent-Math.mp4_000323289.png?type=w1)\n",
    "\n",
    "만약 변수 z에 대하여 함수 p의 미분을 구하고 싶으면 함수 p는 또다른 함수 q에 의존적이기 때문에 Chain rule을 적용하면 함수 p는 q에 의하여 미분이 되고 다시 함수 q는 변수 z에 대하여 미분이 됩니다. <br>\n",
    "이 형태를 SSE에 접목시켜 보면 $ q = (y - \\hat{y}(w_{i}))$ 이고 $ p = \\frac{1}{2}q(w_{i})^{2}$으로 표현할 수 있으므로 $E = p(q(w_{i}))$가 됩니다. 따라서 위 식과 같이 Chain rule을 적용하여 전개할 수 있습니다. \n",
    "\n",
    "![17](http://blogfiles.naver.net/MjAxODAxMjFfMTYg/MDAxNTE2NTM0ODczNDU3.0f6zEZHD6vk_wrTd9tgSqUvm46EJy49DlyMg4eYii1wg.RHBQobRpDuyW-DYaGJJZcmsp7pQw7DQ5AdouJHdgkYYg.PNG.infoefficien/image_7684643951516534610033.png?type=w1)\n",
    "\n",
    "정답값인 y는 미분식과 전혀 상관이 없고 $ \\hat{y} $ 내의 변수 weight만 관련이 있음을 참조하면 위 식과 같이 편미분 식을 전개할 수 있습니다.\n",
    "\n",
    "![18](http://blogfiles.naver.net/MjAxODAxMjFfMjI5/MDAxNTE2NTM1MjQ1NTQw.Lnw2lxNbRRseclJtwCFtj3BGn_abUODFOZyCsIhH_2og.znyYWYK8epMRsjDt1xAbApYkzl33OlwpaN9_5OcBA6Ug.PNG.infoefficien/Gradient_Descent-Math.mp4_000357452.png?type=w1)\n",
    "\n",
    "$ \\hat{y} $은 weight와 input x의 linear combination에 activation을 적용한 형태이므로 chain rule을 계속 적용하면 위와 같이 식을 전개할 수 있습니다.\n",
    "\n",
    "![19](http://blogfiles.naver.net/MjAxODAxMjFfMTEx/MDAxNTE2NTM1NTEzMDUz.9QpaFKHpgTOxPQ-HQMCOCo3Q44qcbh4BbZXs0OOeHTsg.qbgm-Kd6dWoLQ9xPWeNNQAr9xXUaWTZw7UDKBYmNJw0g.PNG.infoefficien/Gradient_Descent-Math.mp4_000381265.png?type=w1)\n",
    "\n",
    "가장 안쪽의 식을 $ w_{i} $에 대하여 편미분을 하면 최종적으로 $ w_{i} $와 곱으로 연결된 $ x_{i} $만 남고 나머지는 편미분 결과 0이 됩니다. \n",
    "\n",
    "![20](http://blogfiles.naver.net/MjAxODAxMjFfMjQy/MDAxNTE2NTM1NjgzNTIz.Y7V1rYch39pbe_DOKp0PXpcuiWDQhsbbfXsJUmpMu_Yg.mRTKGU0kYlz6JhC_9PYYVRzOZMu6r8_1JJi8w6L1WS4g.PNG.infoefficien/Gradient_Descent-Math.mp4_000398014.png?type=w1)\n",
    "\n",
    "따라서 마지막 식에서 $x_{i}$만 남게되어 $\\Delta w_{i} $의 값을 learning rate와 chain rule의 결과 값을 곱한 것으로 표현할 수 있습니다."
   ]
  },
  {
   "cell_type": "markdown",
   "metadata": {},
   "source": [
    "![21](http://blogfiles.naver.net/MjAxODAxMjFfMjQ5/MDAxNTE2NTM1ODk4MTcw.VPc-h8Sn2tiFNJBpIFg1p6J_grVyoUnZRFWe0fw-hc0g.29lEtq3GwdJtUVKlNhGPKta7chXM-5YpVrGLuYna77og.PNG.infoefficien/Gradient_Descent-Math.mp4_000416395.png?type=w1)\n",
    "\n",
    "따라서 update 시 더해야 하는 term을 $\\delta$ 로 표현하면 $\\Delta w_{i} = \\eta*\\delta*x_{i}$로 정의할 수 있습니다.\n",
    "\n",
    "![22](http://blogfiles.naver.net/MjAxODAxMjFfNTkg/MDAxNTE2NTM2MDMwODkx.dV_bUYiudqNWyC1RrhVBDh_UaSSOid8Q9FJuvpZl9Lcg.VSxiDllRUuf3fK1uH-Og_1e98kYp-YCZJAF6XvtezGwg.PNG.infoefficien/Gradient_Descent-Math.mp4_000435849.png?type=w1)\n",
    "\n",
    "이 때까지 하나의 output만 고려하여 gradient를 구했다면 이제 여러개의 output에 대하여 응용해보면 $w_{ij}$ 에 대하여 모두 연산을 적용하면 됩니다. 위의 예에서는 output의 갯수가 2개아므로 j = 1, 2 값을 가지게 됩니다.\n",
    "\n",
    "![23](http://blogfiles.naver.net/MjAxODAxMjFfMTE4/MDAxNTE2NTM2Mzk3NTQ0.WKq55VFH4GZ-vyrxjt7Wnhj_g3LHGdBGAgPBGVllA0wg.9KHhNh0OphPaEHBxt9fLru_Ys8qLPRnY2eBnxasS6Bsg.PNG.infoefficien/Gradient_Descent-Math.mp4_000455389.png?type=w1)\n",
    "\n",
    "따라서 복수개의 output을 가지려면 복수개(j) 만큼의 ERROR TERM을 가집니다."
   ]
  },
  {
   "cell_type": "markdown",
   "metadata": {},
   "source": [
    "## 2) Gradient Descent Code\n",
    "\n",
    "weight를 업데이트 하기 위해서는 아래 식을 이용해야 합니다.\n",
    "\n",
    "$$ \\Delta w_{i} = \\eta \\delta x_{i} $$\n",
    "\n",
    "$$ \\eta = (y - \\hat{y}) f'(h) = (y - \\hat{y}) f'(\\sum w_{i}x_{i}) $$\n",
    "\n",
    "$$ output error = y - \\hat{y} $$\n",
    "\n",
    "$$ f'(h) = derivative of activation function $$"
   ]
  },
  {
   "cell_type": "code",
   "execution_count": 3,
   "metadata": {
    "ExecuteTime": {
     "end_time": "2018-01-21T22:07:35.236538Z",
     "start_time": "2018-01-21T22:07:35.205956Z"
    }
   },
   "outputs": [],
   "source": [
    "# Defining the sigmoid function for activations\n",
    "def sigmoid(x):\n",
    "    return 1/(1+np.exp(-x))\n",
    "\n",
    "# Derivative of the sigmoid function\n",
    "def sigmoid_prime(x):\n",
    "    return sigmoid(x) * (1 - sigmoid(x))\n",
    "\n",
    "# Input data\n",
    "x = np.array([0.1, 0.3])\n",
    "# Target\n",
    "y = 0.2\n",
    "# Input to output weights\n",
    "weights = np.array([-0.8, 0.5])\n",
    "\n",
    "# The learning rate, eta in the weight step equation\n",
    "learnrate = 0.5\n",
    "\n",
    "# the linear combination performed by the node (h in f(h) and f'(h))\n",
    "h = x[0]*weights[0] + x[1]*weights[1]\n",
    "# or h = np.dot(x, weights)\n",
    "\n",
    "# The neural network output (y-hat)\n",
    "nn_output = sigmoid(h)\n",
    "\n",
    "# output error (y - y-hat)\n",
    "error = y - nn_output\n",
    "\n",
    "# output gradient (f'(h))\n",
    "output_grad = sigmoid_prime(h)\n",
    "\n",
    "# error term (lowercase delta)\n",
    "error_term = error * output_grad\n",
    "\n",
    "# Gradient descent step \n",
    "del_w = [ learnrate * error_term * x[0],\n",
    "          learnrate * error_term * x[1]]\n",
    "# or del_w = learnrate * error_term * x"
   ]
  },
  {
   "cell_type": "markdown",
   "metadata": {},
   "source": [
    "## Gradient Descent 구현"
   ]
  },
  {
   "cell_type": "code",
   "execution_count": 4,
   "metadata": {
    "ExecuteTime": {
     "end_time": "2018-01-21T22:08:17.728963Z",
     "start_time": "2018-01-21T22:08:17.663289Z"
    }
   },
   "outputs": [
    {
     "name": "stdout",
     "output_type": "stream",
     "text": [
      "Neural Network output:\n",
      "0.6899744811276125\n",
      "Amount of Error:\n",
      "-0.1899744811276125\n",
      "Change in Weights:\n",
      "[-0.02031869 -0.04063738 -0.06095608 -0.08127477]\n"
     ]
    }
   ],
   "source": [
    "import numpy as np\n",
    "\n",
    "def sigmoid(x):\n",
    "    \"\"\"\n",
    "    Calculate sigmoid\n",
    "    \"\"\"\n",
    "    return 1/(1+np.exp(-x))\n",
    "\n",
    "def sigmoid_prime(x):\n",
    "    \"\"\"\n",
    "    # Derivative of the sigmoid function\n",
    "    \"\"\"\n",
    "    return sigmoid(x) * (1 - sigmoid(x))\n",
    "\n",
    "learnrate = 0.5\n",
    "x = np.array([1, 2, 3, 4])\n",
    "y = np.array(0.5)\n",
    "\n",
    "# Initial weights\n",
    "w = np.array([0.5, -0.5, 0.3, 0.1])\n",
    "\n",
    "### Calculate one gradient descent step for each weight\n",
    "### Note: Some steps have been consilated, so there are\n",
    "###       fewer variable names than in the above sample code\n",
    "\n",
    "# TODO: Calculate the node's linear combination of inputs and weights\n",
    "h = np.dot(x, w)\n",
    "\n",
    "# TODO: Calculate output of neural network\n",
    "nn_output = sigmoid(h)\n",
    "\n",
    "# TODO: Calculate error of neural network\n",
    "error = y - nn_output\n",
    "\n",
    "# TODO: Calculate the error term\n",
    "#       Remember, this requires the output gradient, which we haven't\n",
    "#       specifically added a variable for.\n",
    "error_term = error * sigmoid_prime(h)\n",
    "\n",
    "# TODO: Calculate change in weights\n",
    "del_w = learnrate * error_term * x\n",
    "\n",
    "print('Neural Network output:')\n",
    "print(nn_output)\n",
    "print('Amount of Error:')\n",
    "print(error)\n",
    "print('Change in Weights:')\n",
    "print(del_w)"
   ]
  },
  {
   "cell_type": "code",
   "execution_count": null,
   "metadata": {},
   "outputs": [],
   "source": []
  }
 ],
 "metadata": {
  "anaconda-cloud": {},
  "kernelspec": {
   "display_name": "Python [conda root]",
   "language": "python",
   "name": "conda-root-py"
  },
  "language_info": {
   "codemirror_mode": {
    "name": "ipython",
    "version": 3
   },
   "file_extension": ".py",
   "mimetype": "text/x-python",
   "name": "python",
   "nbconvert_exporter": "python",
   "pygments_lexer": "ipython3",
   "version": "3.5.2"
  },
  "varInspector": {
   "cols": {
    "lenName": 16,
    "lenType": 16,
    "lenVar": 40
   },
   "kernels_config": {
    "python": {
     "delete_cmd_postfix": "",
     "delete_cmd_prefix": "del ",
     "library": "var_list.py",
     "varRefreshCmd": "print(var_dic_list())"
    },
    "r": {
     "delete_cmd_postfix": ") ",
     "delete_cmd_prefix": "rm(",
     "library": "var_list.r",
     "varRefreshCmd": "cat(var_dic_list()) "
    }
   },
   "types_to_exclude": [
    "module",
    "function",
    "builtin_function_or_method",
    "instance",
    "_Feature"
   ],
   "window_display": false
  }
 },
 "nbformat": 4,
 "nbformat_minor": 1
}
