{
 "cells": [
  {
   "cell_type": "markdown",
   "metadata": {},
   "source": [
    "# Training Optimization"
   ]
  },
  {
   "cell_type": "code",
   "execution_count": 1,
   "metadata": {
    "ExecuteTime": {
     "end_time": "2018-02-11T16:51:17.103851Z",
     "start_time": "2018-02-11T16:51:16.504787Z"
    }
   },
   "outputs": [
    {
     "data": {
      "image/jpeg": "[encoded data removed]",
      "text/html": [
       "\n",
       "        <iframe\n",
       "            width=\"400\"\n",
       "            height=\"300\"\n",
       "            src=\"https://www.youtube.com/embed/UiGKhx9pUYc\"\n",
       "            frameborder=\"0\"\n",
       "            allowfullscreen\n",
       "        ></iframe>\n",
       "        "
      ],
      "text/plain": [
       "<IPython.lib.display.YouTubeVideo at 0x210e13c7b00>"
      ]
     },
     "execution_count": 1,
     "metadata": {},
     "output_type": "execute_result"
    }
   ],
   "source": [
    "from IPython.display import YouTubeVideo\n",
    "YouTubeVideo('UiGKhx9pUYc')"
   ]
  },
  {
   "cell_type": "markdown",
   "metadata": {},
   "source": [
    "지금까지 Deep Learning이 무엇이었고 어떻게 data에 맞게 학습을 하는지 배웠습니다.<br>\n",
    "지금까지 배운 간단한 예제 또는 이론과는 달리 실제 학습시에는 예상한 것과 다르게 학습이 잘 안될 수 있습니다. 다양한 원인으로 학습에 실패하곤 합니다.<br>\n",
    "예를 들어 적절하지 못한 Neural Network Architecture를 선정하였거나 data에 noise가 너무 많거나 또는 실행 시간이 너무 오래 걸리는 문제가 있을 수도 있습니다. <br>\n",
    "앞으로 배울 내용은 학습할 때 Neural Network를 어떻게 optimize 하는가에 대한 방법론 입니다."
   ]
  },
  {
   "cell_type": "markdown",
   "metadata": {},
   "source": [
    "# Testing"
   ]
  },
  {
   "cell_type": "code",
   "execution_count": 2,
   "metadata": {
    "ExecuteTime": {
     "end_time": "2018-02-11T16:53:05.993222Z",
     "start_time": "2018-02-11T16:53:05.712549Z"
    }
   },
   "outputs": [
    {
     "data": {
      "image/jpeg": "[encoded data removed]",
      "text/html": [
       "\n",
       "        <iframe\n",
       "            width=\"400\"\n",
       "            height=\"300\"\n",
       "            src=\"https://www.youtube.com/embed/EeBZpb-PSac\"\n",
       "            frameborder=\"0\"\n",
       "            allowfullscreen\n",
       "        ></iframe>\n",
       "        "
      ],
      "text/plain": [
       "<IPython.lib.display.YouTubeVideo at 0x210e1495710>"
      ]
     },
     "execution_count": 2,
     "metadata": {},
     "output_type": "execute_result"
    }
   ],
   "source": [
    "from IPython.display import YouTubeVideo\n",
    "YouTubeVideo('EeBZpb-PSac')"
   ]
  },
  {
   "cell_type": "markdown",
   "metadata": {},
   "source": [
    "![1](http://postfiles8.naver.net/MjAxODAxMjhfODMg/MDAxNTE3MTQxMDUzMDIw.cLV1mBbTY_yRWHcFZbO6C3Q-mY3-Fp0Q45LboByvK4Mg.L0UX65jhCcaxpBoDKUpbijOBocsFL4EjJI8bKhYvrp0g.PNG.infoefficien/2._Testing.mp4_000037906.png?type=w773)\n",
    "\n",
    "위 두 모델 중 어떤 모델이 더 파란점과 빨간점을 더 잘 분류한다고 생각하십니까?<br>\n",
    "왼쪽 모델은 간단하지만 오 분류된 점들이 있고 오른쪽 모델은 복잡하지만 잘 분류가 되었습니다. 간단히 보기에는 오른쪽 모델이 좀 더 나은것 처럼 보이지만 정확히 확인하기 위해서는 Train/Test set으로 데이터를 나누어서 검토해 보아야 합니다.\n",
    "\n",
    "![2](http://postfiles4.naver.net/MjAxODAxMjhfMjk3/MDAxNTE3MTQxNjE2MzMz.muUKvXobDAoKfxt3Qnfo7tpI8lMTaO3HnDszGG0xStgg.DEiy62hdHeUt8RvBAsNQzf2i-hJCCWDEz6H73FKf8-0g.PNG.infoefficien/2._Testing.mp4_000049855.png?type=w773)\n",
    "\n",
    "data를 Train/Test 셋으로 나누어 보겠습니다. 색깔이 다 칠해져 있는 데이터가 Train set이고 흰색이 칠해져 있는 데이터가 Test set 입니다. \n",
    "\n",
    "![3](http://postfiles7.naver.net/MjAxODAxMjhfMiAg/MDAxNTE3MTQxNjkwMTkw.dUfZT43yoCfH65RT982-f4tokEBj0UDjS0JZqkpo7_kg.y__3JFQioX4idC_3RpTXwJiwUTLtlG_7TkjXYqR1p48g.PNG.infoefficien/2._Testing.mp4_000059056.png?type=w773)\n",
    "\n",
    "실제 학습을 할 때에는 Train set으로만 학습을 하고 Test set은 참조하지 않습니다.\n",
    "\n",
    "![4](http://postfiles7.naver.net/MjAxODAxMjhfMjc1/MDAxNTE3MTQxNzY0MzYx.hV8NJZmZCLiGthPHkLYapoaxn1HCNlAa7cw0e61edisg.au1VzP_dmXEFmYKLIq2qNwMXnYEUBBcqoD8HLEUXARIg.PNG.infoefficien/2._Testing.mp4_000062227.png?type=w773)\n",
    "\n",
    "그리고 Train을 마친 후 Test 할 때에는 Test set 만을 이용하여 평가합니다.\n",
    "\n",
    "![5](http://postfiles5.naver.net/MjAxODAxMjhfNSAg/MDAxNTE3MTQxODExNjIz.XkRuF8xZBJwq3728g0hnI32-m5ppo1a_FSaGHJTZ95og.rZZTRRl03UeH6of7WolAILn4Uc5voytzuZ_DV_Z0Fl4g.PNG.infoefficien/2._Testing.mp4_000071611.png?type=w773)\n",
    "\n",
    "다시 앞의 simple한 모델과 complex한 모델을 각각 학습해 보겠습니다. 먼저 test set은 제외한 상태로 train set 만으로 학습해 봅니다.\n",
    "\n",
    "![6](http://postfiles9.naver.net/MjAxODAxMjhfMTU4/MDAxNTE3MTQxODU4MzYx.n7uCiTC4Xr7Spp3UzNf58Ic1zyOGaSqZDFqifozPw8Qg.Uw6s03A6qEm8uCd1IhSRyACcsRQH2QSx41ueXcJNHlMg.PNG.infoefficien/2._Testing.mp4_000077814.png?type=w773)\n",
    "\n",
    "학습을 마친 뒤 Test set 만을 이용하여 각 모델의 성능을 평가합니다. \n",
    "\n",
    "![7](http://postfiles16.naver.net/MjAxODAxMjhfNTIg/MDAxNTE3MTQxOTE3NTEx.4BKfp-Ez--ZPh1f5enA2ZMGs-yQ-Iroselvydou9-J4g.NfOJjyLEFSuvE9y2jBJNqNSrBIh-hj7zfGTMGYH_52og.PNG.infoefficien/2._Testing.mp4_000090495.png?type=w773)\n",
    "\n",
    "Simple한 모델은 1개가 오 분류 되었지만 Complex한 모델은 2개가 오 분류 되었습니다. 위의 예제처럼 Train set과 Test set를 구성하면 왼쪽의 Simple한 모델이 더 좋은 모델이 됩니다. \n",
    "이 예제의 요지는 <span class=\"mark\">좀 더 복잡한 모델이 보통 성능을 잘 내기는 하지만 항상 복잡한 모델이 더 성능이 좋다는 것은 보장할 수 없습</span>니다.  데이터에 따라서 필요한 model이 다르기도 합니다."
   ]
  },
  {
   "cell_type": "code",
   "execution_count": null,
   "metadata": {},
   "outputs": [],
   "source": []
  }
 ],
 "metadata": {
  "anaconda-cloud": {},
  "kernelspec": {
   "display_name": "Python [conda root]",
   "language": "python",
   "name": "conda-root-py"
  },
  "language_info": {
   "codemirror_mode": {
    "name": "ipython",
    "version": 3
   },
   "file_extension": ".py",
   "mimetype": "text/x-python",
   "name": "python",
   "nbconvert_exporter": "python",
   "pygments_lexer": "ipython3",
   "version": "3.5.2"
  },
  "varInspector": {
   "cols": {
    "lenName": 16,
    "lenType": 16,
    "lenVar": 40
   },
   "kernels_config": {
    "python": {
     "delete_cmd_postfix": "",
     "delete_cmd_prefix": "del ",
     "library": "var_list.py",
     "varRefreshCmd": "print(var_dic_list())"
    },
    "r": {
     "delete_cmd_postfix": ") ",
     "delete_cmd_prefix": "rm(",
     "library": "var_list.r",
     "varRefreshCmd": "cat(var_dic_list()) "
    }
   },
   "types_to_exclude": [
    "module",
    "function",
    "builtin_function_or_method",
    "instance",
    "_Feature"
   ],
   "window_display": false
  }
 },
 "nbformat": 4,
 "nbformat_minor": 1
}
