{
 "cells": [
  {
   "cell_type": "markdown",
   "metadata": {},
   "source": [
    "## Local Minima를 탈출하는 대표적인 방법 3개를 배워보겠습니다.\n",
    "- Learning rate decay\n",
    "- Random Start\n",
    "- Momentum"
   ]
  },
  {
   "cell_type": "markdown",
   "metadata": {},
   "source": [
    "# Learning rate decay"
   ]
  },
  {
   "cell_type": "code",
   "execution_count": 1,
   "metadata": {
    "ExecuteTime": {
     "end_time": "2018-02-11T16:48:31.320856Z",
     "start_time": "2018-02-11T16:48:30.680815Z"
    }
   },
   "outputs": [
    {
     "data": {
      "image/jpeg": "[encoded data removed]",
      "text/html": [
       "\n",
       "        <iframe\n",
       "            width=\"400\"\n",
       "            height=\"300\"\n",
       "            src=\"https://www.youtube.com/embed/TwJ8aSZoh2U\"\n",
       "            frameborder=\"0\"\n",
       "            allowfullscreen\n",
       "        ></iframe>\n",
       "        "
      ],
      "text/plain": [
       "<IPython.lib.display.YouTubeVideo at 0x16da7e08b70>"
      ]
     },
     "execution_count": 1,
     "metadata": {},
     "output_type": "execute_result"
    }
   ],
   "source": [
    "from IPython.display import YouTubeVideo\n",
    "YouTubeVideo('TwJ8aSZoh2U')"
   ]
  },
  {
   "cell_type": "markdown",
   "metadata": {},
   "source": [
    "어떤 Learning rate를 사용할 지는 상당히 연구가 필요하지만 일반적으로 사용하는 방법을 소개하겠습니다. \n",
    "\n",
    "![1](http://postfiles14.naver.net/MjAxODAyMTFfODIg/MDAxNTE4MzI2NTk3OTg1.XRBDDIbVUdBD-osnof-epYXr-q1A_SmtNEU4VXSy0lEg.A60qG0y-0_upegh0C8YbJakt_bBDYs3PXmrivlh8IGMg.PNG.infoefficien/image_3369322751518326131074.png?type=w773)\n",
    "\n",
    "먼저 <span class=\"mark\">너무 큰 learning rate</span>를 사용한다면, 초기에는 빠른 학습이 가능한 것 처럼 보이지만 minimum error에 수렴하지 못하고 발산하게 되어 최적해를 찾지 못하게 됩니다. <br>\n",
    "반면 <span class=\"mark\">너무 작은 learning rate</span>를 사용한다면, 학습도 느리고 local minima에 빠지게 되어 global minima를 찾을 수 없을지도 모릅니다.<br>\n",
    "데이터에 따라서 어떤 learning rate가 학습하기에 좋은지 처음부터 알 수 없습니다.<br>\n",
    "<span class=\"mark\">경험적으로 좋은 방법은 만약 현재 learning rate로 학습이 잘 안된다면, learning rate를 줄여보는 것이 좋습니다.</span>\n",
    "\n",
    "![2](http://postfiles9.naver.net/MjAxODAyMTFfMTky/MDAxNTE4MzI2NjI0MDcy.sS6rAAmvrgoKfBX1u0jlr-afn0wj2BOgKjKUHkDnuKEg.cR9cqJVhrAjUe_7CCh8Ct6oZlpjvHuJPoAsF0sxuZccg.PNG.infoefficien/image_9997129141518326545128.png?type=w773)\n",
    "\n",
    "<span class=\"mark\">global minima에 해당하는 solution에 점점 가까워질수록 learning rate를 점점 줄여나가는 것</span>이 좋은 \"경험적\"인 방법 중 하나입니다."
   ]
  },
  {
   "cell_type": "markdown",
   "metadata": {},
   "source": [
    "# Random Restart"
   ]
  },
  {
   "cell_type": "code",
   "execution_count": 2,
   "metadata": {
    "ExecuteTime": {
     "end_time": "2018-02-11T16:49:12.687408Z",
     "start_time": "2018-02-11T16:49:12.424804Z"
    }
   },
   "outputs": [
    {
     "data": {
      "image/jpeg": "[encoded data removed]",
      "text/html": [
       "\n",
       "        <iframe\n",
       "            width=\"400\"\n",
       "            height=\"300\"\n",
       "            src=\"https://www.youtube.com/embed/idyBBCzXiqg\"\n",
       "            frameborder=\"0\"\n",
       "            allowfullscreen\n",
       "        ></iframe>\n",
       "        "
      ],
      "text/plain": [
       "<IPython.lib.display.YouTubeVideo at 0x16da7ed4748>"
      ]
     },
     "execution_count": 2,
     "metadata": {},
     "output_type": "execute_result"
    }
   ],
   "source": [
    "from IPython.display import YouTubeVideo\n",
    "YouTubeVideo('idyBBCzXiqg')"
   ]
  },
  {
   "cell_type": "markdown",
   "metadata": {},
   "source": [
    "![1](http://postfiles4.naver.net/MjAxODAyMTFfNTgg/MDAxNTE4MzI3MzI3Njk3.otGbwyaEZNBUu9rrqX-O-q1DhcSJloJH5nPpgHFjkBog.zRVUEFchpsL42Cxp6gjD79DHS4Ps8zDDpvczqjgks4gg.PNG.infoefficien/13._Random_Restart.mp4_000006417.png?type=w773)\n",
    "![2](http://postfiles1.naver.net/MjAxODAyMTFfMjEz/MDAxNTE4MzI3NDgyNDI5.FaPCap2OQcrkHXs_60Gpf4c6R2O0OnogkHQrDQsp-pQg.WK0AoXErDVKiJFm5-RK3EPO-HJd9Y3CCf8YjSHO0qIkg.GIF.infoefficien/ezgif.com-gif-maker.gif?type=w773)\n",
    "\n",
    "학습 시 임의의 여러 시작점에서 시작하여 학습을 합니다. 시작점을 달리하면 비록 local minima에 빠졌다고 하더라고 다른 케이스에서 global minima에 도달 할 수 있으므로 아주 심플하고 직관적인 local minima를 해결하는 방법이 될 수 있습니다. "
   ]
  },
  {
   "cell_type": "markdown",
   "metadata": {},
   "source": [
    "# Momentum"
   ]
  },
  {
   "cell_type": "code",
   "execution_count": 3,
   "metadata": {
    "ExecuteTime": {
     "end_time": "2018-02-11T16:49:53.681244Z",
     "start_time": "2018-02-11T16:49:53.400158Z"
    }
   },
   "outputs": [
    {
     "data": {
      "image/jpeg": "[encoded data removed]",
      "text/html": [
       "\n",
       "        <iframe\n",
       "            width=\"400\"\n",
       "            height=\"300\"\n",
       "            src=\"https://www.youtube.com/embed/r-rYz_PEWC8\"\n",
       "            frameborder=\"0\"\n",
       "            allowfullscreen\n",
       "        ></iframe>\n",
       "        "
      ],
      "text/plain": [
       "<IPython.lib.display.YouTubeVideo at 0x16da7ed47f0>"
      ]
     },
     "execution_count": 3,
     "metadata": {},
     "output_type": "execute_result"
    }
   ],
   "source": [
    "from IPython.display import YouTubeVideo\n",
    "YouTubeVideo('r-rYz_PEWC8')"
   ]
  },
  {
   "cell_type": "markdown",
   "metadata": {},
   "source": [
    "![1](http://postfiles4.naver.net/MjAxODAyMTFfNTQg/MDAxNTE4MzI5NDM3MTY5.zU2Z3kAd6R-4APfvN_wEiFz7QCsGqad75hVZqvyGUbwg.VU_x_um9L8F402GRI66Vr63KCjNH2n_GLOd7Mb1sBTQg.GIF.infoefficien/ezgif.com-gif-maker.gif?type=w773)\n",
    "\n",
    "Momentum은 momentum 값을 이용하여 step의 크기에 변화를 주어 좀 더 빠르게 이동하는 아이디어를 말합니다. 만약 local minimum에 빠지게 된다면, momentum을 이용하여 언덕(오르막)을 넘어서 더 낮은 Error를 찾아갑니다. \n",
    "\n",
    "![2](http://postfiles7.naver.net/MjAxODAyMTFfMjI4/MDAxNTE4MzI5ODU5NDEz.8vJJAPtD60FWAImr8Br7C8Tu3nVc8OXCEnLGgBhO6Bkg.5SvJ5vtSlxWvIa9d7bzxr9qQ1K8s6ishk977nVzJHacg.PNG.infoefficien/image_9609325221518329785764.png?type=w773)\n",
    "\n",
    "예를 들어 시작점에서 global minima를 도달하려고 하지만 중간에 local minima에 빠지게 되었을 경우 gradient가 0에 가까워지거나 너무 작아서 global minima로 넘어가지 못하게 됩니다.(언덕 구간을 넘어갈 만큼 step이 크지 못하기 때문입니다.)\n",
    "이 때 <span class=\"mark\">현재 step 뿐 아니라 이전 step들을 참조하여 step의 크기를 결정</span>하면 어떻게 될까요? 이 때 사용할 수 있는 방법이 <span class=\"mark\">마지막 몇개의 step들의 평균</span>을 구하는 것입니다.\n",
    "\n",
    "![3](http://postfiles3.naver.net/MjAxODAyMTFfMTM5/MDAxNTE4MzMwMjQ2MDg5.QkjRg1NzTPP1oADFeHoFGhK18jsApIX7YunKNvDjbJgg.dITzDHc_vHJXYzkDbKMyCFefG_kAy_zSpdlMPzBs97Ug.GIF.infoefficien/ezgif.com-gif-maker.gif?type=w773)\n",
    "\n",
    "위와 같이 마지막 몇개의 평균을 이용하여 다음 step의 크기를 결정하면 언덕을 넘을만 한 step의 크기를 가질 수 있습니다. \n",
    "\n",
    "![4](http://postfiles6.naver.net/MjAxODAyMTFfMjk5/MDAxNTE4MzMxMjUyNzA5.Em4g-yaTlNOTO96fx0Zl4Xq9RjBj_2pwi7VaaioihTsg.9wiy4xPEHX0l4bvyKUr2D-ObkmkBRm0PbIE7xpIIS44g.PNG.infoefficien/14._Momentum.mp4_000091563.png?type=w773)\n",
    "\n",
    "평균을 사용할 때, 바로 직전의 step과 3번째 이전의 step, 10번째 이전의 step이 동일한 영향력을 가지기 보다는 <span class=\"mark\">좀더 최근에 사용한 step일 수록 가중치를 더 크게 가지는 것이 학습 방향에 좀 더 합리적</span>이라고 생각됩니다. 따라서 Momentum 상수 $\\beta$를 도입합니다. $\\beta$는 0과 1 사이의 값입니다. 직전 step에는 상수 $\\beta^{0}$을 곱하고 그 이전에는 $\\beta^{1}$, 한 스텝 더 이전에는 $\\beta^{2}$를 계속 곱해줍니다. $\\beta$의 크기로 인하여 오래된 step은 페널티를 더 주어서 영향력을 낮게 만드는 것이 momentum 방법입니다. "
   ]
  },
  {
   "cell_type": "code",
   "execution_count": null,
   "metadata": {},
   "outputs": [],
   "source": []
  }
 ],
 "metadata": {
  "anaconda-cloud": {},
  "kernelspec": {
   "display_name": "Python [conda root]",
   "language": "python",
   "name": "conda-root-py"
  },
  "language_info": {
   "codemirror_mode": {
    "name": "ipython",
    "version": 3
   },
   "file_extension": ".py",
   "mimetype": "text/x-python",
   "name": "python",
   "nbconvert_exporter": "python",
   "pygments_lexer": "ipython3",
   "version": "3.5.2"
  },
  "varInspector": {
   "cols": {
    "lenName": 16,
    "lenType": 16,
    "lenVar": 40
   },
   "kernels_config": {
    "python": {
     "delete_cmd_postfix": "",
     "delete_cmd_prefix": "del ",
     "library": "var_list.py",
     "varRefreshCmd": "print(var_dic_list())"
    },
    "r": {
     "delete_cmd_postfix": ") ",
     "delete_cmd_prefix": "rm(",
     "library": "var_list.r",
     "varRefreshCmd": "cat(var_dic_list()) "
    }
   },
   "types_to_exclude": [
    "module",
    "function",
    "builtin_function_or_method",
    "instance",
    "_Feature"
   ],
   "window_display": false
  }
 },
 "nbformat": 4,
 "nbformat_minor": 1
}
