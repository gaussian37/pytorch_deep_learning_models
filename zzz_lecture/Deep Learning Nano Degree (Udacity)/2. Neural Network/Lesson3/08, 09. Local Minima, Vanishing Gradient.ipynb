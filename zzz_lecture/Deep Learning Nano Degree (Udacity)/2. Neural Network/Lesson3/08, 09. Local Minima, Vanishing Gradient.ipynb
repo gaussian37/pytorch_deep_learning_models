{
 "cells": [
  {
   "cell_type": "markdown",
   "metadata": {},
   "source": [
    "# Local Minima"
   ]
  },
  {
   "cell_type": "code",
   "execution_count": 1,
   "metadata": {
    "ExecuteTime": {
     "end_time": "2018-02-10T09:03:59.028448Z",
     "start_time": "2018-02-10T09:03:58.434486Z"
    }
   },
   "outputs": [
    {
     "data": {
      "image/jpeg": "[encoded data removed]",
      "text/html": [
       "\n",
       "        <iframe\n",
       "            width=\"400\"\n",
       "            height=\"300\"\n",
       "            src=\"https://www.youtube.com/embed/gF_sW_nY-xw\"\n",
       "            frameborder=\"0\"\n",
       "            allowfullscreen\n",
       "        ></iframe>\n",
       "        "
      ],
      "text/plain": [
       "<IPython.lib.display.YouTubeVideo at 0x2a0cd1b6da0>"
      ]
     },
     "execution_count": 1,
     "metadata": {},
     "output_type": "execute_result"
    }
   ],
   "source": [
    "from IPython.display import YouTubeVideo\n",
    "YouTubeVideo('gF_sW_nY-xw')"
   ]
  },
  {
   "cell_type": "markdown",
   "metadata": {},
   "source": [
    "Gradient Descent의 역할에 대하여 다시 상기시켜 보겠습니다.\n",
    "![1](http://postfiles1.naver.net/MjAxODAyMTBfMTUg/MDAxNTE4MTg4NDgzMjM5.GhdyUcpgQWuSp2o1-Tq4RN1DffMPynb0rs8yqMZGxuQg.SH6rTuLXTMxz1fvjK8oSshJz689DvZQ47Yr2JtLM__Ag.PNG.infoefficien/8._Local_Minima.mp4_000005860.png?type=w773)\n",
    "\n",
    "Gradient Descent 에서는 가장 깊게 내려갈 수 있는 방향을 선택 한 뒤 그 방향으로 내려가는 로직을 사용합니다. 물론 여기서 높이는 Error에 해당합니다. <br>\n",
    "이상적인 Error 곡선의 형태는 봉우리가 하나인 뾰족한 산의 형태가 됩니다. 하지만 위의 곡선처럼 형태가 오르락 내리락 하면 어떻게 될까요? <br>\n",
    "\n",
    "![2](http://postfiles8.naver.net/MjAxODAyMTBfMjI0/MDAxNTE4MTg4Njg3Mjgx.lwmIyTY59O3lT-QnyZk3lmrGWS1as7d3dY8c6UfrCXsg.d0zmpUqC1iGmzTfxPsZe_z4vNCLhXNUO3FKkqS4xAAYg.PNG.infoefficien/8._Local_Minima.mp4_000034130.png?type=w773)\n",
    "\n",
    "Error가 가장 낮은 곳으로 GD를 사용하여 움직이는 도중에 지역적으로만 Error가 최소값을 가지는 구간에 갇히게 될 수 있습니다. 이 때는 전체 문제에 대한 최적의 solution을 찾을 수 없습니다. 이러한 구간을 'Local minima' 라고 하게 됩니다."
   ]
  },
  {
   "cell_type": "markdown",
   "metadata": {},
   "source": [
    "# Vanishing Gradient"
   ]
  },
  {
   "cell_type": "code",
   "execution_count": 2,
   "metadata": {
    "ExecuteTime": {
     "end_time": "2018-02-10T09:06:06.048489Z",
     "start_time": "2018-02-10T09:06:05.762271Z"
    }
   },
   "outputs": [
    {
     "data": {
      "image/jpeg": "[encoded data removed]",
      "text/html": [
       "\n",
       "        <iframe\n",
       "            width=\"400\"\n",
       "            height=\"300\"\n",
       "            src=\"https://www.youtube.com/embed/W_JJm_5syFw\"\n",
       "            frameborder=\"0\"\n",
       "            allowfullscreen\n",
       "        ></iframe>\n",
       "        "
      ],
      "text/plain": [
       "<IPython.lib.display.YouTubeVideo at 0x2a0cd297ac8>"
      ]
     },
     "execution_count": 2,
     "metadata": {},
     "output_type": "execute_result"
    }
   ],
   "source": [
    "from IPython.display import YouTubeVideo\n",
    "YouTubeVideo('W_JJm_5syFw')"
   ]
  },
  {
   "cell_type": "markdown",
   "metadata": {},
   "source": [
    "![1](http://postfiles6.naver.net/MjAxODAyMTBfNjIg/MDAxNTE4MTkwNDkxNzgz.Lplpkah-BKM-VHaHaUsKtrYeQ5MxjyE01Gh5PqQTeNgg.890yg98nSVtdo5Tt1nKtvw0WgjyD6Hbx_o-qILHSQacg.PNG.infoefficien/9._Vanishing_Gradient.mp4_000017068.png?type=w773)\n",
    "\n",
    "Sigmoid function을 살펴보면 x값이 점점 커지거나 작아지면 curve가 상당히 평평해 짐을 알 수 있습니다. 이 때 미분값은 0에 점점 수렴하게 됩니다. <br>\n",
    "미분값이 0에 가까워지면 학습 시 문제가 발생할 수 있습니다. 왜냐하면 미분값이 어떤 방향 학습을 해야하는지에 대한 척도가 되기 때문입니다. <br>\n",
    "\n",
    "![2](http://postfiles15.naver.net/MjAxODAyMTBfMjI4/MDAxNTE4MTkwNzU2NzI2.-q-WJ7--KKEm2EL6R7cVrpOuisyRfyQP5Pyw932lCwYg.8yCH0YswyHFcKwtg0daaOTEVtY_d98AYhes5C2NZDcwg.PNG.infoefficien/9._Vanishing_Gradient.mp4_000046067.png?type=w773)\n",
    "\n",
    "BP 시 각각의 weight에 대하여 error function 의 미분을 해야 합니다. Chain rule에 따라서 input 값에 대한 Error function의 미분값을 구하려면 computational graph에서 각 input과 output 사이의 미분값들을 곱하면 됩니다. <br>\n",
    "만약 activation function이 sigmoid라면 sigmoid function의 input 값이 0에서 벗어날수록 미분값은 0에 가까워지기 때문에 각각의 미분값은 0에 가까워지고 전체 곱은 매우 작아지게 됩니다.  <br>\n",
    "\n",
    "![3](http://postfiles1.naver.net/MjAxODAyMTBfMjE2/MDAxNTE4MTkxMzc4OTU0.FS93ay4-fW4wZJ5QuAFNR5ucUyAOrifrb0x0Gtm8eosg.VYCWHf-NU8D1bb-LuxXiHFn5DwzWMqYuvit7CUOK7Ncg.PNG.infoefficien/9._Vanishing_Gradient.mp4_000063421.png?type=w773)\n",
    "\n",
    "미분 값이 너무 작아지면 GD 시 step의 보폭이 너무 작아져서 학습이 제대로 이루어 지지 않습니다. 어떻게 이런 문제들을 해결할 수 있을까요?"
   ]
  },
  {
   "cell_type": "code",
   "execution_count": null,
   "metadata": {},
   "outputs": [],
   "source": []
  }
 ],
 "metadata": {
  "anaconda-cloud": {},
  "kernelspec": {
   "display_name": "Python [conda root]",
   "language": "python",
   "name": "conda-root-py"
  },
  "language_info": {
   "codemirror_mode": {
    "name": "ipython",
    "version": 3
   },
   "file_extension": ".py",
   "mimetype": "text/x-python",
   "name": "python",
   "nbconvert_exporter": "python",
   "pygments_lexer": "ipython3",
   "version": "3.5.2"
  },
  "varInspector": {
   "cols": {
    "lenName": 16,
    "lenType": 16,
    "lenVar": 40
   },
   "kernels_config": {
    "python": {
     "delete_cmd_postfix": "",
     "delete_cmd_prefix": "del ",
     "library": "var_list.py",
     "varRefreshCmd": "print(var_dic_list())"
    },
    "r": {
     "delete_cmd_postfix": ") ",
     "delete_cmd_prefix": "rm(",
     "library": "var_list.r",
     "varRefreshCmd": "cat(var_dic_list()) "
    }
   },
   "types_to_exclude": [
    "module",
    "function",
    "builtin_function_or_method",
    "instance",
    "_Feature"
   ],
   "window_display": false
  }
 },
 "nbformat": 4,
 "nbformat_minor": 1
}
