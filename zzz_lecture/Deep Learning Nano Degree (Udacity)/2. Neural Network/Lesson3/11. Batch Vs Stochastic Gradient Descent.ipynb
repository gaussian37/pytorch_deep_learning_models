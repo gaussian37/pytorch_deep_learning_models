{
 "cells": [
  {
   "cell_type": "markdown",
   "metadata": {},
   "source": [
    "# Batch Vs Stochastic Gradient Descent"
   ]
  },
  {
   "cell_type": "code",
   "execution_count": 1,
   "metadata": {
    "ExecuteTime": {
     "end_time": "2018-02-10T09:14:06.693659Z",
     "start_time": "2018-02-10T09:14:06.081857Z"
    }
   },
   "outputs": [
    {
     "data": {
      "image/jpeg": "[encoded data removed]",
      "text/html": [
       "\n",
       "        <iframe\n",
       "            width=\"400\"\n",
       "            height=\"300\"\n",
       "            src=\"https://www.youtube.com/embed/2p58rVgqsgo\"\n",
       "            frameborder=\"0\"\n",
       "            allowfullscreen\n",
       "        ></iframe>\n",
       "        "
      ],
      "text/plain": [
       "<IPython.lib.display.YouTubeVideo at 0x22e70ceb160>"
      ]
     },
     "execution_count": 1,
     "metadata": {},
     "output_type": "execute_result"
    }
   ],
   "source": [
    "from IPython.display import YouTubeVideo\n",
    "YouTubeVideo('2p58rVgqsgo')"
   ]
  },
  {
   "cell_type": "markdown",
   "metadata": {},
   "source": [
    "## Gradient Descent\n",
    "\n",
    "![1](http://postfiles5.naver.net/MjAxODAyMTBfMTAx/MDAxNTE4MTk2NDMwMzEz.ij1V3lL-OVsnAIHP9CvIrF6LJ3nQELG3_ypijb5Niskg.aAKOB-eCdCLRyLH9qiVVFhAHfERuRGIiWikbLz_zCfkg.PNG.infoefficien/11._Batch_Vs_Stochastic_Gradient_Descent.mp4_000024938.png?type=w773)\n",
    "\n",
    "Gradient Descent를 다시 상기시켜보면 Error를 줄이기 위하여 step을 지속 반복하는 동안 gradient 값만큼 Error를 줄여줍니다. 이 때 반복되는 step을 Epoch이라고 합니다. 그러면 각 Epoch 동안 어떤 작업이 이루어지는지 알아보도록 하겠습니다.\n",
    "\n",
    "![2](http://postfiles1.naver.net/MjAxODAyMTBfMjg5/MDAxNTE4MTk4NDMzNjcy.wVJuVfInIMMpil8rU1l-9l_OLL_zdhNlKw9Rq3Dq2DQg.lqIIi0-Zcoqw_nYji9xNHB4jBn76MS0guilWv8m0W7wg.GIF.infoefficien/ezgif.com-video-to-gif.gif?type=w773)\n",
    "\n",
    "각각의 Epoch 마다 가지고 있는 모든 data를 input으로 받고 Neural Network 전체에 걸쳐 적용 시킵니다. 그리고 Prediction값과 Error 값을 찾습니다. \n",
    "\n",
    "![3](http://postfiles3.naver.net/MjAxODAyMTBfMjUz/MDAxNTE4MTk4NDYyMzg1.nsoJ8dstyx_e1GCl-1P3NrZaMa-d_q_R6KZnPRtshF8g.dgWo7N4SrCzjj_g9oN6LMqlslN5RNEjalmeZOGbL9Hcg.GIF.infoefficien/ezgif.com-video-to-gif_%281%29.gif?type=w773)\n",
    "\n",
    "다음으로 BP를 이용하여 Gradient를 구하고 weight를 update 합니다. 그 결과 boundary를 좀 더 Prediction하기 좋게 변화 시킵니다. \n",
    "\n",
    "이 작업은 <span class=\"mark\">모든 데이터에 적용</span> 됩니다. <br>\n",
    "일반적으로 학습시에는 수많은 데이터들을 다루어야 하고 이 데이터들을 이용하여 Neural Network를 적용하면 matrix computation에 너무 큰 비용이 발생하게 됩니다. 따라서 각 Epoch 당 모든 데이터를 적용하여 학습을 하면 너무 많은 연산과 메모리가 사용되어야 하므로 학습하는 데 하드웨어 및 시간에 한계가 생깁니다.<br>\n",
    "이 연산을 좀 더 빠르게 처리하는 방법이 있을까요?<br>\n",
    "이 문제를 해결하기 위해서 먼저 생각해야 할 것이 <span class=\"mark\">모든 데이터를 매번 step 마다 Network에 집어 넣어야 하는지 고민</span>해봐야 합니다. 만약 데이터가 잘 분포되어 있다면 전체 데이터 중 일부분만 이용하면 꽤 유사한 학습을 할 수 있지 않을까요?\n",
    "물론 이렇게 <span class=\"mark\">subset 샘플을 얻어서 학습을 하는 것이 항상 학습에 가장 좋은것은 아니지만 빠르게 학습을 할 수 있고 메모리 관점에서도 부담이 덜가게 됩니다.</span> 그리고 이 step을 계속해서 반복하기 때문에 효과도 좋을것이라 예상됩니다."
   ]
  },
  {
   "cell_type": "markdown",
   "metadata": {},
   "source": [
    "## Stochastic Gradient Descent\n",
    "\n",
    "![1](http://postfiles13.naver.net/MjAxODAyMTBfMTg4/MDAxNTE4MjE4NjEzOTE1.l2ahcAKEAMq718RmnRRsJ564XygIQ3H8h0STYmZlgDcg.2VQR5QP3pU_sXqYm7Y4_Rq7vim2AIUYuIVy_ZV9ZN_Mg.PNG.infoefficien/image_7321645081518218545354.png?type=w773)\n",
    "\n",
    "SGD(Stochastic Gradient Descent)에서는 subset 데이터를 이용하여 Neural Network에 데이터를 Feed 하고 Error function의 gradient를 계산하여 weight를 update 합니다. \n",
    "\n",
    "먼저 데이터 전체를 batch 단위로 나눕니다. 위 예제에서는 24개의 point가 있습니다. 예를 들어 4개의 batch를 기준으로 데이터를 나누고 따라서 각 batch 당 6개의 데이터 포인트를 갖도록 구성해 보겠습니다. \n",
    "\n",
    "![2](http://postfiles8.naver.net/MjAxODAyMTBfMjAg/MDAxNTE4MjE5OTU4MzU1.JQVBW_2cWyxn6PEZl3FUHKromPpzPCsOU1ierfQzpicg.MuukJYjLSd9B4NOAEkME-g--PoM1NLcLY2vYzxfvC-kg.PNG.infoefficien/image_578703831518219913210.png?type=w773)\n",
    "![3](http://postfiles8.naver.net/MjAxODAyMTBfMzYg/MDAxNTE4MjIwMDE0ODM0.6QQRaDnAPqMWkNj7-3E73GTBVfQb_wC_1ytjxySmYAog.BjovdzWGYYtRKQwh2Jb3N32EaBfdav2dEVJwj8WWODQg.PNG.infoefficien/image_3429595801518219968588.png?type=w773)\n",
    "\n",
    "첫번째 Step에서 FP와 BP를 이용하여 weight를 업데이트하여 Boundary를 갱신 합니다. 위의 6개 point가 첫 batch의 데이터 입니다.  \n",
    "\n",
    "![4](http://postfiles5.naver.net/MjAxODAyMTBfODIg/MDAxNTE4MjIwMTYyNTgy.zVOFSQ3MXA3chQBCoZVOhBYflkq5sYv1GXGWqgnFS8cg.7t7FzTIH8axck4p7jkZsA4BPrJGJZjTy7C8XoqOxFqEg.PNG.infoefficien/11._Batch_Vs_Stochastic_Gradient_Descent.mp4_000141353.png?type=w773)\n",
    "\n",
    "![5](http://postfiles5.naver.net/MjAxODAyMTBfODIg/MDAxNTE4MjIwMTYyNTgy.zVOFSQ3MXA3chQBCoZVOhBYflkq5sYv1GXGWqgnFS8cg.7t7FzTIH8axck4p7jkZsA4BPrJGJZjTy7C8XoqOxFqEg.PNG.infoefficien/11._Batch_Vs_Stochastic_Gradient_Descent.mp4_000141353.png?type=w773)\n",
    "\n",
    "두번째 step에서도 동일한 방법으로 SGD를 실시하고 weight를 업데이트 하여 boundary를 변경합니다. \n",
    "\n",
    "![6](http://postfiles3.naver.net/MjAxODAyMTBfMzEg/MDAxNTE4MjIwMjQyMjg1.14YhGTnU72EHAyia7kuA53yjRAze6QthtapIJlSunxIg.FLiY56eECNwi2_LFCeosCNvKkAdJEfRnKHTzx4ubd0sg.PNG.infoefficien/11._Batch_Vs_Stochastic_Gradient_Descent.mp4_000159897.png?type=w773)\n",
    "\n",
    "3번째, 4번째 batch도 학습하여 최종적으로 위와 같은 boundary를 얻을 수 있습니다.<br>\n",
    "<span class=\"mark\">batch 단위로 나누어 학습을 여러번에 걸쳐서 하는것이 정확도 측면에서는 한번에 모든 데이터를 학습하는 것 보다 떨어질 수 있지만, 실제 사용적인 측면에서는 현실적인 방법입니다.(시간 & 메모리 측면) 그리고 실제 accuracy를 확인해 보면 SGD 방식의 정확도가 뒤 떨어지지 않습니다.</span>        "
   ]
  }
 ],
 "metadata": {
  "anaconda-cloud": {},
  "kernelspec": {
   "display_name": "Python [conda root]",
   "language": "python",
   "name": "conda-root-py"
  },
  "language_info": {
   "codemirror_mode": {
    "name": "ipython",
    "version": 3
   },
   "file_extension": ".py",
   "mimetype": "text/x-python",
   "name": "python",
   "nbconvert_exporter": "python",
   "pygments_lexer": "ipython3",
   "version": "3.5.2"
  },
  "varInspector": {
   "cols": {
    "lenName": 16,
    "lenType": 16,
    "lenVar": 40
   },
   "kernels_config": {
    "python": {
     "delete_cmd_postfix": "",
     "delete_cmd_prefix": "del ",
     "library": "var_list.py",
     "varRefreshCmd": "print(var_dic_list())"
    },
    "r": {
     "delete_cmd_postfix": ") ",
     "delete_cmd_prefix": "rm(",
     "library": "var_list.r",
     "varRefreshCmd": "cat(var_dic_list()) "
    }
   },
   "types_to_exclude": [
    "module",
    "function",
    "builtin_function_or_method",
    "instance",
    "_Feature"
   ],
   "window_display": false
  }
 },
 "nbformat": 4,
 "nbformat_minor": 1
}
