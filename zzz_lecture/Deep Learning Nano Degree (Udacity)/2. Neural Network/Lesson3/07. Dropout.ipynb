{
 "cells": [
  {
   "cell_type": "markdown",
   "metadata": {},
   "source": [
    "# Dropout"
   ]
  },
  {
   "cell_type": "code",
   "execution_count": 1,
   "metadata": {
    "ExecuteTime": {
     "end_time": "2018-02-08T00:31:16.703892Z",
     "start_time": "2018-02-08T00:31:16.048991Z"
    }
   },
   "outputs": [
    {
     "data": {
      "image/jpeg": "[encoded data removed]",
      "text/html": [
       "\n",
       "        <iframe\n",
       "            width=\"400\"\n",
       "            height=\"300\"\n",
       "            src=\"https://www.youtube.com/embed/Ty6K6YiGdBs\"\n",
       "            frameborder=\"0\"\n",
       "            allowfullscreen\n",
       "        ></iframe>\n",
       "        "
      ],
      "text/plain": [
       "<IPython.lib.display.YouTubeVideo at 0x298309c91d0>"
      ]
     },
     "execution_count": 1,
     "metadata": {},
     "output_type": "execute_result"
    }
   ],
   "source": [
    "from IPython.display import YouTubeVideo\n",
    "YouTubeVideo('Ty6K6YiGdBs')"
   ]
  },
  {
   "cell_type": "markdown",
   "metadata": {},
   "source": [
    "이번 강의에서는 Overfitting을 막는 또 다른 방법 중 하나인 Dropout에 대하여 설명드리겠습니다.\n",
    "\n",
    "![1](http://postfiles4.naver.net/MjAxODAyMDdfMjU0/MDAxNTE4MDEzODkzNTMx.g2T1IrCi2bG7KwdH0ubjoyVy3DoWCqbBYRmgQZ0avL8g.4kkjrMN_GbsQ0IPdvjrWEus5E2JLtMfGDz2nm9Yvvrsg.PNG.infoefficien/7._Dropout.mp4_000028281.png?type=w773)\n",
    "\n",
    "운동을 할 때, 한 손만을 이용하여 운동을 하게 되면 균형있게 운동(학습)을 할 수 없게 됩니다.\n",
    "\n",
    "![2](http://postfiles10.naver.net/MjAxODAyMDdfMjE5/MDAxNTE4MDEzODkzNTkw.gkxki3skLjYJdFl8SPBWKa7N2XWoOD_HMyTgERlMxRQg.SK2W0vf0OceiiD32hb7ReuydnG1gz9shg6OtSY5eWmEg.PNG.infoefficien/7._Dropout.mp4_000079727.png?type=w773)\n",
    "\n",
    "따라서 월요일은 왼손, 화요일은 오른손, 수요일은 다시 왼속으로 운동하듯이 규칙적으로 기준을 잡고 번갈아 가면서 운동을 하면 균형잡인 운동(학습)을 할 수 있습니다. \n",
    "다소 간단한 예제이지만 번갈아 가면서 운동하는 것은 마치 dropout 처럼 이해할 수 있습니다.\n",
    "\n",
    "![3](http://postfiles16.naver.net/MjAxODAyMDdfMjIz/MDAxNTE4MDE0MTAxNTYw.a4DtY5SLakEEkSickZaVAiOj8jVhhICQFaYm-sWzb_cg.Z_dXzuP3NmP35wxOMhM7G5CqnF5v1SgBiLoOACCXvRcg.PNG.infoefficien/7._Dropout.mp4_000097756.png?type=w773)\n",
    "\n",
    "예를 들어 Neural network의 <span class=\"mark\">어떤 부분의 weight가 너무 큰 경우에 학습 시 이 부분에 의해서만 학습이 좌우될 수 있습니다.</span> 따라서 나머지 부분은 학습에 영향을 미치지 않게 됩니다. \n",
    "\n",
    "![4](http://postfiles11.naver.net/MjAxODAyMDhfODMg/MDAxNTE4MDE1Njg1OTYx.G-pjzRso8TnyQSDUSwFbA1QzIdpXfPTEW92ON1OmFN8g.wLTE1xWD3jphzHJnLZfILxlHM6fQ4a2HmZwi2zxzNZQg.PNG.infoefficien/7._Dropout.mp4_000127925.png?type=w773)\n",
    "\n",
    "따라서 특정 노드에 의해서만 학습이 되지 않도록 하기 위해서 Epoch 마다 임의의 노드를 학습에서 배제시킵니다. 따라서 Forward/Backward propagation 시에 위의 빨간색 노드는 학습에서 배제 됩니다.\n",
    "\n",
    "![5](http://postfiles6.naver.net/MjAxODAyMDhfMTIz/MDAxNTE4MDE2MzIzNDcw.fS6uiZ3c1_lrDj4_Tc_0-g5EUFSU1vyN3PHQ0-pVQlEg.OS1OQgjykTVzX3zE_6JOW2yIdzQ1F0SNFopxbMfEkMwg.PNG.infoefficien/7._Dropout.mp4_000131696.png?type=w773)\n",
    "\n",
    "두번째 Epoch 에서는 또 다른 임의의 노드를 off 시킵니다.\n",
    "\n",
    "![6](http://postfiles12.naver.net/MjAxODAyMDhfMTQw/MDAxNTE4MDE2MjgyMDE3.fzDtTONdyxL6rqm98g5GbayvTheo-BWSSISdy2N9CF4g.Qip2cma24znvtDCf7Jg8e_UOyXX6wSyYjj4f8V5Tpjcg.PNG.infoefficien/7._Dropout.mp4_000139906.png?type=w773)\n",
    "\n",
    "세번째 Epoch 에서는 또 다른 노드를 off 합니다.\n",
    "\n",
    "![7](http://postfiles11.naver.net/MjAxODAyMDhfMTU5/MDAxNTE4MDE3MTE4MDA3.XaFj6TFqq4XoFtPuHTlyPongjxOHbWTMihLhq3czhrgg.JxyDYR1uuSXcAMsrrpvswneXTRSE1mndfEA0aPR1SnEg.PNG.infoefficien/7._Dropout.mp4_000154008.png?type=w773)\n",
    "\n",
    "이렇게 매 Epoch을 반복할 때 마다 임의의 노드를 Off 하여, 특정 노드에 의해서만 학습되는 것을 방지합니다. \n",
    "\n",
    "![8](http://postfiles6.naver.net/MjAxODAyMDhfMjQ5/MDAxNTE4MDE3MjMxMzY1.wkUOJ4H96-p0oNyH6sAU2JW-cTO9GIwFqjeookPWATsg.SK4vSr8rA3khwTb3JmmZcrEJAXaHJI0myiVWsap4lwcg.PNG.infoefficien/7._Dropout.mp4_000169968.png?type=w773)\n",
    "\n",
    "Dropout을 구현할 때 Probability 상수를 이용하여 구현할 수 있습니다. 이 확률 값은 각 노드가 Off가 될 확률을 나타냅니다. <br>\n",
    "Epoch의 수가 작으면 특정 노드는 많이 off될 수 있고 심지어 off가 한번도 안될 수도 있습니다. 하지만 Epoch의 수가 많아질 수록 큰수의 법칙에 의해 균등하게 Probability에 맞도록 노드가 off가 될 것으로 추정할 수 있습니다. <br>\n",
    "Dropout은 overfitting을 피할 때 상당히 유용하게 사용될 수 있고 현재 많이 사용하고 있습니다.\n"
   ]
  }
 ],
 "metadata": {
  "anaconda-cloud": {},
  "kernelspec": {
   "display_name": "Python [conda root]",
   "language": "python",
   "name": "conda-root-py"
  },
  "language_info": {
   "codemirror_mode": {
    "name": "ipython",
    "version": 3
   },
   "file_extension": ".py",
   "mimetype": "text/x-python",
   "name": "python",
   "nbconvert_exporter": "python",
   "pygments_lexer": "ipython3",
   "version": "3.5.2"
  },
  "varInspector": {
   "cols": {
    "lenName": 16,
    "lenType": 16,
    "lenVar": 40
   },
   "kernels_config": {
    "python": {
     "delete_cmd_postfix": "",
     "delete_cmd_prefix": "del ",
     "library": "var_list.py",
     "varRefreshCmd": "print(var_dic_list())"
    },
    "r": {
     "delete_cmd_postfix": ") ",
     "delete_cmd_prefix": "rm(",
     "library": "var_list.r",
     "varRefreshCmd": "cat(var_dic_list()) "
    }
   },
   "types_to_exclude": [
    "module",
    "function",
    "builtin_function_or_method",
    "instance",
    "_Feature"
   ],
   "window_display": false
  }
 },
 "nbformat": 4,
 "nbformat_minor": 1
}
