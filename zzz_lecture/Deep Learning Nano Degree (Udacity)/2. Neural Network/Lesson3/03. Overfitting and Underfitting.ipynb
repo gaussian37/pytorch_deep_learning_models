{
 "cells": [
  {
   "cell_type": "markdown",
   "metadata": {},
   "source": [
    "# Overfitting and Underfitting"
   ]
  },
  {
   "cell_type": "markdown",
   "metadata": {},
   "source": [
    "![1](http://postfiles13.naver.net/MjAxODAyMTFfMTAz/MDAxNTE4MzQzMDM0MjYx.2yX-A0sQLyUfWHUf9EAZPPKhdOBkl5_COEVYoRetr3Eg.acVF-N92x-B2sCHV-aF29kbpeOjPvrjpvyqsfJqjIWEg.PNG.infoefficien/3._Underfitting_And_Overfitting.mp4_000023907.png?type=w773)\n",
    "\n",
    "문제를 해결할 때 2가지 문제점을 가질 수 있습니다. 첫 번째는 위의 그림처럼 공룡을 파리채로 잡는 것과 같이 <span class=\"mark\">솔루션이 너무 간단하여 문제를 해결할 수 없는 경우</span>입니다. 머신 러닝에서 이와 같은 문제를 <span class=\"mark\">underfitting</span> 이라고 합니다. \n",
    "반대로 바주카를 이용하여 파리를 잡는 것은 뭐라고 할까요? <span class=\"mark\">너무 복잡한 솔루션으로 작은 문제를 해결하려고 하면 좀 더 심플한 솔루션 때 보다 효과가 안좋을 수</span> 있습니다.\n",
    "머신 러닝에서는 이와 같은 문제를 <span class=\"mark\">overfitting</span> 이라고 합니다.\n",
    "\n",
    "그러면 under/over fitting이 발생하면 classification 시 어떤 문제가 발생하는지 살펴보도록 하겠습니다.\n",
    "\n",
    "![2](http://blogfiles.naver.net/MjAxODAyMTFfODkg/MDAxNTE4MzQ1ODU1MTUw.R9UqkFStqQUqt8hr00_XkmWIUh_M1tvNXdS7kdcc9qwg.tWiaCJV7fg9_GPJHcOy_cy8NnDD0nwYTM8FQEavMTGMg.PNG.infoefficien/3._Underfitting_And_Overfitting.mp4_000059474.png?type=w1)\n",
    "\n",
    "먼저 위와 같이 Binary classification을 하는 경우 위 문제는 정확히 분류가 되었습니다.\n",
    "\n",
    "![3](http://blogfiles.naver.net/MjAxODAyMTFfMjY3/MDAxNTE4MzQ2NTcxNTcz.WB3iZsm3bmO84MAa4FIy3CeQb6ruR7_R2LbgpPC-14sg.RqMTppNd8zq8SFJAJymChqnkH69REHgfZ7URra7GS08g.PNG.infoefficien/image_4881179131518346301999.png?type=w1)\n",
    "\n",
    "분류가 Dog / Not Dog 에서 Animal / Not Animal로 바뀌게 되면 모델이 좀 더 단순해 졌습니다. 왜냐하면 Animal이 Dog를 포함하는 상위 범위이기 때문입니다.\n",
    "그런데 모델을 너무 단순하게 변경하게 되면 문제를 해결하지 못하는 문제가 발생합니다.\n",
    "<span class=\"mark\">모델이 너무 단순할 때 문제를 해결하지 못하는 문제를 Underfitting</span> 이라고 합니다. \n",
    "\n",
    "![4](http://blogfiles.naver.net/MjAxODAyMTFfMjM2/MDAxNTE4MzQ2NjU3Mzkw.kijxTX6FpZOZEVhxVaOjWq8_JEK4NTLwLvuHbN3MY-Ag.eQXsJgPhjFZCy8DuMszsJ_39y9XLpX6UP6bZ5S7lDtQg.PNG.infoefficien/3._Underfitting_And_Overfitting.mp4_000117450.png?type=w1)\n",
    "\n",
    "이제 overfitting에 대하여 알아보도록 하겠습니다. 현재 학습 데이터에서 dog의 생김새를 살펴보면 Yellow, Orange, Gray로 확인이 됩니다. 이 때 분류 기준으로 Yellow/Orange/Gray Dog로 너무 구체적으로 모델을 설정하면 어떤 문제가 발생할까요?\n",
    "\n",
    "![5](http://blogfiles.naver.net/MjAxODAyMTFfMTg0/MDAxNTE4MzQ3MzYyNDA0.WmlnPlBANB47Tr1j-xHY2ZyPhwzqv9lrCk6xKt0ewCwg.DDRnWTkVffJ9oQ_T_Y6D8NaHpTvz24YWvFMZTTly4o8g.PNG.infoefficien/3._Underfitting_And_Overfitting.mp4_000151174.png?type=w1)\n",
    "\n",
    "이러한 경우 <span class=\"mark\">새로운 테스트 데이터 셋이 들어왔을 때, 문제가 발생</span>합니다. 만약 Yellow/Orange/Gray 색이 아닌 Dog가 들어온다면 Dog로 분류가 안될 것입니다. 이렇게 <span class=\"mark\">모델의 조건이 너무 구체적이면 모델의 generalize 성질이 떨어지게 됩니다.</span> 이러한 문제를 overfitting이라고 합니다.\n",
    "\n",
    "실제 시험공부를 학습하는 것으로 예를 들면, <span class=\"mark\">Underfitting은</span> 공부를 다 하지 않고 시험을 치르는 것입니다. 당연히 점수는 낮을 것입니다.\n",
    "<span class=\"mark\">좋은 공부 방법</span>은 필요한 내용 위주로 공부하고 이해하여 예상된 시험문제와 새로나온 유형까지 풀어서 맞추는 것입니다.\n",
    "반면 <span class=\"mark\">Overfitting은</span> 단지 책을 있는 그대로 외워버리는 것으로 비유할 수 있습니다. 이런 경우 새로운 새로운 문제가 나왔을 때 풀기 어려워 학습 데이터 이외에는 풀 수 없는 문제가 발생합니다. \n",
    "\n",
    "![6](http://blogfiles.naver.net/MjAxODAyMTFfMzgg/MDAxNTE4MzQ3NzQyOTAz.jJgeL1EGUeDsF2w12K-05AG95FVbmZ5zau6P3ss4vlog.75JW8yr6Yjj_5y_kmHyv8bb8GomIgSBeBV432klHvpYg.PNG.infoefficien/3._Underfitting_And_Overfitting.mp4_000230464.png?type=w1)\n",
    "\n",
    "앞에서 다룬 Blue/Red point를 기준으로 설명하면 Underfitting/Just Right/Overfitting은 위 처럼 나타낼 수 있습니다. Underfitting의 경우 linear 한 커브만으로 분류하기 때문에 모델이 너무 단순하여 문제를 잘 해결하지 못합니다.\n",
    "반면 Overfitting의 경우 분류는 완벽히 하였지만 새로운 데이터가 들어왔을 때 잘 분류할 지 의문이 들어 모든 문제를 잘 풀 지 의문이 듭니다. 즉, general 하지 못합니다. \n",
    "가운데 Just Right한 모델은 몇 개의 점이 오 분류 되어있지만 noise로 간주할 수 있습니다. \n",
    "\n",
    "![7](http://blogfiles.naver.net/MjAxODAyMTFfMTQ1/MDAxNTE4MzQ3OTMyODkz.mZiL5fFYZOf_xI5-VlR3fPVn1uOOGx9WsytW4_b3mUIg.LNnCBVyPM2T5HMvbpS484ofNZotmVT6nV1BTWEvCfLYg.PNG.infoefficien/3._Underfitting_And_Overfitting.mp4_000266275.png?type=w1)\n",
    "\n",
    "Underfitting의 경우 단일 perceptron으로 구성된 linear classification 으로 본다면 문제를 풀기에는 모델이 너무 단순합니다.\n",
    "반면 Overfitting의 경우 문제에 비하여 layer가 깊고 weight들이 너무 많아 일반화된 모델이 아닙니다.\n",
    "여기서 <span class=\"mark\">문제가 되는것은 Just Right한 모델을 찾는것이 쉽지 않는 것</span>입니다.\n",
    "\n",
    "![8](http://blogfiles.naver.net/MjAxODAyMTFfMjc1/MDAxNTE4MzQ4MjExMDMy.IK4TJzezOOgcftBtOzTQzM00axGQG1dx4guvjB7Pc_Ug.jqfDSFZXao7emKf3mBj3hU2w7Pn3At3pkKkN6w9ZBqUg.PNG.infoefficien/3._Underfitting_And_Overfitting.mp4_000294461.png?type=w1)\n",
    "\n",
    "앞으로 학습시 Just Right한 모델을 찾는 방법은 Overfitting → Just Right하도록 찾아가는 방법을 사용하려고 합니다. 일단 Underfitting은 학습 데이터 문제 조차 해결하지 못하였으므로 학습이 제대로 되는지 조차 확인하기 어렵습니다.\n",
    "반면 Overfitting은 학습 데이터에 너무 맞춰져서 문제가 되었지만 일단 학습은 잘 되었으므로  Underfitting 보다는 접근하기가 용이해 보입니다.\n",
    "따라서 <span class=\"mark\">최대한 Just Right한 모델을 찾아가도록 하되 Overfitting이 되어 있다면 General 하도록 모델을 수정하는 방법을 이용하여 학습을 하도록 하겠습니다.</span>"
   ]
  },
  {
   "cell_type": "code",
   "execution_count": null,
   "metadata": {},
   "outputs": [],
   "source": []
  }
 ],
 "metadata": {
  "anaconda-cloud": {},
  "kernelspec": {
   "display_name": "Python [conda root]",
   "language": "python",
   "name": "conda-root-py"
  },
  "language_info": {
   "codemirror_mode": {
    "name": "ipython",
    "version": 3
   },
   "file_extension": ".py",
   "mimetype": "text/x-python",
   "name": "python",
   "nbconvert_exporter": "python",
   "pygments_lexer": "ipython3",
   "version": "3.5.2"
  },
  "varInspector": {
   "cols": {
    "lenName": 16,
    "lenType": 16,
    "lenVar": 40
   },
   "kernels_config": {
    "python": {
     "delete_cmd_postfix": "",
     "delete_cmd_prefix": "del ",
     "library": "var_list.py",
     "varRefreshCmd": "print(var_dic_list())"
    },
    "r": {
     "delete_cmd_postfix": ") ",
     "delete_cmd_prefix": "rm(",
     "library": "var_list.r",
     "varRefreshCmd": "cat(var_dic_list()) "
    }
   },
   "types_to_exclude": [
    "module",
    "function",
    "builtin_function_or_method",
    "instance",
    "_Feature"
   ],
   "window_display": false
  }
 },
 "nbformat": 4,
 "nbformat_minor": 1
}
