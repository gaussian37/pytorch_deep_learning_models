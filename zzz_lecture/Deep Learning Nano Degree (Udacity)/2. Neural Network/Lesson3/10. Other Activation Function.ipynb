{
 "cells": [
  {
   "cell_type": "markdown",
   "metadata": {},
   "source": [
    "# Other Activation Function"
   ]
  },
  {
   "cell_type": "code",
   "execution_count": 1,
   "metadata": {
    "ExecuteTime": {
     "end_time": "2018-02-10T09:10:33.042951Z",
     "start_time": "2018-02-10T09:10:32.465982Z"
    }
   },
   "outputs": [
    {
     "data": {
      "image/jpeg": "[encoded data removed]",
      "text/html": [
       "\n",
       "        <iframe\n",
       "            width=\"400\"\n",
       "            height=\"300\"\n",
       "            src=\"https://www.youtube.com/embed/kA-1vUt6cvQ\"\n",
       "            frameborder=\"0\"\n",
       "            allowfullscreen\n",
       "        ></iframe>\n",
       "        "
      ],
      "text/plain": [
       "<IPython.lib.display.YouTubeVideo at 0x255c1f47748>"
      ]
     },
     "execution_count": 1,
     "metadata": {},
     "output_type": "execute_result"
    }
   ],
   "source": [
    "from IPython.display import YouTubeVideo\n",
    "YouTubeVideo('kA-1vUt6cvQ')"
   ]
  },
  {
   "cell_type": "markdown",
   "metadata": {},
   "source": [
    "![1](http://postfiles6.naver.net/MjAxODAyMTBfMTIy/MDAxNTE4MTkzOTA3MzQ3.lmXoBkJh_yfB1nV4uR1j_pDUceD0d-55Ov0m6ust2Ewg._KRKEpEJps-tJQvI7AP8B0l5vuvv7k3CcWs7pHiiD9kg.PNG.infoefficien/10._Other_Activation_Functions.mp4_000022125.png?type=w773)\n",
    "\n",
    "Activation function의 다른 예는 <span class=\"mark\">tanh</span> 함수 입니다. sigmoid function과 다소 유사하지만 함수값의 범위가 [-1, 1] 을 가지고 미분값 또한 sigmoid 비해서 큰 값을 가집니다. 이러한 특징으로 sigmoid에 비해여 학습 시 좀 더 개선된 성능을 가집니다.\n",
    "\n",
    "![2](http://postfiles16.naver.net/MjAxODAyMTBfMjg5/MDAxNTE4MTk0MDY3NTY4.Zp6DNHXM2vkQ-kA1w_teJ4_4O0efuC1r2fftPMve66wg.1CSyra39mGj_q5GuLjtFP-YuDrhjAmjDS9oXP3-kKlQg.PNG.infoefficien/10._Other_Activation_Functions.mp4_000064725.png?type=w773)\n",
    "\n",
    "또 다른 Activation function으로 ReLU 함수가 있습니다. 상당히 단순한 함수입니다. 입력값이 0보다 작으면 0으로, 0보다 크면 그대로 출력하는 함수입니다. 다르게 말하면 max(0, x)로 표현할 수 있습니다.<br> \n",
    "이 함수를 이용하면 sigmoid 함수에 비하여 학습이 상당히 많이 개선됩니다. sigmoid에서는 입력값의 크기가 커질수록 미분값이 0에 수렴하였지만 ReLU에서는 입력값이 0보다 큰 경우에는 미분값이 항상 1이기 때문에 GD 시 학습에 유리합니다. <br>\n",
    "또한 linear한 특징을 가지는 ReLU 함수가 layer가 쌓이면서 결합이 되어 상당히 복잡한 Non-linear 성질을 갖도록 하기 때문에 성능이 좋아집니다. <br>\n",
    "\n",
    "![3](http://postfiles12.naver.net/MjAxODAyMTBfNDEg/MDAxNTE4MTk0ODEwNDY5.wyha28f24UbxhSgDgjtP2-9q7mJkMeS_0zQKKlNdXjMg.m9uf6GdtF1CZ96jpFE71EFYVcDXBXh4BExEO8ljN6Ksg.PNG.infoefficien/10._Other_Activation_Functions.mp4_000080340.png?type=w773)\n",
    "\n",
    "이제 sigmoid 때와는 달리 미분값도 학습에 적당해지므로 학습이 잘 되게 됩니다.\n",
    "\n",
    "![4](http://postfiles5.naver.net/MjAxODAyMTBfOTUg/MDAxNTE4MTk0ODY1Njgy.7_g5SAHlKye1J99qUetX5I4DOZl1F_EDwWdR9RLaxggg.gnCFwm_CSM6zynw3IAwas2u0Fj6Wb9ymlBailE4szOgg.PNG.infoefficien/10._Other_Activation_Functions.mp4_000109007.png?type=w773)\n",
    "\n",
    "위 예제는 MLP에서 ReLU를 Activation function으로 사용한 예입니다. 여기서 마지막 출력은 sigmoid로 사용하였는데, 그 이유는 마지막 출력값은 여전히 0과 1사이의 확률값처럼 출력되야 하기 때문입니다.(sigmoid는 주로 binary에 softmax는 multi-class 에 사용됩니다.)"
   ]
  }
 ],
 "metadata": {
  "anaconda-cloud": {},
  "kernelspec": {
   "display_name": "Python [conda root]",
   "language": "python",
   "name": "conda-root-py"
  },
  "language_info": {
   "codemirror_mode": {
    "name": "ipython",
    "version": 3
   },
   "file_extension": ".py",
   "mimetype": "text/x-python",
   "name": "python",
   "nbconvert_exporter": "python",
   "pygments_lexer": "ipython3",
   "version": "3.5.2"
  },
  "varInspector": {
   "cols": {
    "lenName": 16,
    "lenType": 16,
    "lenVar": 40
   },
   "kernels_config": {
    "python": {
     "delete_cmd_postfix": "",
     "delete_cmd_prefix": "del ",
     "library": "var_list.py",
     "varRefreshCmd": "print(var_dic_list())"
    },
    "r": {
     "delete_cmd_postfix": ") ",
     "delete_cmd_prefix": "rm(",
     "library": "var_list.r",
     "varRefreshCmd": "cat(var_dic_list()) "
    }
   },
   "types_to_exclude": [
    "module",
    "function",
    "builtin_function_or_method",
    "instance",
    "_Feature"
   ],
   "window_display": false
  }
 },
 "nbformat": 4,
 "nbformat_minor": 1
}
