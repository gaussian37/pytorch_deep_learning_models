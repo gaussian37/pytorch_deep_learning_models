{
 "cells": [
  {
   "cell_type": "markdown",
   "metadata": {},
   "source": [
    "# The gears of neural networks: Tensor operations"
   ]
  },
  {
   "cell_type": "markdown",
   "metadata": {},
   "source": [
    "### Deep Learning with Python (Francois Chollet)\n",
    "\n",
    "Much as any computer program can be ultimately reduced to a small set of binary operations on binary inputs (AND, OR, NOR, and so on), all transformations learned by deep neural networks can be reduced to a handful of **tensor operations** applied to tensors of numeric data. For instance, it's possible to add tensors, multiply tensors, and so on.\n",
    "\n",
    "In our initial example, we were building our network by stacking **Dense** layers on top of each other. A Keras layer instance looks like this:\n",
    "\n",
    "    Keras.layers.Dense(512, activation = 'relu')\n",
    "    \n",
    "This layer can be interpreted as a function, which takes as input a 2D tensor and returns another 2D tensor - a new representation for the input tensor. Specifically, the function is as follows (where **W** is a 2D tensor and **b** is a vector, both attributes of the layer)\n",
    "\n",
    "    output = relu(dot(W, input) + b)\n",
    "    \n",
    "Let's unpack this. We have three tensor operations here: a dot product(dot) between the input tensor and a tensor named **W**; an addition (+) between the resulting 2D tensor and a vector b; and, finally, a **relu** operation. relu(x) is **max(x, 0)**."
   ]
  },
  {
   "cell_type": "markdown",
   "metadata": {},
   "source": [
    "## 2.3.1 Element-wise operations\n",
    "\n",
    "The **relu** operation and addition are **element-wise** operations: operations that are applied independently to each entry in the tensors being considered. This means these operations are highly amenable to massively parallel implementations (**vectorized** implementations, a term that comes from the **vector processor** supercomputer architecture from the 1970-1990 period). If you want to write a naive Python implementation of an element-wise operation, you use a *for* loop, as in this naive implementation of an element-wise **relu** operation:"
   ]
  },
  {
   "cell_type": "code",
   "execution_count": 2,
   "metadata": {
    "ExecuteTime": {
     "end_time": "2018-05-13T20:04:57.687169Z",
     "start_time": "2018-05-13T20:04:57.674135Z"
    }
   },
   "outputs": [],
   "source": [
    "def naive_relu(x):\n",
    "    assert len(x.shape) == 2 # x is a 2D Numpy tensor.\n",
    "    \n",
    "    x = x.copy() # Avoid overwriting the input tensor.\n",
    "    for i in range(x.shape[0]):\n",
    "        for j in range(x.shape[1]):\n",
    "            x[i, j] = max(x[i, j], 0)\n",
    "    return x\n",
    "\n",
    "def naive_add(x, y):\n",
    "    assert len(x.shape) == 2\n",
    "    assert x.shape == y.shape\n",
    "    \n",
    "    x = x.copy()\n",
    "    for i in range(x.shape[0]):\n",
    "        for j in range(x.shape[1]):\n",
    "            x[i, j] += y[i, j]\n",
    "    return x"
   ]
  },
  {
   "cell_type": "markdown",
   "metadata": {},
   "source": [
    "On the same principle, you can do element-wise multiplication, subtraction, and so on.\n",
    "\n",
    "In practice, when dealing with Numpy arrays, these operations are available as well-optimized built-in Numpy functions, which themselves delegate the heavy lifting to a Basic Linear Algebra Subprograms(BLAS) implementation if you have one installed. BLAS are low-level, highly parallel, efficient tensor-manipulation routines that are typically implemented in Fortran or C.\n",
    "\n",
    "So, in Numpy, you can do the following element-wise operation, and it will be blazing fast"
   ]
  },
  {
   "cell_type": "code",
   "execution_count": 3,
   "metadata": {
    "ExecuteTime": {
     "end_time": "2018-05-13T20:04:58.144483Z",
     "start_time": "2018-05-13T20:04:58.066204Z"
    }
   },
   "outputs": [],
   "source": [
    "import numpy as np\n",
    "\n",
    "x = np.random.random((10, 10))\n",
    "y = np.random.random((10, 10))\n",
    "\n",
    "z =  x + y # Element-wise addition\n",
    "z = np.maximum(z, 0.) # Element-wise relu"
   ]
  },
  {
   "cell_type": "markdown",
   "metadata": {},
   "source": [
    "# 2.3.2 Broadcasting\n",
    "\n",
    "Our earlier naive implementation of **naive_add** only supports the addition of 2D tensors with identical shapes. But in the **Dense** layer introduced earlier, we added a 2D tensor with a vector. What happens with addition when the shapes of the two tensors being added differ?\n",
    "\n",
    "When possible, and if there's no ambiguity, the smaller tensor will be **broadcasted** to match the shape of the larger tensor. Broadcasting consists of two steps:\n",
    "\n",
    "1. Axes (called bradcast aces) are added to the smaller tensor to match the **ndim** of the larger tensor.\n",
    "\n",
    "2. The smaller tensor is repeated alongside these new axes to match the full shape of the larger tensor.\n",
    "\n",
    "Let's look at a concrete example. Consider x with shape (32, 10) and y with shape (10, ). First, we add an empty first axis to y, whose shape becomes (1, 10). Then, we repeat y 32 times alongside this new axis, so that we end up with a tensor Y with shape (32, 10), where Y[i, :] == y for i in range (0, 32). At this point, we can proceed to add X and Y, because they have the same shape.\n",
    "\n",
    "In terms of implementation, no new 2D tensor is created, because that would be terribly inefficient. The repetition operation is entirely virtual:it happens at the algorithmic level rather than at the memory level. But thinking of the vector being repeated 10 times alongside a new axis is a helpful mental model. Here's what a naive implementation would look like:"
   ]
  },
  {
   "cell_type": "code",
   "execution_count": 4,
   "metadata": {
    "ExecuteTime": {
     "end_time": "2018-05-13T20:04:58.473822Z",
     "start_time": "2018-05-13T20:04:58.466803Z"
    }
   },
   "outputs": [],
   "source": [
    "def naive_add_matrix_and_vector(x, y):\n",
    "    assert len(x.shape) == 2 # x is a 2D Numpy tensor.\n",
    "    assert len(y.shape) == 1 # y is a Numpy vector\n",
    "    assert x.shape[1] == y.shape[0]\n",
    "    \n",
    "    x = x.copy() # Avoid overwriting the input tensor.\n",
    "    for i in range(x.shape[0]):\n",
    "        for j in range(x.shape[1]):\n",
    "            x[i, j] += y[j]\n",
    "    return x"
   ]
  },
  {
   "cell_type": "markdown",
   "metadata": {},
   "source": [
    "With broadcasting, you can generally apply two-tensor element-wise operations if one tensor has shape (a, b, ..., n, n+1, ..., m) and the other has shape (n, n+1, ..., m). The broadcasting will then automatically happen for axes **a** through **n-1**.\n",
    "\n",
    "The following example applied the element-wise **maximum** operation to two tensors of different shapes via broadcasting:"
   ]
  },
  {
   "cell_type": "code",
   "execution_count": 5,
   "metadata": {
    "ExecuteTime": {
     "end_time": "2018-05-13T20:04:58.906047Z",
     "start_time": "2018-05-13T20:04:58.897474Z"
    }
   },
   "outputs": [
    {
     "name": "stdout",
     "output_type": "stream",
     "text": [
      "(64, 3, 32, 10)\n"
     ]
    }
   ],
   "source": [
    "import numpy as np\n",
    "\n",
    "# x is a randoem tensor with shape (64, 3, 32, 10)\n",
    "x = np.random.random((64, 3, 32, 10)) \n",
    "\n",
    "# y is a random tensor with shape (32, 10)\n",
    "y = np.random.random((32, 10))\n",
    "\n",
    "# The output z has shape (64, 3, 32, 10) like x\n",
    "z = np.maximum(x, y)\n",
    "\n",
    "print(z.shape)"
   ]
  },
  {
   "cell_type": "markdown",
   "metadata": {},
   "source": [
    "## 2.3.3 Tensor dot\n",
    "\n",
    "The dot operation, also called a **tensor product**  (not to be confused with an element-wise product) is the most common, most useful tensor operation. Contrary to element-wise operations, it combines entries in the input tensors.\n",
    "\n",
    "An element-wise product is done with the * operator in Numpy, Keras, Theano and TensorFlow. dot uses a different syntax in TensorFlow, but in both Numpy and Keras it's done using the standard dot operation:"
   ]
  },
  {
   "cell_type": "markdown",
   "metadata": {},
   "source": [
    "    import numpy as np\n",
    "\n",
    "    z = np.dot(x, y)"
   ]
  },
  {
   "cell_type": "markdown",
   "metadata": {},
   "source": [
    "In mathematical notation, you'd note the operation with a dot (.):\n",
    "\n",
    "    z = x . y\n",
    "    \n",
    "Mathematically, what does the dot operation do? Let's start with the dot product of two vectors x and y. It's computed as follows:"
   ]
  },
  {
   "cell_type": "code",
   "execution_count": 6,
   "metadata": {
    "ExecuteTime": {
     "end_time": "2018-05-13T20:04:59.799450Z",
     "start_time": "2018-05-13T20:04:59.793412Z"
    }
   },
   "outputs": [],
   "source": [
    "def naive_vector_dot(x, y):\n",
    "    # x and y are Numpy vectors\n",
    "    assert len(x.shape) == 1\n",
    "    assert len(y.shape) == 1\n",
    "    assert x.shape[0] == y.shape[0]\n",
    "    z = 0\n",
    "    for i in range(x.shape[0]):\n",
    "        z += x[i] * y[i]\n",
    "    return z"
   ]
  },
  {
   "cell_type": "markdown",
   "metadata": {},
   "source": [
    "You'll have noticed that the dot product between two vectors is a scalar and that only vectors with the same number of elements are compatible for a dot product.\n",
    "\n",
    "You can also take the dot product <span class=\"mark\">between a matrix x and a vector y</span>, which returns a vector where the coefficients are the dot products between y and the rows of x. You implement it as follows:"
   ]
  },
  {
   "cell_type": "code",
   "execution_count": 7,
   "metadata": {
    "ExecuteTime": {
     "end_time": "2018-05-13T20:05:00.274690Z",
     "start_time": "2018-05-13T20:05:00.266670Z"
    }
   },
   "outputs": [],
   "source": [
    "import numpy as np\n",
    "\n",
    "def naive_matrix_vector_dot(x, y):\n",
    "    # x is a Numpy matrix.\n",
    "    assert len(x.shape) == 2\n",
    "    # y is a Numpy vector.\n",
    "    assert len(y.shape) == 1\n",
    "    # The first dimension of x must be the same as the 0th dimension of y\n",
    "    assert x.shape[1] == y.shape[0]\n",
    "    \n",
    "    # This operation returns a vector of 0s with the same shape as y.\n",
    "    z = np.zeros(x.shape[0])\n",
    "    for i in range(x.shape[0]):\n",
    "        for j in range(x.shape[1]):\n",
    "            z[i] += x[i, j] * y[j]\n",
    "    return z"
   ]
  },
  {
   "cell_type": "markdown",
   "metadata": {},
   "source": [
    "You could also reuse the code we wrote previously, which highlights the relationship between a matrix-vector product and a vector product:"
   ]
  },
  {
   "cell_type": "code",
   "execution_count": 8,
   "metadata": {
    "ExecuteTime": {
     "end_time": "2018-05-13T20:05:00.736919Z",
     "start_time": "2018-05-13T20:05:00.732908Z"
    }
   },
   "outputs": [],
   "source": [
    "def naive_matrix_vector_dot(x, y):\n",
    "    z = np.zeros(x.shape[0])\n",
    "    for i in range(x.shape[0]):\n",
    "        z[i] = naive_vector_dot(x[i,:], y)\n",
    "    return z"
   ]
  },
  {
   "cell_type": "markdown",
   "metadata": {},
   "source": [
    "Note that as soon as one of the two tensors has an **ndim** greater than 1, **dot** is no longer symmetric, which is to say that dot(x, y) isn't the same as dot(y, x)\n",
    "\n",
    "Of course, a dot product generalizes to tensors with an arbitrary number of axes. The most common applications may be the dot product between two matrices. You can take the dot product of two matrices x and y (dot(x, y)) if and only if x.shape[1] == y.shape[0]. The reuslt is a matrix with shape (x.shape[0], y.shape[1]), where the coefficients are the vector products between the rows of x and the columns of y. Here's the naive implementation:"
   ]
  },
  {
   "cell_type": "code",
   "execution_count": 9,
   "metadata": {
    "ExecuteTime": {
     "end_time": "2018-05-13T20:05:01.204161Z",
     "start_time": "2018-05-13T20:05:01.194135Z"
    }
   },
   "outputs": [],
   "source": [
    "def naive_matrix_dot(x, y):\n",
    "    # x and y are Numpy matrices.\n",
    "    assert len(x.shape) == 2\n",
    "    assert len(y.shape) == 2\n",
    "    # The 1st dimension of x must be the same as the 0th dimension of y\n",
    "    assert x.shape[1] == y.shape[0]\n",
    "        \n",
    "    z = np.zeros((x.shape[0], y.shape[1]))\n",
    "    # Iterates over the rows of x and overthe columns of y\n",
    "    for i in range(x.shape[0]):\n",
    "        for j in range(y.shape[1]):\n",
    "            row_x = x[i,:]\n",
    "            column_y = y[:,j]\n",
    "            z[i, j] = naive_vector_dot(row_x, comlumn_y)\n",
    "    return z      \n",
    "    "
   ]
  },
  {
   "cell_type": "markdown",
   "metadata": {},
   "source": [
    "To understand dot-product shape compatibility, it helps to visualize the input and output tensors by aligning them as below\n",
    "\n",
    "![1](nb_images/2.3.1.png)\n",
    "※Matrix dot-product box diagram\n",
    "\n",
    "x, y and z are pictured as rectangles (literal boxes of coefficients). The width of x must match the height of y. If you go on to develop new machine-learning algorithms, you'll likely be drawing such diagrams often.\n",
    "\n",
    "More generally, you can take the dot product between higher-dimensional tensors, following the same rules for shape compatibility as outlined earlier for the 2D case:\n",
    "\n",
    "(a, b, c, d) . (d,) -> (a, b, c)\n",
    "\n",
    "(a, b, c, d) . (d, e) -> (a, b, c, e)"
   ]
  },
  {
   "cell_type": "markdown",
   "metadata": {},
   "source": [
    "## 2.3.4 Tensor reshaping\n",
    "\n",
    "A third type of tensor operation that's essential to understand is **tensor reshaping**. Although it wasn't used in the **Dense** layers in our first neural network example, we used it when we preprocessed the digits data before feeding it into our network:\n",
    "\n",
    "    train_images = train_images.reshape((60000, 28*28))\n",
    "    \n",
    "Reshaping a tensor means <span class=\"mark\">rearranging its rows and columns to match a target shape.</span> Naturally, the reshaped tensor has the same total number of coefficients as the initial tensor. Reshaping is best understood via sample examples:"
   ]
  },
  {
   "cell_type": "code",
   "execution_count": 10,
   "metadata": {
    "ExecuteTime": {
     "end_time": "2018-05-13T20:05:01.976214Z",
     "start_time": "2018-05-13T20:05:01.970199Z"
    }
   },
   "outputs": [
    {
     "name": "stdout",
     "output_type": "stream",
     "text": [
      "x.shape :  (3, 2)\n",
      "shape of (6, 1) : \n",
      " [[0.]\n",
      " [1.]\n",
      " [2.]\n",
      " [3.]\n",
      " [4.]\n",
      " [5.]]\n",
      "shape of (2, 3) : \n",
      " [[0. 1. 2.]\n",
      " [3. 4. 5.]]\n"
     ]
    }
   ],
   "source": [
    "x = np.array([[0., 1.],\n",
    "             [2., 3.],\n",
    "             [4., 5.]])\n",
    "\n",
    "print(\"x.shape : \", x.shape)\n",
    "\n",
    "x = x.reshape((6, 1))\n",
    "print(\"shape of (6, 1) : \\n\", x)\n",
    "\n",
    "x = x.reshape((2, 3))\n",
    "print(\"shape of (2, 3) : \\n\", x)"
   ]
  },
  {
   "cell_type": "markdown",
   "metadata": {},
   "source": [
    "A special case of reshaping that's commonly encountered is **transposition**. Transposing a matrix means exchanging its rows and its columns, so that x[i, :] becomes x[:, i]:"
   ]
  },
  {
   "cell_type": "code",
   "execution_count": 11,
   "metadata": {
    "ExecuteTime": {
     "end_time": "2018-05-13T20:05:02.709163Z",
     "start_time": "2018-05-13T20:05:02.706156Z"
    }
   },
   "outputs": [
    {
     "name": "stdout",
     "output_type": "stream",
     "text": [
      "(20, 300)\n"
     ]
    }
   ],
   "source": [
    "x = np.zeros((300, 20))\n",
    "x = np.transpose(x)\n",
    "print(x.shape)"
   ]
  },
  {
   "cell_type": "markdown",
   "metadata": {},
   "source": [
    "## 2.3.5 Geometric Interpretation of tensor operations\n",
    "\n",
    "Beacause the contents of the tensors manipulated by tensor operations can be interpreted as <span class=\"mark\">coordinates of points in some geometric space</span>, all tensor operations have a geometric interpretation. For instance, let's consider addition. We'll start with the following vector:\n",
    "\n",
    "    A = [0.5, 1]\n",
    "    \n",
    "It's a point in a 2D space. It's common to picture a vector as an arrow linking the origin to the point.\n",
    "\n",
    "![2](nb_images/2.3.2.png)\n",
    "\n",
    "Let's consider a new point, B = [1, 0.25], which we'll add to the previous one. This is done geometrically by chaining together the vector arrows, with the resulting location being the vector representing the sum of the previous two vectors below.\n",
    "\n",
    "![3](nb_images/2.3.3.png)\n",
    "\n",
    "In general, elementary geometric operations such as affine transformations, rotations, scaling, and so on can be expressed as tensor operations. For instance, a rotation of a 2D vector by an angle theta can be achieved via a dot product with a 2 x 2 matrix R = [u, v], where u and v are both vectors of the plane :\n",
    "\n",
    "    u = [cos(theta), sin(theta)] and v = [-sin(theta), cos(theta)]"
   ]
  },
  {
   "cell_type": "markdown",
   "metadata": {},
   "source": [
    "## 2.3.6. A geometric interpretation of deep learning\n",
    "\n",
    "You just learned that neural networks consist entirely of chains of tensor operations and that <span class=\"mark\">all of these tensor operations are just geometric transformations</span> of the input data. It follows that you can interpret a neural network as a very complex geometric transformation in a high-dimensional space, implemented via a long series of simple steps.\n",
    "\n",
    "In 3D, the following mental image may prove useful. Imagine two sheets of colored paper:\n",
    "one red and one blue. Put one on top of the other. Now crumple them together into a small ball. That crumpled paper ball is your input data, and each sheet of paper is a class of data in a classification proble. What a neural network (or any other machine-learning model) is meant to do is figure out a transformation of the paper ball taht would uncrumple it, so as to make the two classes cleanly separable again. With deep learning, this would be implemented as a series of simple transformations of the 3D space, such as those you could apply on the paper ball with your fingers, one movement at a time.\n",
    "\n",
    "![4](nb_images/2.3.4.png)\n",
    "\n",
    "<span class=\"mark\">Uncrumpling paper balls is what machine learning is</span> about: \n",
    "\n",
    "finding neat representations for complex, highly folded data manifolds. At this point, you should have a pretty good intuition as to why deep learning excels at this: it takes the approach of incrementally decomposing a complicated geometric transformation into a long chain of elementary ones, which is pretty much the strategy a human would follow to uncrumple a paper ball. Each layer in a deep network applies a transformation that disentagles the data a little - and a deep stack of layers makes tractable an extremely complicated disentanglement process."
   ]
  }
 ],
 "metadata": {
  "anaconda-cloud": {},
  "kernelspec": {
   "display_name": "Python [conda root]",
   "language": "python",
   "name": "conda-root-py"
  },
  "language_info": {
   "codemirror_mode": {
    "name": "ipython",
    "version": 3
   },
   "file_extension": ".py",
   "mimetype": "text/x-python",
   "name": "python",
   "nbconvert_exporter": "python",
   "pygments_lexer": "ipython3",
   "version": "3.5.2"
  },
  "varInspector": {
   "cols": {
    "lenName": 16,
    "lenType": 16,
    "lenVar": 40
   },
   "kernels_config": {
    "python": {
     "delete_cmd_postfix": "",
     "delete_cmd_prefix": "del ",
     "library": "var_list.py",
     "varRefreshCmd": "print(var_dic_list())"
    },
    "r": {
     "delete_cmd_postfix": ") ",
     "delete_cmd_prefix": "rm(",
     "library": "var_list.r",
     "varRefreshCmd": "cat(var_dic_list()) "
    }
   },
   "types_to_exclude": [
    "module",
    "function",
    "builtin_function_or_method",
    "instance",
    "_Feature"
   ],
   "window_display": false
  }
 },
 "nbformat": 4,
 "nbformat_minor": 1
}
