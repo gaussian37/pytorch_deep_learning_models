{
 "cells": [
  {
   "cell_type": "markdown",
   "metadata": {},
   "source": [
    "# 6. Deep learning for text and sequences"
   ]
  },
  {
   "cell_type": "markdown",
   "metadata": {},
   "source": [
    "This chapter explores deep-learning models that can process text (understood as sequences of word or sequences of characters), timeseries, and sequence data in general. The two fundamental deep-learning algorithms for sequence processing are **recurrent neural networks** and **1D convnets**, the one-dimensional version of the 2D convnets that we covered in the previous chapters. We'll discuss both of these approaches in this chapter.\n",
    "\n",
    "Applications of these algorithms include the following:\n",
    "+ Document classification and timeseries classification, such as identifying the topic of an article or the author of a book\n",
    "+ Timeseries comparisons, such as estimating how closely related two documents or two stock tickers are \n",
    "+ Sequence-tosequence learning, such as decoding an English sentence into French\n",
    "+ Sentiment analysis, such as classifying the sentiment of tweets or movie reviews as positive or negative\n",
    "+ Timeseries forecasting, such as predicting the future weather at a certain location, given recent weather data\n",
    "\n",
    "This chapter's examples focus on two narrow tasks: <span class=\"mark\">sentiment analysis</span> on the IMDB dataset, a task we approached earlier in the book, and <span class=\"mark\">temperature forecasting</span>. But the techniques demonstrated for these two tasks are relevant to all the applications just listed, and many more."
   ]
  },
  {
   "cell_type": "code",
   "execution_count": null,
   "metadata": {},
   "outputs": [],
   "source": []
  }
 ],
 "metadata": {
  "anaconda-cloud": {},
  "kernelspec": {
   "display_name": "Python [default]",
   "language": "python",
   "name": "python3"
  },
  "language_info": {
   "codemirror_mode": {
    "name": "ipython",
    "version": 3
   },
   "file_extension": ".py",
   "mimetype": "text/x-python",
   "name": "python",
   "nbconvert_exporter": "python",
   "pygments_lexer": "ipython3",
   "version": "3.5.2"
  },
  "varInspector": {
   "cols": {
    "lenName": 16,
    "lenType": 16,
    "lenVar": 40
   },
   "kernels_config": {
    "python": {
     "delete_cmd_postfix": "",
     "delete_cmd_prefix": "del ",
     "library": "var_list.py",
     "varRefreshCmd": "print(var_dic_list())"
    },
    "r": {
     "delete_cmd_postfix": ") ",
     "delete_cmd_prefix": "rm(",
     "library": "var_list.r",
     "varRefreshCmd": "cat(var_dic_list()) "
    }
   },
   "types_to_exclude": [
    "module",
    "function",
    "builtin_function_or_method",
    "instance",
    "_Feature"
   ],
   "window_display": false
  }
 },
 "nbformat": 4,
 "nbformat_minor": 1
}
