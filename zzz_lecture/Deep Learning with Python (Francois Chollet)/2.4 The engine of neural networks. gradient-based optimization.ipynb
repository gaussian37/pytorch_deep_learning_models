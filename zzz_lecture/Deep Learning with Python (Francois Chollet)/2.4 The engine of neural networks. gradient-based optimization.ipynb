{
 "cells": [
  {
   "cell_type": "markdown",
   "metadata": {},
   "source": [
    "# The engine of neural networks: gradient-based optimization\n",
    "\n"
   ]
  },
  {
   "cell_type": "markdown",
   "metadata": {},
   "source": [
    "As you saw in the the previous section, each neural layer from our first network example tranforms its input data as follows:\n",
    "\n",
    "    output = relu(dot(W, input) + b)\n",
    "    \n",
    "In this expression, **W** and **b** are tensors that are attributes of the layer. They're called the <span class=\"mark\">**weight**</span> or <span class=\"mark\">**trainable parameters**</span> of the layer. Theses weights contain the information learned by the network from exposure to training data.\n",
    "\n",
    "Initally, these wiehgt matrices are filled with small random values (a step called <span class=\"mark\">**random initialization**</span>). Of course, there's no reason to expect that *relu(dot(W, input) + b)*, when **W** and **b** are random, will yield any useful representations. The resulting representations are meaningless -- but they're starting point. **What comes next is to gradually adjust these weight, based on a feedback signal.** This gradual adjustment, also called **training**, is basically the learning that machine learning is all about.\n",
    "\n",
    "This happens within what's called a **training loop**, which works as follows. Repeat these steps in a loop, as long as necessary:\n",
    "\n",
    "1. Draw a batch of training samples x and corresponding targets y.\n",
    "2. Run the network on x (a step called the forward pass) to obtain predictions y_pred\n",
    "3. Compute the loss of the network on the batch, a measure of the mismatch between y_pred and y.\n",
    "4. Update all weights of the network in a way that slightly reduces the loss on this batch."
   ]
  },
  {
   "cell_type": "code",
   "execution_count": null,
   "metadata": {},
   "outputs": [],
   "source": []
  }
 ],
 "metadata": {
  "anaconda-cloud": {},
  "kernelspec": {
   "display_name": "Python [conda root]",
   "language": "python",
   "name": "conda-root-py"
  },
  "language_info": {
   "codemirror_mode": {
    "name": "ipython",
    "version": 3
   },
   "file_extension": ".py",
   "mimetype": "text/x-python",
   "name": "python",
   "nbconvert_exporter": "python",
   "pygments_lexer": "ipython3",
   "version": "3.5.2"
  },
  "varInspector": {
   "cols": {
    "lenName": 16,
    "lenType": 16,
    "lenVar": 40
   },
   "kernels_config": {
    "python": {
     "delete_cmd_postfix": "",
     "delete_cmd_prefix": "del ",
     "library": "var_list.py",
     "varRefreshCmd": "print(var_dic_list())"
    },
    "r": {
     "delete_cmd_postfix": ") ",
     "delete_cmd_prefix": "rm(",
     "library": "var_list.r",
     "varRefreshCmd": "cat(var_dic_list()) "
    }
   },
   "types_to_exclude": [
    "module",
    "function",
    "builtin_function_or_method",
    "instance",
    "_Feature"
   ],
   "window_display": false
  }
 },
 "nbformat": 4,
 "nbformat_minor": 1
}
