{
 "cells": [
  {
   "cell_type": "code",
   "execution_count": 1,
   "metadata": {
    "collapsed": true
   },
   "outputs": [],
   "source": [
    "import os\n",
    "import numpy as np\n",
    "from scipy.misc import imread, imresize\n",
    "import tensorflow as tf\n",
    "import matplotlib.pyplot as plt"
   ]
  },
  {
   "cell_type": "markdown",
   "metadata": {},
   "source": [
    "# Hyper Paremeter #"
   ]
  },
  {
   "cell_type": "markdown",
   "metadata": {},
   "source": [
    "### - Image size ###\n",
    "resize할 image의 height와 width에 관한 hyper parameter"
   ]
  },
  {
   "cell_type": "code",
   "execution_count": 2,
   "metadata": {
    "collapsed": true
   },
   "outputs": [],
   "source": [
    "img_height = 64 # 이미지 height 크기\n",
    "img_width = 64 # 이미지 width의 크기"
   ]
  },
  {
   "cell_type": "markdown",
   "metadata": {},
   "source": [
    "### - Data ratio ###\n",
    "전체 데이터 중 학습 데이터(train / validation) 와 테스트 데이터 비율 <br>\n",
    "기본 값으로 학습 데이터(80%), 테스트 데이터(20%) <br>\n",
    "학습 데이터 중 (순수 학습 데이터 80% / 평가 데이터 20%) <br>\n",
    "![1](https://i.imgur.com/jRQ8LZl.png)"
   ]
  },
  {
   "cell_type": "code",
   "execution_count": 3,
   "metadata": {
    "collapsed": true
   },
   "outputs": [],
   "source": [
    "train_val_ratio = 0.8 # train 데이터 + validation 데이터의 비율, 나머지는 test 데이터\n",
    "train_ratio = 0.8 # train 데이터 + validation 데이터에서 tarin 데이터의 비율 , 나머지는 validation 데이터"
   ]
  },
  {
   "cell_type": "markdown",
   "metadata": {},
   "source": [
    "### Directory & Category Setting ###\n",
    "기본적으로 jupyter notebook 과 이미지 폴더의 디렉토리 구성이 필요합니다. <br>\n",
    "\n",
    "jupyter notebook(file) <br>\n",
    "image(folder) - category1(folder) - image1(file)<br>\n",
    "&nbsp;&nbsp;&nbsp;&nbsp;&nbsp;&nbsp;&nbsp;&nbsp;&nbsp;&nbsp;&nbsp;&nbsp;&nbsp;&nbsp;&nbsp;&nbsp;&nbsp;&nbsp;&nbsp;&nbsp;&nbsp;&nbsp;&nbsp;&nbsp;&nbsp;&nbsp;&nbsp;&nbsp;&nbsp;&nbsp;&nbsp;&nbsp;&nbsp;&nbsp;&nbsp;&nbsp;&nbsp;&nbsp;&nbsp;&nbsp;&nbsp;&nbsp;&nbsp;&nbsp;&nbsp;&nbsp;&nbsp;&nbsp;&nbsp;&nbsp;&nbsp;&nbsp;&nbsp;- image2(file)<br>\n",
    "&nbsp;&nbsp;&nbsp;&nbsp;&nbsp;&nbsp;&nbsp;&nbsp;&nbsp;&nbsp;&nbsp;&nbsp;&nbsp;&nbsp;&nbsp;&nbsp;&nbsp;&nbsp;&nbsp;&nbsp;&nbsp;&nbsp;&nbsp;&nbsp;&nbsp;&nbsp;&nbsp;&nbsp;&nbsp;&nbsp;&nbsp;&nbsp;&nbsp;&nbsp;&nbsp;&nbsp;&nbsp;&nbsp;&nbsp;&nbsp;&nbsp;&nbsp;&nbsp;&nbsp;&nbsp;&nbsp;&nbsp;&nbsp;&nbsp;&nbsp;&nbsp;&nbsp;&nbsp;- ...<br>\n",
    "&nbsp;&nbsp;&nbsp;&nbsp;&nbsp;&nbsp;&nbsp;&nbsp;&nbsp;&nbsp;&nbsp;&nbsp;&nbsp;&nbsp;&nbsp;&nbsp;&nbsp;&nbsp;&nbsp;&nbsp;&nbsp; - category2(folder) - image file 1<br>\n",
    "&nbsp;&nbsp;&nbsp;&nbsp;&nbsp;&nbsp;&nbsp;&nbsp;&nbsp;&nbsp;&nbsp;&nbsp;&nbsp;&nbsp;&nbsp;&nbsp;&nbsp;&nbsp;&nbsp;&nbsp;&nbsp;&nbsp;&nbsp;&nbsp;&nbsp;&nbsp;&nbsp;&nbsp;&nbsp;&nbsp;&nbsp;&nbsp;&nbsp;&nbsp;&nbsp;&nbsp;&nbsp;&nbsp;&nbsp;&nbsp;&nbsp;&nbsp;&nbsp;&nbsp;&nbsp;&nbsp;&nbsp;&nbsp;&nbsp;&nbsp;&nbsp;&nbsp;- image2(file)<br>\n",
    "&nbsp;&nbsp;&nbsp;&nbsp;&nbsp;&nbsp;&nbsp;&nbsp;&nbsp;&nbsp;&nbsp;&nbsp;&nbsp;&nbsp;&nbsp;&nbsp;&nbsp;&nbsp;&nbsp;&nbsp;&nbsp;&nbsp;&nbsp;&nbsp;&nbsp;&nbsp;&nbsp;&nbsp;&nbsp;&nbsp;&nbsp;&nbsp;&nbsp;&nbsp;&nbsp;&nbsp;&nbsp;&nbsp;&nbsp;&nbsp;&nbsp;&nbsp;&nbsp;&nbsp;&nbsp;&nbsp;&nbsp;&nbsp;&nbsp;&nbsp;&nbsp;&nbsp;- ...<br>\n",
    "&nbsp;&nbsp;&nbsp;&nbsp;&nbsp;&nbsp;&nbsp;&nbsp;&nbsp;&nbsp;&nbsp;&nbsp;&nbsp;&nbsp;&nbsp;&nbsp;&nbsp;&nbsp;&nbsp;&nbsp;&nbsp; - ...<br>"
   ]
  },
  {
   "cell_type": "code",
   "execution_count": 4,
   "metadata": {
    "collapsed": false
   },
   "outputs": [
    {
     "name": "stdout",
     "output_type": "stream",
     "text": [
      "2 categories in D:\\Code\\Python\\Deep_Learning\\Trial & Error\\Cat_Dog_binary_classification\\image\n",
      "['cat', 'dog']\n"
     ]
    }
   ],
   "source": [
    "tfrecord_train = 'train.tfrecord' # 학습 데이터\n",
    "tfrecord_val = 'val.tfrecord' # 평가 데이터\n",
    "tfrecord_test = 'test.tfrecord' # 테스트 데이터\n",
    "tfrecord_dir = 'tfrecords' #tfrecord 저장할 directory 이름\n",
    "\n",
    "cur_dir = os.getcwd() #현재 디렉토리 path 출력\n",
    "image_dir = os.path.join(cur_dir,'image') # 이미지 경로 설정\n",
    "valid_exts = ['.jpg', '.gif', '.png', '.jpeg'] # 허용 가능한 확장자 설정\n",
    "print('%d categories in %s' % (len(os.listdir(image_dir)), image_dir)) #image 폴더 내 카테고리 출력 (Dog, Cat)\n",
    "categories = sorted(os.listdir(image_dir)) # Image_dir 하위 Directory를 카테고리 별로 분류함, 카테고리 이름 \n",
    "num_categ = len(categories) # category 갯수 \n",
    "print(categories) # category 출력"
   ]
  },
  {
   "cell_type": "markdown",
   "metadata": {},
   "source": [
    "### Extract & Organize image list ###"
   ]
  },
  {
   "cell_type": "code",
   "execution_count": 5,
   "metadata": {
    "collapsed": false
   },
   "outputs": [
    {
     "name": "stdout",
     "output_type": "stream",
     "text": [
      "2395 cat images are found\n",
      "4988 dog images are found\n"
     ]
    }
   ],
   "source": [
    "imgnames = [] # image name list\n",
    "labels = [] # label list\n",
    "\n",
    "for label, category in enumerate(categories): # category 별로 label을 붙입니다.\n",
    "    filelist = os.listdir(os.path.join(image_dir, category)) # 해당 디렉터리에 있는 파일들의 리스트를 구할 수 있다.\n",
    "    imglist = []\n",
    "    for f in filelist:\n",
    "        img_path = os.path.join(image_dir, category, f)\n",
    "        \n",
    "        # 1) 이미지 확장자 아닌 파일 제거\n",
    "        ext = os.path.splitext(f)[-1] # 파일 명에서 확장자만 가져온다.\n",
    "        if ext.lower() not in valid_exts: # 현재 파일의 확장자가 올바른 이미지 확장자 인지 판단합니다.\n",
    "            os.remove(os.path.join(img_path)) # 기본 확장지 이외의 데이터는 삭제 후 pass            \n",
    "            continue\n",
    "        \n",
    "        # 2) 정상 이미지( shape = 3 & channel = 3 (R,G,B))가 아닌 경우 제거        \n",
    "        image = np.array(imread(img_path)) # image를 받습니다.\n",
    "        if len(image.shape) != 3 or image.shape[2] !=3: # (height, width, channel) 형태의 shape이 3이고 channel은 (R, G, B) 3개를 가져야 합니다.\n",
    "            os.remove(os.path.join(img_path))\n",
    "            continue\n",
    "            \n",
    "        imglist.append(f) # 올바른 이미지는 imglist에 추가합니다.\n",
    "        \n",
    "    imgnames += imglist # imglist에 추가된 이미지만 최종 imgnames에 추가합니다.\n",
    "    labels += [label] * len(imglist) # imglist에 추가된 갯수만큼 label을 만듭니다. label은 카테고리별로 0, 1, 2, ...로 증가합니다.    \n",
    "    print(\"%d %s images are found\" % (len(imglist), category))"
   ]
  },
  {
   "cell_type": "markdown",
   "metadata": {},
   "source": [
    "### Split data(Train/Validation/Test) ###"
   ]
  },
  {
   "cell_type": "code",
   "execution_count": 6,
   "metadata": {
    "collapsed": false
   },
   "outputs": [
    {
     "name": "stdout",
     "output_type": "stream",
     "text": [
      "#train data :  4724\n",
      "#validation data :  1182\n",
      "#test data :  1477\n"
     ]
    }
   ],
   "source": [
    "numfiles = len(labels) # 전체 이미지 갯수\n",
    "train_val_numfiles = int(train_val_ratio * numfiles)\n",
    "train_numfiles = int(train_ratio * train_val_numfiles)\n",
    "\n",
    "idxrand = np.random.permutation(numfiles) #전체 이미지 갯수 : [0, numfiles) 만큼 순서 랜덤으로 섞음\n",
    "idxtrain = idxrand[:train_numfiles] # train 데이터 인덱스\n",
    "idxval = idxrand[train_numfiles:train_val_numfiles] # validation 데이터 인덱스\n",
    "idxtest = idxrand[train_val_numfiles:] # test 데이터 인덱스\n",
    "\n",
    "print('#train data : ', len(idxtrain))\n",
    "print('#validation data : ', len(idxval))\n",
    "print('#test data : ', len(idxtest))"
   ]
  },
  {
   "cell_type": "markdown",
   "metadata": {},
   "source": [
    "### TFRecord 생성 ###\n",
    "- Train data / Validation data / Test data 각각의 TFRecordWriter를 통하여 학습 데이터 생성 "
   ]
  },
  {
   "cell_type": "code",
   "execution_count": 7,
   "metadata": {
    "collapsed": false
   },
   "outputs": [],
   "source": [
    "def _int64_feature(value):\n",
    "    return tf.train.Feature(int64_list = tf.train.Int64List(value=[value]))\n",
    "\n",
    "def _bytes_feature(value):\n",
    "    return tf.train.Feature(bytes_list = tf.train.BytesList(value=[value]))"
   ]
  },
  {
   "cell_type": "code",
   "execution_count": 9,
   "metadata": {
    "collapsed": true
   },
   "outputs": [],
   "source": [
    "writer_train = tf.python_io.TFRecordWriter(os.path.join(cur_dir, tfrecord_dir, tfrecord_train))\n",
    "writer_val = tf.python_io.TFRecordWriter(os.path.join(cur_dir, tfrecord_dir, tfrecord_val))\n",
    "writer_test = tf.python_io.TFRecordWriter(os.path.join(cur_dir, tfrecord_dir, tfrecord_test))\n",
    "\n",
    "for idx in idxtrain:\n",
    "    label = labels[idx]\n",
    "    img_path = os.path.join(image_dir, categories[label], imgnames[idx])\n",
    "    image = np.array(imread(img_path))            \n",
    "    \n",
    "    image = imresize(image, [img_height, img_width])\n",
    "    image_str = image.tostring()\n",
    "    \n",
    "    example = tf.train.Example(features=tf.train.Features(feature={\n",
    "        'image': _bytes_feature(image_str),\n",
    "        'label': _int64_feature(label)\n",
    "    }))\n",
    "    writer_train.write(example.SerializeToString())\n",
    "    \n",
    "for idx in idxval:\n",
    "    label = labels[idx]\n",
    "    img_path = os.path.join(image_dir, categories[label], imgnames[idx])\n",
    "    image = np.array(imread(img_path))            \n",
    "    \n",
    "    image = imresize(image, [img_height, img_width])\n",
    "    image_str = image.tostring()\n",
    "    \n",
    "    example = tf.train.Example(features=tf.train.Features(feature={\n",
    "        'image': _bytes_feature(image_str),\n",
    "        'label': _int64_feature(label)\n",
    "    }))\n",
    "    writer_val.write(example.SerializeToString())    \n",
    "    \n",
    "for idx in idxtest:\n",
    "    label = labels[idx]\n",
    "    img_path = os.path.join(image_dir, categories[label], imgnames[idx])\n",
    "    image = np.array(imread(img_path))   \n",
    "    \n",
    "    image = imresize(image, [img_height, img_width])\n",
    "    image_str = image.tostring()\n",
    "    \n",
    "    example = tf.train.Example(features=tf.train.Features(feature={\n",
    "        'image': _bytes_feature(image_str),\n",
    "        'label': _int64_feature(label)\n",
    "    }))\n",
    "    writer_test.write(example.SerializeToString())\n",
    "\n",
    "writer_train.close()\n",
    "writer_val.close()\n",
    "writer_test.close()"
   ]
  }
 ],
 "metadata": {
  "anaconda-cloud": {},
  "kernelspec": {
   "display_name": "Python [conda root]",
   "language": "python",
   "name": "conda-root-py"
  },
  "language_info": {
   "codemirror_mode": {
    "name": "ipython",
    "version": 3
   },
   "file_extension": ".py",
   "mimetype": "text/x-python",
   "name": "python",
   "nbconvert_exporter": "python",
   "pygments_lexer": "ipython3",
   "version": "3.5.2"
  },
  "varInspector": {
   "cols": {
    "lenName": 16,
    "lenType": 16,
    "lenVar": 40
   },
   "kernels_config": {
    "python": {
     "delete_cmd_postfix": "",
     "delete_cmd_prefix": "del ",
     "library": "var_list.py",
     "varRefreshCmd": "print(var_dic_list())"
    },
    "r": {
     "delete_cmd_postfix": ") ",
     "delete_cmd_prefix": "rm(",
     "library": "var_list.r",
     "varRefreshCmd": "cat(var_dic_list()) "
    }
   },
   "oldHeight": 312.4,
   "position": {
    "height": "40px",
    "left": "909px",
    "right": "20px",
    "top": "38px",
    "width": "582px"
   },
   "types_to_exclude": [
    "module",
    "function",
    "builtin_function_or_method",
    "instance",
    "_Feature"
   ],
   "varInspector_section_display": "none",
   "window_display": true
  }
 },
 "nbformat": 4,
 "nbformat_minor": 1
}
