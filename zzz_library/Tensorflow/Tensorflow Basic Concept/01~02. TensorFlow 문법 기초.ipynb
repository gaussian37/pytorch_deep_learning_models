{
 "cells": [
  {
   "cell_type": "markdown",
   "metadata": {},
   "source": [
    "# Tensorflow 문법 기초\n",
    "## tf.<span class=\"mark\">constant</span>와 tf.<span class=\"mark\">Session</span>에 대한 학습"
   ]
  },
  {
   "cell_type": "markdown",
   "metadata": {},
   "source": [
    "## Tensorflow는 Define & Run 방식이다.\n",
    "![1](https://i.imgur.com/XFKVIJT.png)"
   ]
  },
  {
   "cell_type": "markdown",
   "metadata": {},
   "source": [
    "## 1. Tensorflow 사용"
   ]
  },
  {
   "cell_type": "code",
   "execution_count": 2,
   "metadata": {
    "ExecuteTime": {
     "end_time": "2018-03-18T14:31:46.364777Z",
     "start_time": "2018-03-18T14:31:39.189800Z"
    }
   },
   "outputs": [
    {
     "name": "stderr",
     "output_type": "stream",
     "text": [
      "C:\\Users\\infoe\\Anaconda3\\lib\\site-packages\\h5py\\__init__.py:36: FutureWarning: Conversion of the second argument of issubdtype from `float` to `np.floating` is deprecated. In future, it will be treated as `np.float64 == np.dtype(float).type`.\n",
      "  from ._conv import register_converters as _register_converters\n"
     ]
    }
   ],
   "source": [
    "import tensorflow as tf"
   ]
  },
  {
   "cell_type": "markdown",
   "metadata": {},
   "source": [
    "tensorflow를 import 합니다. tensorflow를 import 할 때에는 tf로 이름을 만들어 줍니다. <br>\n",
    "참고로, tensor는 N-dimensional array를 뜻합니다."
   ]
  },
  {
   "cell_type": "code",
   "execution_count": 2,
   "metadata": {
    "ExecuteTime": {
     "end_time": "2018-03-15T19:44:43.277294Z",
     "start_time": "2018-03-15T19:44:43.275290Z"
    }
   },
   "outputs": [
    {
     "name": "stdout",
     "output_type": "stream",
     "text": [
      "1.4.0\n"
     ]
    }
   ],
   "source": [
    "print(tf.__version__)"
   ]
  },
  {
   "cell_type": "markdown",
   "metadata": {
    "ExecuteTime": {
     "end_time": "2018-03-13T21:55:54.575594Z",
     "start_time": "2018-03-13T21:55:54.572587Z"
    }
   },
   "source": [
    "tensorflow 버전을 확인할 때 tf.__version__을 사용합니다."
   ]
  },
  {
   "cell_type": "markdown",
   "metadata": {},
   "source": [
    "## 2. Hello World"
   ]
  },
  {
   "cell_type": "code",
   "execution_count": 4,
   "metadata": {
    "ExecuteTime": {
     "end_time": "2018-03-15T19:45:57.078555Z",
     "start_time": "2018-03-15T19:45:57.075548Z"
    }
   },
   "outputs": [],
   "source": [
    "hello = tf.constant(\"Hello \")\n",
    "world = tf.constant(\"World\")"
   ]
  },
  {
   "cell_type": "markdown",
   "metadata": {},
   "source": [
    "어떤 언어든지 가장 먼저 해보는 Hello World를 출력해보도록 하겠습니다.\n",
    "먼저 가장 기초적인 tensor인 constant를 이용하여 Hello와 World를 만들어 보도록 하겠습니다.\n",
    "Hello constant는 \"Hello\"를, World constant는 \"World\"를 저장합니다."
   ]
  },
  {
   "cell_type": "code",
   "execution_count": 5,
   "metadata": {
    "ExecuteTime": {
     "end_time": "2018-03-15T19:45:59.097437Z",
     "start_time": "2018-03-15T19:45:59.091420Z"
    }
   },
   "outputs": [
    {
     "data": {
      "text/plain": [
       "tensorflow.python.framework.ops.Tensor"
      ]
     },
     "execution_count": 5,
     "metadata": {},
     "output_type": "execute_result"
    }
   ],
   "source": [
    "type(hello)"
   ]
  },
  {
   "cell_type": "markdown",
   "metadata": {},
   "source": [
    "hello의 타입을 살펴보면 String이 아니라 Tensor 입니다. 즉, Tensor Object 입니다. "
   ]
  },
  {
   "cell_type": "code",
   "execution_count": 6,
   "metadata": {
    "ExecuteTime": {
     "end_time": "2018-03-15T19:46:30.981742Z",
     "start_time": "2018-03-15T19:46:30.978733Z"
    }
   },
   "outputs": [
    {
     "name": "stdout",
     "output_type": "stream",
     "text": [
      "Tensor(\"Const:0\", shape=(), dtype=string)\n"
     ]
    }
   ],
   "source": [
    "print(hello)"
   ]
  },
  {
   "cell_type": "markdown",
   "metadata": {},
   "source": [
    "hello 변수를 print를 이용하여 출력해 보면 String이 출력되는 것이 아니라 <span class=\"mark\">Tensor Object가 출력</span>이 됩니다.<br>\n",
    "Tensor Object 내부를 보면 Const, Shape 그리고 Tensor 의 data type = String인 것을 알 수 있습니다."
   ]
  },
  {
   "cell_type": "code",
   "execution_count": 12,
   "metadata": {
    "ExecuteTime": {
     "end_time": "2018-03-13T22:32:11.861377Z",
     "start_time": "2018-03-13T22:32:11.828259Z"
    }
   },
   "outputs": [],
   "source": [
    "with tf.Session() as sess:\n",
    "    result = sess.run(hello + world)   "
   ]
  },
  {
   "cell_type": "markdown",
   "metadata": {},
   "source": [
    "hello를 출력하기 위해서는 session 내부에서 연산을 해야 합니다. <br>\n",
    "Session을 사용하기 위해서는 tf.Session()을 사용해야 합니다. <br>\n",
    "여기서 with를 사용하는 이유는 Session을 Open 하였을 때, 마지막에 Close를 따로 선언하지 않기 위함입니다. With 가 끝나게 되었을 때 Session은 자동적으로 Close 됩니다. <br>\n",
    "Session 내부 함수로 <span class=\"mark\">run을 이용</span>하면 <span class=\"mark\">Tensor에 대한 연산을 실행</span>할 수 있습니다."
   ]
  },
  {
   "cell_type": "code",
   "execution_count": 13,
   "metadata": {
    "ExecuteTime": {
     "end_time": "2018-03-13T22:34:24.197334Z",
     "start_time": "2018-03-13T22:34:24.195330Z"
    }
   },
   "outputs": [
    {
     "name": "stdout",
     "output_type": "stream",
     "text": [
      "b'Hello World'\n"
     ]
    }
   ],
   "source": [
    "print(result)"
   ]
  },
  {
   "cell_type": "markdown",
   "metadata": {},
   "source": [
    "Tensor 자체를 Print한 경우에는 Tensor에 대한 정보가 출력 되었지만, tf.Session의 run 함수를 이용하여 Tensor에 대한 연산 결과를 출력하면 Tensor Data Type = String이므로 문자열이 출력 되었습니다. 이 때 접두사 b는 Python3 문법에 따라 bytes literal 이 표시되었습니다."
   ]
  },
  {
   "cell_type": "markdown",
   "metadata": {},
   "source": [
    "## 3. 더하기 연산"
   ]
  },
  {
   "cell_type": "code",
   "execution_count": 7,
   "metadata": {
    "ExecuteTime": {
     "end_time": "2018-03-15T19:49:33.686150Z",
     "start_time": "2018-03-15T19:49:33.683142Z"
    }
   },
   "outputs": [],
   "source": [
    "a = tf.constant(10)\n",
    "b = tf.constant(20)"
   ]
  },
  {
   "cell_type": "markdown",
   "metadata": {},
   "source": [
    "다음으로 Tensor Object를 이용하여 + 연산을 해보도록 하겠습니다.\n",
    "앞에서 hello와 world 변수를 선언한 것 처럼 a와 b 변수를 선언해 보도록 하겠습니다. <br>\n",
    "변수 a에는 10을, 변수 b에는 20을 할당하였습니다."
   ]
  },
  {
   "cell_type": "code",
   "execution_count": 8,
   "metadata": {
    "ExecuteTime": {
     "end_time": "2018-03-15T19:49:37.790426Z",
     "start_time": "2018-03-15T19:49:37.787392Z"
    }
   },
   "outputs": [
    {
     "data": {
      "text/plain": [
       "tensorflow.python.framework.ops.Tensor"
      ]
     },
     "execution_count": 8,
     "metadata": {},
     "output_type": "execute_result"
    }
   ],
   "source": [
    "type(a)"
   ]
  },
  {
   "cell_type": "markdown",
   "metadata": {},
   "source": [
    "변수 a의 타입은 hello와 같이 Tensor 입니다."
   ]
  },
  {
   "cell_type": "code",
   "execution_count": 9,
   "metadata": {
    "ExecuteTime": {
     "end_time": "2018-03-15T19:49:49.782662Z",
     "start_time": "2018-03-15T19:49:49.755592Z"
    }
   },
   "outputs": [
    {
     "data": {
      "text/plain": [
       "<tf.Tensor 'add:0' shape=() dtype=int32>"
      ]
     },
     "execution_count": 9,
     "metadata": {},
     "output_type": "execute_result"
    }
   ],
   "source": [
    "a + b"
   ]
  },
  {
   "cell_type": "markdown",
   "metadata": {},
   "source": [
    "hello 변수 자체를 print 한 것과 같이 a + b의 결과 또한 Tensor 이고 Tensor의 결과 add, shape, data type과 같은 내용이 출력 됩니다."
   ]
  },
  {
   "cell_type": "code",
   "execution_count": 10,
   "metadata": {
    "ExecuteTime": {
     "end_time": "2018-03-15T19:50:32.205488Z",
     "start_time": "2018-03-15T19:50:32.202481Z"
    }
   },
   "outputs": [
    {
     "data": {
      "text/plain": [
       "<tf.Tensor 'add_1:0' shape=() dtype=int32>"
      ]
     },
     "execution_count": 10,
     "metadata": {},
     "output_type": "execute_result"
    }
   ],
   "source": [
    "a + b"
   ]
  },
  {
   "cell_type": "markdown",
   "metadata": {},
   "source": [
    "다시 한번 더 a + b 연산을 하면 Tensor의 결과는 add_2가 됩니다. tensorflow가 background에서 연산에 대한 numbering을 하고 있음을 알 수 있습니다.<br>\n",
    "하지만, 명심해야 할 것은 아직 Session 내부에서 연산이 수행된 것이 아니므로 실제 더하기 연산이 적용된 것은 아닙니다."
   ]
  },
  {
   "cell_type": "code",
   "execution_count": 11,
   "metadata": {
    "ExecuteTime": {
     "end_time": "2018-03-15T19:51:10.612493Z",
     "start_time": "2018-03-15T19:51:09.939139Z"
    }
   },
   "outputs": [],
   "source": [
    "with tf.Session() as sess:\n",
    "    result = sess.run(a+b)"
   ]
  },
  {
   "cell_type": "code",
   "execution_count": 12,
   "metadata": {
    "ExecuteTime": {
     "end_time": "2018-03-15T19:51:11.574250Z",
     "start_time": "2018-03-15T19:51:11.571743Z"
    }
   },
   "outputs": [
    {
     "name": "stdout",
     "output_type": "stream",
     "text": [
      "30\n"
     ]
    }
   ],
   "source": [
    "print(result)"
   ]
  },
  {
   "cell_type": "markdown",
   "metadata": {},
   "source": [
    "앞에서 \"Hello World\"를 출력하는 방식과 마찬가지로 Session 내부 함수를 이용하여 Tensor에 연산을 실제 적용하면 덧셈 연산을 구현할 수 있습니다."
   ]
  },
  {
   "cell_type": "markdown",
   "metadata": {},
   "source": [
    "## 4. NumPy 연산과 비슷한 Tensorflow 연산"
   ]
  },
  {
   "cell_type": "code",
   "execution_count": 4,
   "metadata": {
    "ExecuteTime": {
     "end_time": "2018-03-18T14:32:35.608477Z",
     "start_time": "2018-03-18T14:32:35.605469Z"
    }
   },
   "outputs": [],
   "source": [
    "const = tf.constant(10)"
   ]
  },
  {
   "cell_type": "markdown",
   "metadata": {},
   "source": [
    "tf.constant를 이용하여 임의의 상수를 생성합니다."
   ]
  },
  {
   "cell_type": "code",
   "execution_count": 6,
   "metadata": {
    "ExecuteTime": {
     "end_time": "2018-03-18T14:33:52.129352Z",
     "start_time": "2018-03-18T14:33:52.125343Z"
    }
   },
   "outputs": [],
   "source": [
    "fill_mat = tf.fill((4, 4), 10)"
   ]
  },
  {
   "cell_type": "markdown",
   "metadata": {},
   "source": [
    "tf.fill 함수를 이용하여 (4, 4) dimension에 10의 값을 가지는 matrix를 생성합니다."
   ]
  },
  {
   "cell_type": "code",
   "execution_count": 8,
   "metadata": {
    "ExecuteTime": {
     "end_time": "2018-03-18T14:34:19.040281Z",
     "start_time": "2018-03-18T14:34:19.037274Z"
    }
   },
   "outputs": [],
   "source": [
    "myzeros = tf.zeros((4,4))"
   ]
  },
  {
   "cell_type": "markdown",
   "metadata": {},
   "source": [
    "tf.zeros를 이용하여 (4, 4) dimension의 0-matrix를 생성합니다."
   ]
  },
  {
   "cell_type": "code",
   "execution_count": 9,
   "metadata": {
    "ExecuteTime": {
     "end_time": "2018-03-18T14:35:29.581292Z",
     "start_time": "2018-03-18T14:35:29.573297Z"
    }
   },
   "outputs": [],
   "source": [
    "myrandn = tf.random_normal((4, 4), mean=0, stddev=1.0)"
   ]
  },
  {
   "cell_type": "markdown",
   "metadata": {},
   "source": [
    "tf.random_normal을 이용하여 (4, 4) dimension의 normal distribution의 matrix를 생성합니다.\n",
    "mean과 stddev 값은 기본값으로 각각 0과 1.0인 standard normal distribution을 가지고 있으나 mean과 stddev를 변경할 수 있습니다."
   ]
  },
  {
   "cell_type": "code",
   "execution_count": 10,
   "metadata": {
    "ExecuteTime": {
     "end_time": "2018-03-18T14:35:32.906573Z",
     "start_time": "2018-03-18T14:35:32.899526Z"
    }
   },
   "outputs": [],
   "source": [
    "myrandu = tf.random_uniform((4, 4), minval=0, maxval=1)"
   ]
  },
  {
   "cell_type": "markdown",
   "metadata": {},
   "source": [
    "tf.random_uniform을 이용하여 (4, 4) dimension의 uniform distribution을 가지고 minval과 maxval을 설정할 수 있습니다."
   ]
  },
  {
   "cell_type": "code",
   "execution_count": 26,
   "metadata": {
    "ExecuteTime": {
     "end_time": "2018-03-14T00:15:54.955579Z",
     "start_time": "2018-03-14T00:15:54.953573Z"
    }
   },
   "outputs": [],
   "source": [
    "my_ops = [const, fill_mat, myzeros, myrandn, myrandu]"
   ]
  },
  {
   "cell_type": "markdown",
   "metadata": {},
   "source": [
    "앞에서 선언한 변수들을 list를 이용하여 묶어줍니다."
   ]
  },
  {
   "cell_type": "code",
   "execution_count": 17,
   "metadata": {
    "ExecuteTime": {
     "end_time": "2018-03-18T14:41:27.577025Z",
     "start_time": "2018-03-18T14:41:27.212533Z"
    }
   },
   "outputs": [],
   "source": [
    "sess = tf.InteractiveSession()"
   ]
  },
  {
   "cell_type": "markdown",
   "metadata": {},
   "source": [
    "간단하게 연산 결과를 확인하기 위하여 Session 대신 InteractiveSession을 선언하였습니다. <br>\n",
    "함수명과 같이 Interactive 하게 사용가능하고 Tensor.eval(), Operation.run()을 이용하여 연산이 가능합니다. <br>\n",
    "tf.InteractiveSession()을 사용하면 일반 ide 처럼 중간과정을 처리합니다.<br>\n",
    "하지만, 향후 사용할 방식은 with 구문과 tf.Session()을 이용한 형태입니다."
   ]
  },
  {
   "cell_type": "code",
   "execution_count": 32,
   "metadata": {
    "ExecuteTime": {
     "end_time": "2018-03-14T00:30:38.399590Z",
     "start_time": "2018-03-14T00:30:38.394549Z"
    }
   },
   "outputs": [
    {
     "name": "stdout",
     "output_type": "stream",
     "text": [
      "Tensor(\"Const_5:0\", shape=(), dtype=int32)\n",
      "10\n",
      "\n",
      "\n",
      "Tensor(\"Fill:0\", shape=(4, 4), dtype=int32)\n",
      "[[10 10 10 10]\n",
      " [10 10 10 10]\n",
      " [10 10 10 10]\n",
      " [10 10 10 10]]\n",
      "\n",
      "\n",
      "Tensor(\"zeros:0\", shape=(4, 4), dtype=float32)\n",
      "[[0. 0. 0. 0.]\n",
      " [0. 0. 0. 0.]\n",
      " [0. 0. 0. 0.]\n",
      " [0. 0. 0. 0.]]\n",
      "\n",
      "\n",
      "Tensor(\"random_normal_1:0\", shape=(4, 4), dtype=float32)\n",
      "[[-0.86932355 -0.62501574  0.46983108 -0.7334518 ]\n",
      " [ 0.95767033 -0.03435803  0.13224508  1.2445968 ]\n",
      " [ 0.92577076 -0.16110788  0.9361842   0.62049663]\n",
      " [-1.1582403   0.00323756 -0.20112082 -0.56624585]]\n",
      "\n",
      "\n",
      "Tensor(\"random_uniform:0\", shape=(4, 4), dtype=float32)\n",
      "[[0.3905195  0.03458261 0.8546864  0.80481124]\n",
      " [0.24862123 0.29332435 0.37042022 0.07679212]\n",
      " [0.85840297 0.4314307  0.45534062 0.5187558 ]\n",
      " [0.4722339  0.9884018  0.53234255 0.3311721 ]]\n",
      "\n",
      "\n"
     ]
    }
   ],
   "source": [
    "for op in my_ops:\n",
    "    print(op)\n",
    "    print(sess.run(op)) # print(op.eval()) 사용 가능 (InteractiveSession이 선언되었기 때문)\n",
    "    print('\\n')"
   ]
  },
  {
   "cell_type": "markdown",
   "metadata": {
    "ExecuteTime": {
     "end_time": "2018-03-14T00:28:08.172445Z",
     "start_time": "2018-03-14T00:28:08.169412Z"
    }
   },
   "source": [
    "반복문을 이용하여 Tensor의 정보와 값을 출력 하였습니다."
   ]
  },
  {
   "cell_type": "markdown",
   "metadata": {},
   "source": [
    "## 5. Matrix Multiplication"
   ]
  },
  {
   "cell_type": "code",
   "execution_count": 12,
   "metadata": {
    "ExecuteTime": {
     "end_time": "2018-03-18T14:41:12.592735Z",
     "start_time": "2018-03-18T14:41:12.588725Z"
    }
   },
   "outputs": [],
   "source": [
    "a = tf.constant([ [1, 2],\n",
    "                  [3, 4] ])"
   ]
  },
  {
   "cell_type": "markdown",
   "metadata": {},
   "source": [
    "변수 a에 tf.constant를 이용하여 2 x 2 matrix를 선언하였습니다.<br>\n",
    "시각적으로 matrix 처럼 보이게 표현하였지만 사실 2중으로 표현한 list에 해당합니다."
   ]
  },
  {
   "cell_type": "code",
   "execution_count": 13,
   "metadata": {
    "ExecuteTime": {
     "end_time": "2018-03-18T14:41:14.364750Z",
     "start_time": "2018-03-18T14:41:14.356689Z"
    }
   },
   "outputs": [
    {
     "data": {
      "text/plain": [
       "TensorShape([Dimension(2), Dimension(2)])"
      ]
     },
     "execution_count": 13,
     "metadata": {},
     "output_type": "execute_result"
    }
   ],
   "source": [
    "a.get_shape()"
   ]
  },
  {
   "cell_type": "markdown",
   "metadata": {},
   "source": [
    "변수 a는 Tensor Object 이고 a의 shape를 확인해 보면 Dimension(2), Dimension(2)로 2 x 2 matrix임을 확인할 수 있습니다."
   ]
  },
  {
   "cell_type": "code",
   "execution_count": 14,
   "metadata": {
    "ExecuteTime": {
     "end_time": "2018-03-18T14:41:16.919693Z",
     "start_time": "2018-03-18T14:41:16.916661Z"
    }
   },
   "outputs": [],
   "source": [
    "b =  tf.constant([ [10], [100] ])"
   ]
  },
  {
   "cell_type": "markdown",
   "metadata": {},
   "source": [
    "변수 b에 tf.constant를 이용하여 2 x 1 matrix를 선언하였습니다. "
   ]
  },
  {
   "cell_type": "code",
   "execution_count": 15,
   "metadata": {
    "ExecuteTime": {
     "end_time": "2018-03-18T14:41:18.495362Z",
     "start_time": "2018-03-18T14:41:18.492384Z"
    }
   },
   "outputs": [
    {
     "data": {
      "text/plain": [
       "TensorShape([Dimension(2), Dimension(1)])"
      ]
     },
     "execution_count": 15,
     "metadata": {},
     "output_type": "execute_result"
    }
   ],
   "source": [
    "b.get_shape()"
   ]
  },
  {
   "cell_type": "markdown",
   "metadata": {
    "ExecuteTime": {
     "end_time": "2018-03-14T00:53:41.938869Z",
     "start_time": "2018-03-14T00:53:41.936892Z"
    }
   },
   "source": [
    "b의 shape을 확인해 보면 Dimension(2), Dimension(1)로 2 x 1 matrix 임을 확인할 수 있습니다."
   ]
  },
  {
   "cell_type": "code",
   "execution_count": 18,
   "metadata": {
    "ExecuteTime": {
     "end_time": "2018-03-18T14:41:31.775785Z",
     "start_time": "2018-03-18T14:41:31.740716Z"
    }
   },
   "outputs": [
    {
     "data": {
      "text/plain": [
       "array([[210],\n",
       "       [430]])"
      ]
     },
     "execution_count": 18,
     "metadata": {},
     "output_type": "execute_result"
    }
   ],
   "source": [
    "result = tf.matmul(a, b)\n",
    "sess.run(result)"
   ]
  },
  {
   "cell_type": "markdown",
   "metadata": {},
   "source": [
    "matrix a의 shape은 2 x 2이고 matrix b의 shape은 2 x 1 이므로 matrix multiplication 시 2 x 1 matrix를 얻을 수 있습니다."
   ]
  },
  {
   "cell_type": "code",
   "execution_count": 19,
   "metadata": {
    "ExecuteTime": {
     "end_time": "2018-03-18T14:41:37.599798Z",
     "start_time": "2018-03-18T14:41:37.596790Z"
    }
   },
   "outputs": [
    {
     "data": {
      "text/plain": [
       "TensorShape([Dimension(2), Dimension(1)])"
      ]
     },
     "execution_count": 19,
     "metadata": {},
     "output_type": "execute_result"
    }
   ],
   "source": [
    "result.get_shape()"
   ]
  },
  {
   "cell_type": "markdown",
   "metadata": {},
   "source": [
    "result의 shape은 2 x 1 입니다."
   ]
  },
  {
   "cell_type": "code",
   "execution_count": 20,
   "metadata": {
    "ExecuteTime": {
     "end_time": "2018-03-18T14:41:55.280876Z",
     "start_time": "2018-03-18T14:41:55.277367Z"
    }
   },
   "outputs": [
    {
     "data": {
      "text/plain": [
       "array([[210],\n",
       "       [430]])"
      ]
     },
     "execution_count": 20,
     "metadata": {},
     "output_type": "execute_result"
    }
   ],
   "source": [
    "result.eval()"
   ]
  },
  {
   "cell_type": "markdown",
   "metadata": {},
   "source": [
    "앞에서도 설명한 바와 같이 InteractiveSession()을 한번 선언하면 Tensor.eval()을 통하여 연산 결과를 확인할 수 있습니다."
   ]
  }
 ],
 "metadata": {
  "anaconda-cloud": {},
  "kernelspec": {
   "display_name": "Python [conda root]",
   "language": "python",
   "name": "conda-root-py"
  },
  "language_info": {
   "codemirror_mode": {
    "name": "ipython",
    "version": 3
   },
   "file_extension": ".py",
   "mimetype": "text/x-python",
   "name": "python",
   "nbconvert_exporter": "python",
   "pygments_lexer": "ipython3",
   "version": "3.5.2"
  },
  "varInspector": {
   "cols": {
    "lenName": 16,
    "lenType": 16,
    "lenVar": 40
   },
   "kernels_config": {
    "python": {
     "delete_cmd_postfix": "",
     "delete_cmd_prefix": "del ",
     "library": "var_list.py",
     "varRefreshCmd": "print(var_dic_list())"
    },
    "r": {
     "delete_cmd_postfix": ") ",
     "delete_cmd_prefix": "rm(",
     "library": "var_list.r",
     "varRefreshCmd": "cat(var_dic_list()) "
    }
   },
   "types_to_exclude": [
    "module",
    "function",
    "builtin_function_or_method",
    "instance",
    "_Feature"
   ],
   "window_display": false
  }
 },
 "nbformat": 4,
 "nbformat_minor": 1
}
