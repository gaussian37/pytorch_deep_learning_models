{
 "cells": [
  {
   "cell_type": "markdown",
   "metadata": {},
   "source": [
    "## Tensorflow 사용 목적\n",
    "\n",
    "<span class=\"mark\">장점</span>\n",
    "1. 가장 범용적으로 사용하여 코드를 구하기 쉽다.\n",
    "2. Community가 활발하다.\n",
    "3. 논문에서 가장 많이 사용되는 framework가 tensorflow 이다.\n",
    "4. embedded 환경에서 사용할 수 있다. 등등.\n",
    "\n",
    "단점 \n",
    "1. 타 framework에 비해 low-level 으로 다루기 다소 까다로울 수 있다.\n",
    "2. Define & Run 방식으로 이해 및 디버깅 하기 다소 난해하다."
   ]
  },
  {
   "cell_type": "markdown",
   "metadata": {},
   "source": [
    "![framework_ranking](https://i.imgur.com/lkYSODZ.jpg)"
   ]
  },
  {
   "cell_type": "markdown",
   "metadata": {},
   "source": [
    "## Tensorflow 설치 및 GPU 세팅 방법 ('18.1월 시점 기준)"
   ]
  },
  {
   "cell_type": "markdown",
   "metadata": {},
   "source": [
    "### 1. CUDA를 설치해야 합니다. [CUDA](https://developer.nvidia.com/cuda-downloads)에서 본인 컴퓨터에 맞는 사양으로 설치하시면 됩니다.\n",
    "\n",
    "※ CUDA 링크 : https://developer.nvidia.com/cuda-downloads\n",
    "\n",
    "### 2. cuDNN 파일을 컴퓨터에 붙어넣어야 합니다.\n",
    "\n",
    "2.1 [cuDNN](https://developer.nvidia.com/cudnn) 에서 컴퓨터 사양에 맞는 버전을 다운 받습니다.\n",
    "\n",
    "※ cuDNN 링크 : https://developer.nvidia.com/cuda-downloads\n",
    "\n",
    "2.2 다운 받은 파일의 압축을 풀어 cuda/bin, cuda/incldue, cuda/lib의 폴더와 파일을 <br>다음 경로에 붙여 넣습니다.(아래 경로 참조 하시어 컴퓨터 실제 경로에 맞도록 붙여넣습니다.)<br>\n",
    "C:\\Program Files\\NVIDIA GPU Computing Toolkit\\CUDA\\8.0 (또는 9.0)\n",
    "\n",
    "### 3. 제어판 내 시스템 → 고급 시스템 설정 → 시스템 속성 의 고급 탭 → 환경 변수 에서 아래 경로를 추가. 경로 추가 시 어떤 path에서도 추가된 경로는 접근 가능함.\n",
    "\n",
    "3.1 : C:\\Program Files\\NVIDIA GPU Computing Toolkit\\CUDA\\8.0\\bin\n",
    "\n",
    "3.2 : C:\\Program Files\\NVIDIA GPU Computing Toolkit\\CUDA\\8.0\\libnvvp\n",
    "\n",
    "### 4. cmd 에 ***pip install --upgrade tensorflow-gpu*** 를 입력하여 tensorflow gpu 버전을 설치합니다\n",
    "\n",
    "※ GPU 없을 시 : pip install --upgrade tensorflow 입력\n",
    "\n",
    "### 5. Tensorflow 사용 시 GPU 사용하고 있는지 확인하는 방법은 GPU 사용량을 보면 되지만 GPU 사용해야만 run되는 코드를 run 해보면 쉽게 확인할 수 있습니다."
   ]
  },
  {
   "cell_type": "code",
   "execution_count": 1,
   "metadata": {
    "ExecuteTime": {
     "end_time": "2018-03-14T23:27:57.081858Z",
     "start_time": "2018-03-14T23:27:47.990282Z"
    }
   },
   "outputs": [
    {
     "name": "stderr",
     "output_type": "stream",
     "text": [
      "C:\\Users\\infoe\\Anaconda3\\lib\\site-packages\\h5py\\__init__.py:36: FutureWarning: Conversion of the second argument of issubdtype from `float` to `np.floating` is deprecated. In future, it will be treated as `np.float64 == np.dtype(float).type`.\n",
      "  from ._conv import register_converters as _register_converters\n"
     ]
    },
    {
     "name": "stdout",
     "output_type": "stream",
     "text": [
      "[[22. 28.]\n",
      " [49. 64.]]\n"
     ]
    }
   ],
   "source": [
    "import tensorflow as tf\n",
    "with tf.device('/gpu:0'):\n",
    "    a = tf.constant([1.0, 2.0, 3.0, 4.0, 5.0, 6.0], shape=[2, 3], name='a')\n",
    "    b = tf.constant([1.0, 2.0, 3.0, 4.0, 5.0, 6.0], shape=[3, 2], name='b')\n",
    "    c = tf.matmul(a, b)\n",
    "    \n",
    "with tf.Session() as sess:\n",
    "    print (sess.run(c))"
   ]
  },
  {
   "cell_type": "code",
   "execution_count": null,
   "metadata": {},
   "outputs": [],
   "source": []
  }
 ],
 "metadata": {
  "anaconda-cloud": {},
  "kernelspec": {
   "display_name": "Python [conda root]",
   "language": "python",
   "name": "conda-root-py"
  },
  "language_info": {
   "codemirror_mode": {
    "name": "ipython",
    "version": 3
   },
   "file_extension": ".py",
   "mimetype": "text/x-python",
   "name": "python",
   "nbconvert_exporter": "python",
   "pygments_lexer": "ipython3",
   "version": "3.5.2"
  },
  "varInspector": {
   "cols": {
    "lenName": 16,
    "lenType": 16,
    "lenVar": 40
   },
   "kernels_config": {
    "python": {
     "delete_cmd_postfix": "",
     "delete_cmd_prefix": "del ",
     "library": "var_list.py",
     "varRefreshCmd": "print(var_dic_list())"
    },
    "r": {
     "delete_cmd_postfix": ") ",
     "delete_cmd_prefix": "rm(",
     "library": "var_list.r",
     "varRefreshCmd": "cat(var_dic_list()) "
    }
   },
   "types_to_exclude": [
    "module",
    "function",
    "builtin_function_or_method",
    "instance",
    "_Feature"
   ],
   "window_display": false
  }
 },
 "nbformat": 4,
 "nbformat_minor": 1
}
