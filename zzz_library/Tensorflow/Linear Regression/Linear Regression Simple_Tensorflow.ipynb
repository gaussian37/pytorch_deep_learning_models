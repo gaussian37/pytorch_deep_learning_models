{
 "cells": [
  {
   "cell_type": "markdown",
   "metadata": {},
   "source": [
    "# Linear Regression Simple"
   ]
  },
  {
   "cell_type": "code",
   "execution_count": 2,
   "metadata": {
    "ExecuteTime": {
     "end_time": "2018-07-16T04:14:13.510459Z",
     "start_time": "2018-07-16T04:14:12.783488Z"
    }
   },
   "outputs": [],
   "source": [
    "import tensorflow as tf\n",
    "import numpy as np\n",
    "import matplotlib.pyplot as plt\n",
    "%matplotlib inline"
   ]
  },
  {
   "cell_type": "markdown",
   "metadata": {},
   "source": [
    "For reproducibility, set a random seed"
   ]
  },
  {
   "cell_type": "code",
   "execution_count": 3,
   "metadata": {
    "ExecuteTime": {
     "end_time": "2018-07-16T04:14:51.962145Z",
     "start_time": "2018-07-16T04:14:51.959665Z"
    }
   },
   "outputs": [],
   "source": [
    "np.random.seed(777)"
   ]
  },
  {
   "cell_type": "markdown",
   "metadata": {},
   "source": [
    "Input"
   ]
  },
  {
   "cell_type": "code",
   "execution_count": 10,
   "metadata": {
    "ExecuteTime": {
     "end_time": "2018-07-16T04:20:11.450501Z",
     "start_time": "2018-07-16T04:20:11.447003Z"
    }
   },
   "outputs": [],
   "source": [
    "x = np.linspace(0, 1, 100, dtype = np.float32)\n",
    "slopes = 1\n",
    "intercept = np.random.normal(2, 0.2, 100).astype(np.float32)"
   ]
  },
  {
   "cell_type": "markdown",
   "metadata": {
    "ExecuteTime": {
     "end_time": "2018-07-16T04:18:36.762523Z",
     "start_time": "2018-07-16T04:18:36.439548Z"
    }
   },
   "source": [
    "output"
   ]
  },
  {
   "cell_type": "code",
   "execution_count": 11,
   "metadata": {
    "ExecuteTime": {
     "end_time": "2018-07-16T04:20:13.970276Z",
     "start_time": "2018-07-16T04:20:13.967270Z"
    }
   },
   "outputs": [],
   "source": [
    "y = x * slopes + intercept"
   ]
  },
  {
   "cell_type": "code",
   "execution_count": 12,
   "metadata": {
    "ExecuteTime": {
     "end_time": "2018-07-16T04:21:01.671389Z",
     "start_time": "2018-07-16T04:21:01.488392Z"
    }
   },
   "outputs": [
    {
     "data": {
      "text/plain": [
       "<matplotlib.legend.Legend at 0x13a1b604470>"
      ]
     },
     "execution_count": 12,
     "metadata": {},
     "output_type": "execute_result"
    },
    {
     "data": {
      "image/png": "[encoded data removed]",
      "text/plain": [
       "<Figure size 432x288 with 1 Axes>"
      ]
     },
     "metadata": {},
     "output_type": "display_data"
    }
   ],
   "source": [
    "plt.scatter(x, y)\n",
    "plt.plot(x, x * 1 + 2., label = \"ground truth\", c = \"r\")\n",
    "plt.legend()"
   ]
  },
  {
   "cell_type": "markdown",
   "metadata": {},
   "source": [
    "## Let's go with Tensorflow"
   ]
  },
  {
   "cell_type": "markdown",
   "metadata": {},
   "source": [
    "Define input with placeholder"
   ]
  },
  {
   "cell_type": "code",
   "execution_count": 13,
   "metadata": {
    "ExecuteTime": {
     "end_time": "2018-07-16T04:22:27.855860Z",
     "start_time": "2018-07-16T04:22:27.839493Z"
    }
   },
   "outputs": [],
   "source": [
    "x_pl = tf.placeholder(tf.float32, [100,], name = \"x_pl\")\n",
    "y_pl = tf.placeholder(tf.float32, [100,], name = \"y_pl\")"
   ]
  },
  {
   "cell_type": "markdown",
   "metadata": {},
   "source": [
    "Define Variable(Weight or Parameter)"
   ]
  },
  {
   "cell_type": "code",
   "execution_count": 17,
   "metadata": {
    "ExecuteTime": {
     "end_time": "2018-07-16T04:25:28.205656Z",
     "start_time": "2018-07-16T04:25:28.200199Z"
    }
   },
   "outputs": [],
   "source": [
    "w = tf.Variable(0.1, tf.float32)\n",
    "b = tf.Variable(0.0, tf.float32)"
   ]
  },
  {
   "cell_type": "markdown",
   "metadata": {
    "ExecuteTime": {
     "end_time": "2018-07-16T04:25:14.275114Z",
     "start_time": "2018-07-16T04:25:14.271615Z"
    }
   },
   "source": [
    "Define prediction(y_hat or hypothesis)\n",
    "- input : (100,)\n",
    "- output : (100,)"
   ]
  },
  {
   "cell_type": "code",
   "execution_count": 18,
   "metadata": {
    "ExecuteTime": {
     "end_time": "2018-07-16T04:26:28.498832Z",
     "start_time": "2018-07-16T04:26:28.495363Z"
    }
   },
   "outputs": [],
   "source": [
    "pred = x_pl * w + b"
   ]
  },
  {
   "cell_type": "markdown",
   "metadata": {
    "ExecuteTime": {
     "end_time": "2018-07-16T04:27:07.427194Z",
     "start_time": "2018-07-16T04:27:07.423699Z"
    }
   },
   "source": [
    "Define loss(Objective or cost)"
   ]
  },
  {
   "cell_type": "code",
   "execution_count": 21,
   "metadata": {
    "ExecuteTime": {
     "end_time": "2018-07-16T04:27:49.948626Z",
     "start_time": "2018-07-16T04:27:49.943640Z"
    }
   },
   "outputs": [],
   "source": [
    "loss = tf.reduce_mean(tf.square(pred - y))"
   ]
  },
  {
   "cell_type": "markdown",
   "metadata": {},
   "source": [
    "Define Optimization(Training)"
   ]
  },
  {
   "cell_type": "code",
   "execution_count": 22,
   "metadata": {
    "ExecuteTime": {
     "end_time": "2018-07-16T04:29:09.704485Z",
     "start_time": "2018-07-16T04:29:09.679686Z"
    }
   },
   "outputs": [],
   "source": [
    "optimizer = tf.train.GradientDescentOptimizer(learning_rate=0.1)\n",
    "train_op = optimizer.minimize(loss)"
   ]
  },
  {
   "cell_type": "markdown",
   "metadata": {},
   "source": [
    "Start a session"
   ]
  },
  {
   "cell_type": "code",
   "execution_count": 23,
   "metadata": {
    "ExecuteTime": {
     "end_time": "2018-07-16T04:29:28.893415Z",
     "start_time": "2018-07-16T04:29:28.192017Z"
    }
   },
   "outputs": [],
   "source": [
    "sess = tf.Session()"
   ]
  },
  {
   "cell_type": "markdown",
   "metadata": {
    "ExecuteTime": {
     "end_time": "2018-07-16T04:29:44.154695Z",
     "start_time": "2018-07-16T04:29:44.152191Z"
    }
   },
   "source": [
    "Initialize all variables"
   ]
  },
  {
   "cell_type": "code",
   "execution_count": 26,
   "metadata": {
    "ExecuteTime": {
     "end_time": "2018-07-16T04:29:59.553540Z",
     "start_time": "2018-07-16T04:29:58.480029Z"
    }
   },
   "outputs": [],
   "source": [
    "sess.run(tf.global_variables_initializer())"
   ]
  },
  {
   "cell_type": "code",
   "execution_count": 27,
   "metadata": {
    "ExecuteTime": {
     "end_time": "2018-07-16T04:30:17.210689Z",
     "start_time": "2018-07-16T04:30:17.208185Z"
    }
   },
   "outputs": [],
   "source": [
    "loss_list, w_list, b_list = [], [], []"
   ]
  },
  {
   "cell_type": "markdown",
   "metadata": {},
   "source": [
    "Run session. **train_op, loss, w, b** need to be applied in the sess.run to update. \n",
    "\n",
    "+ x_pl ← x, y_pl ← y "
   ]
  },
  {
   "cell_type": "code",
   "execution_count": 31,
   "metadata": {
    "ExecuteTime": {
     "end_time": "2018-07-16T04:38:14.974271Z",
     "start_time": "2018-07-16T04:38:14.871464Z"
    }
   },
   "outputs": [
    {
     "name": "stdout",
     "output_type": "stream",
     "text": [
      "1 \t 0.0380525 \t 1.08534 \t 1.95515\n",
      "2 \t 0.0379736 \t 1.084 \t 1.95769\n",
      "3 \t 0.0379062 \t 1.08249 \t 1.95985\n",
      "4 \t 0.0378458 \t 1.08087 \t 1.96174\n",
      "5 \t 0.0377899 \t 1.07917 \t 1.9634\n",
      "6 \t 0.0377372 \t 1.07741 \t 1.96491\n",
      "7 \t 0.0376867 \t 1.07562 \t 1.96629\n",
      "8 \t 0.037638 \t 1.07382 \t 1.96757\n",
      "9 \t 0.037591 \t 1.07201 \t 1.96878\n",
      "10 \t 0.0375453 \t 1.07019 \t 1.96992\n",
      "11 \t 0.037501 \t 1.06839 \t 1.97102\n",
      "12 \t 0.0374579 \t 1.06659 \t 1.97208\n",
      "13 \t 0.0374159 \t 1.06481 \t 1.97311\n",
      "14 \t 0.0373751 \t 1.06305 \t 1.97411\n",
      "15 \t 0.0373354 \t 1.06131 \t 1.97508\n",
      "16 \t 0.0372968 \t 1.05958 \t 1.97604\n",
      "17 \t 0.0372592 \t 1.05787 \t 1.97698\n",
      "18 \t 0.0372225 \t 1.05619 \t 1.9779\n",
      "19 \t 0.0371869 \t 1.05452 \t 1.9788\n",
      "20 \t 0.0371522 \t 1.05288 \t 1.97969\n"
     ]
    }
   ],
   "source": [
    "writer = tf.summary.FileWriter('./graphs', tf.get_default_graph())\n",
    "for epoch in range(20):\n",
    "    _, _loss, _w, _b = sess.run([train_op, loss, w, b], {x_pl:x, y_pl:y})\n",
    "    print(epoch + 1, '\\t', _loss, '\\t', _w, '\\t', _b)\n",
    "    loss_list.append(_loss)\n",
    "    w_list.append(_w)\n",
    "    b_list.append(_b)"
   ]
  },
  {
   "cell_type": "code",
   "execution_count": 32,
   "metadata": {
    "ExecuteTime": {
     "end_time": "2018-07-16T04:38:40.160617Z",
     "start_time": "2018-07-16T04:38:40.078283Z"
    }
   },
   "outputs": [
    {
     "data": {
      "image/png": "[encoded data removed]",
      "text/plain": [
       "<Figure size 432x288 with 1 Axes>"
      ]
     },
     "metadata": {},
     "output_type": "display_data"
    }
   ],
   "source": [
    "plt.plot(loss_list, label = \"loss\")\n",
    "plt.plot(w_list, label = \"w\")\n",
    "plt.plot(b_list, label = \"b\")\n",
    "plt.legend()\n",
    "plt.show()"
   ]
  },
  {
   "cell_type": "markdown",
   "metadata": {},
   "source": [
    "## With Tensorboard "
   ]
  },
  {
   "cell_type": "markdown",
   "metadata": {},
   "source": [
    "![Tensorboard](./images/Linear Regression Simple.png)"
   ]
  },
  {
   "cell_type": "code",
   "execution_count": null,
   "metadata": {},
   "outputs": [],
   "source": []
  }
 ],
 "metadata": {
  "anaconda-cloud": {},
  "kernelspec": {
   "display_name": "Python [default]",
   "language": "python",
   "name": "python3"
  },
  "language_info": {
   "codemirror_mode": {
    "name": "ipython",
    "version": 3
   },
   "file_extension": ".py",
   "mimetype": "text/x-python",
   "name": "python",
   "nbconvert_exporter": "python",
   "pygments_lexer": "ipython3",
   "version": "3.5.2"
  },
  "varInspector": {
   "cols": {
    "lenName": 16,
    "lenType": 16,
    "lenVar": 40
   },
   "kernels_config": {
    "python": {
     "delete_cmd_postfix": "",
     "delete_cmd_prefix": "del ",
     "library": "var_list.py",
     "varRefreshCmd": "print(var_dic_list())"
    },
    "r": {
     "delete_cmd_postfix": ") ",
     "delete_cmd_prefix": "rm(",
     "library": "var_list.r",
     "varRefreshCmd": "cat(var_dic_list()) "
    }
   },
   "types_to_exclude": [
    "module",
    "function",
    "builtin_function_or_method",
    "instance",
    "_Feature"
   ],
   "window_display": false
  }
 },
 "nbformat": 4,
 "nbformat_minor": 1
}
