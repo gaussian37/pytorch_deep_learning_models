{
 "cells": [
  {
   "cell_type": "markdown",
   "metadata": {},
   "source": [
    "# Linear_Regression_from_Text_Minibatch with Tensorflow"
   ]
  },
  {
   "cell_type": "code",
   "execution_count": 1,
   "metadata": {
    "ExecuteTime": {
     "end_time": "2018-07-20T20:51:31.369895Z",
     "start_time": "2018-07-20T20:51:29.705215Z"
    }
   },
   "outputs": [],
   "source": [
    "import numpy as np\n",
    "import matplotlib.pyplot as plt\n",
    "import tensorflow as tf"
   ]
  },
  {
   "cell_type": "markdown",
   "metadata": {},
   "source": [
    "Read the data file\n",
    "Linear_Regression_from_Text_Minibatch with Tensorflow.ipynb <br>\n",
    "data <br>\n",
    "└──── birth_life_2010.txt <br>\n",
    "\n",
    "+ birth_life_2010.txt\n",
    "\n",
    "| Country | Birth rate | Life expectancy |\n",
    "|---------|------------|-----------------|\n",
    "| Vietnam | 1.822      | 74.828243902    |\n",
    "| Vanuatu | 3.869      | 70.819487805    |\n",
    "| ...     | ...        | ...             |\n"
   ]
  },
  {
   "cell_type": "code",
   "execution_count": 2,
   "metadata": {
    "ExecuteTime": {
     "end_time": "2018-07-20T20:51:31.373787Z",
     "start_time": "2018-07-20T20:51:31.370782Z"
    }
   },
   "outputs": [],
   "source": [
    "DATA_FILE = \"./data/birth_life_2010.txt\""
   ]
  },
  {
   "cell_type": "code",
   "execution_count": 3,
   "metadata": {
    "ExecuteTime": {
     "end_time": "2018-07-20T20:51:31.385193Z",
     "start_time": "2018-07-20T20:51:31.374749Z"
    }
   },
   "outputs": [],
   "source": [
    "batch_size = 10\n",
    "n_epoch = 1000"
   ]
  },
  {
   "cell_type": "code",
   "execution_count": 4,
   "metadata": {
    "ExecuteTime": {
     "end_time": "2018-07-20T20:51:31.405029Z",
     "start_time": "2018-07-20T20:51:31.386157Z"
    }
   },
   "outputs": [],
   "source": [
    "def read_birth_file_data(filename):\n",
    "    \"\"\"\n",
    "    Read in birth_life_2010.txt and return:\n",
    "    data in the form of NumPy array\n",
    "    n_samples: number of samples\n",
    "    \"\"\"        \n",
    "    \"readline from 1 row (except 0 row : category)\"\n",
    "    text = open(filename, 'r').readlines()[1:]   \n",
    "    \"Split each line with '\\t'\"\n",
    "    data = [line[:-1].split('\\t') for line in text]\n",
    "    \"Select the column 1 of birth\"\n",
    "    births = [float(line[1]) for line in data]\n",
    "    \"Select the column 2 of lifes\"\n",
    "    lifes = [float(line[2]) for line in data]\n",
    "    \"Zip birth & lifes\"\n",
    "    data = list(zip(births, lifes))\n",
    "    \"The number of samples\"\n",
    "    n_samples = len(data)\n",
    "    \"Transform data type from list to np.array\"\n",
    "    data = np.asarray(data, dtype=np.float32)\n",
    "    \n",
    "    return data, n_samples"
   ]
  },
  {
   "cell_type": "markdown",
   "metadata": {},
   "source": [
    "### Step 1 : read in data from the .txt file"
   ]
  },
  {
   "cell_type": "code",
   "execution_count": 5,
   "metadata": {
    "ExecuteTime": {
     "end_time": "2018-07-20T20:51:31.413933Z",
     "start_time": "2018-07-20T20:51:31.405998Z"
    }
   },
   "outputs": [],
   "source": [
    "data, n_samples = read_birth_file_data(DATA_FILE)"
   ]
  },
  {
   "cell_type": "markdown",
   "metadata": {},
   "source": [
    "### Step 2 : create placeholders for X (birth rate) and Y (life expectancy)"
   ]
  },
  {
   "cell_type": "code",
   "execution_count": 6,
   "metadata": {
    "ExecuteTime": {
     "end_time": "2018-07-20T20:51:31.433773Z",
     "start_time": "2018-07-20T20:51:31.414925Z"
    }
   },
   "outputs": [],
   "source": [
    "X = tf.placeholder(tf.float32, [None,], name = \"X\")\n",
    "Y = tf.placeholder(tf.float32, [None,], name = \"Y\")"
   ]
  },
  {
   "cell_type": "markdown",
   "metadata": {},
   "source": [
    "### Step 3 : create weight and bias, initialized to 0"
   ]
  },
  {
   "cell_type": "code",
   "execution_count": 7,
   "metadata": {
    "ExecuteTime": {
     "end_time": "2018-07-20T20:51:31.441709Z",
     "start_time": "2018-07-20T20:51:31.434765Z"
    }
   },
   "outputs": [],
   "source": [
    "w = tf.get_variable(\"weights\", initializer = tf.constant(0.0))\n",
    "b = tf.get_variable(\"bias\", initializer= tf.constant(0.0))"
   ]
  },
  {
   "cell_type": "markdown",
   "metadata": {},
   "source": [
    "### Step 4 : build model to predict Y"
   ]
  },
  {
   "cell_type": "code",
   "execution_count": 8,
   "metadata": {
    "ExecuteTime": {
     "end_time": "2018-07-20T20:51:31.453613Z",
     "start_time": "2018-07-20T20:51:31.442702Z"
    }
   },
   "outputs": [],
   "source": [
    "hypothesis = w * X + b"
   ]
  },
  {
   "cell_type": "markdown",
   "metadata": {},
   "source": [
    "### Step 5 : use the squared error as the loss function"
   ]
  },
  {
   "cell_type": "code",
   "execution_count": 9,
   "metadata": {
    "ExecuteTime": {
     "end_time": "2018-07-20T20:51:31.466509Z",
     "start_time": "2018-07-20T20:51:31.454605Z"
    }
   },
   "outputs": [],
   "source": [
    "loss = tf.reduce_mean(tf.square(hypothesis - Y), name = \"loss\")"
   ]
  },
  {
   "cell_type": "markdown",
   "metadata": {},
   "source": [
    "### Step 6 : using gradient descent with learning rate of 0.001 to minimize loss"
   ]
  },
  {
   "cell_type": "code",
   "execution_count": 10,
   "metadata": {
    "ExecuteTime": {
     "end_time": "2018-07-20T20:51:31.492301Z",
     "start_time": "2018-07-20T20:51:31.467501Z"
    }
   },
   "outputs": [],
   "source": [
    "optimizer = tf.train.GradientDescentOptimizer(learning_rate=0.001).minimize(loss)"
   ]
  },
  {
   "cell_type": "markdown",
   "metadata": {},
   "source": [
    "### Step 7, 8, 9 : "
   ]
  },
  {
   "cell_type": "code",
   "execution_count": 11,
   "metadata": {
    "ExecuteTime": {
     "end_time": "2018-07-20T20:51:56.636955Z",
     "start_time": "2018-07-20T20:51:31.493293Z"
    }
   },
   "outputs": [
    {
     "name": "stdout",
     "output_type": "stream",
     "text": [
      "Epoch 0 : 3873.261664139597\n",
      "Epoch 10 : 1177.9284186112254\n",
      "Epoch 20 : 1021.8864087556537\n",
      "Epoch 30 : 890.0951409590872\n",
      "Epoch 40 : 775.8602037931744\n",
      "Epoch 50 : 676.8043333354749\n",
      "Epoch 60 : 590.9107232344778\n",
      "Epoch 70 : 516.4300199809827\n",
      "Epoch 80 : 451.84580913342927\n",
      "Epoch 90 : 395.84292763157896\n",
      "Epoch 100 : 347.2815310829564\n",
      "Epoch 110 : 305.17327680085833\n",
      "Epoch 120 : 268.660385533383\n",
      "Epoch 130 : 236.99898047196237\n",
      "Epoch 140 : 209.54497929623253\n",
      "Epoch 150 : 185.73920280054995\n",
      "Epoch 160 : 165.096669648823\n",
      "Epoch 170 : 147.19749892385383\n",
      "Epoch 180 : 131.67683390567177\n",
      "Epoch 190 : 118.2189413371839\n",
      "Epoch 200 : 106.54922525506271\n",
      "Epoch 210 : 96.43009768034283\n",
      "Epoch 220 : 87.65597775107936\n",
      "Epoch 230 : 80.04791420384457\n",
      "Epoch 240 : 73.4511698672646\n",
      "Epoch 250 : 67.73079420390881\n",
      "Epoch 260 : 62.77094068025288\n",
      "Epoch 270 : 58.47038409584447\n",
      "Epoch 280 : 54.74108866641396\n",
      "Epoch 290 : 51.50764425177323\n",
      "Epoch 300 : 48.704090319181745\n",
      "Epoch 310 : 46.273195567883946\n",
      "Epoch 320 : 44.165450748644375\n",
      "Epoch 330 : 42.33779555872867\n",
      "Epoch 340 : 40.75325062400416\n",
      "Epoch 350 : 39.37916042930201\n",
      "Epoch 360 : 38.187887392546\n",
      "Epoch 370 : 37.155074069374486\n",
      "Epoch 380 : 36.25946812880667\n",
      "Epoch 390 : 35.48317924298738\n",
      "Epoch 400 : 34.809891951711556\n",
      "Epoch 410 : 34.22618007659912\n",
      "Epoch 420 : 33.72020962363795\n",
      "Epoch 430 : 33.28137538307592\n",
      "Epoch 440 : 32.901002381977285\n",
      "Epoch 450 : 32.57119269120066\n",
      "Epoch 460 : 32.2852144241333\n",
      "Epoch 470 : 32.037311152407995\n",
      "Epoch 480 : 31.822475784703304\n",
      "Epoch 490 : 31.636232376098633\n",
      "Epoch 500 : 31.474788565384713\n",
      "Epoch 510 : 31.334768696835166\n",
      "Epoch 520 : 31.213394114845677\n",
      "Epoch 530 : 31.10822065253007\n",
      "Epoch 540 : 31.017030565362226\n",
      "Epoch 550 : 30.938024520874023\n",
      "Epoch 560 : 30.869479480542633\n",
      "Epoch 570 : 30.81015888013338\n",
      "Epoch 580 : 30.75869665647808\n",
      "Epoch 590 : 30.714096872430098\n",
      "Epoch 600 : 30.675428139536006\n",
      "Epoch 610 : 30.641936603345368\n",
      "Epoch 620 : 30.612956247831647\n",
      "Epoch 630 : 30.587803840637207\n",
      "Epoch 640 : 30.566012081347015\n",
      "Epoch 650 : 30.54714830298173\n",
      "Epoch 660 : 30.53080463409424\n",
      "Epoch 670 : 30.516621188113565\n",
      "Epoch 680 : 30.50435929549368\n",
      "Epoch 690 : 30.493725776672363\n",
      "Epoch 700 : 30.48450419777318\n",
      "Epoch 710 : 30.476536750793457\n",
      "Epoch 720 : 30.46962652708355\n",
      "Epoch 730 : 30.46364181920102\n",
      "Epoch 740 : 30.45845357995284\n",
      "Epoch 750 : 30.453973870528372\n",
      "Epoch 760 : 30.45011625791851\n",
      "Epoch 770 : 30.446753451698704\n",
      "Epoch 780 : 30.443865324321546\n",
      "Epoch 790 : 30.441354450426605\n",
      "Epoch 800 : 30.4391652659366\n",
      "Epoch 810 : 30.437284469604492\n",
      "Epoch 820 : 30.43565815373471\n",
      "Epoch 830 : 30.43424099370053\n",
      "Epoch 840 : 30.433045939395303\n",
      "Epoch 850 : 30.432000160217285\n",
      "Epoch 860 : 30.43107630077161\n",
      "Epoch 870 : 30.43029745001542\n",
      "Epoch 880 : 30.429620692604466\n",
      "Epoch 890 : 30.42902404383609\n",
      "Epoch 900 : 30.428540731731214\n",
      "Epoch 910 : 30.42808889087878\n",
      "Epoch 920 : 30.427750135722913\n",
      "Epoch 930 : 30.427408519544098\n",
      "Epoch 940 : 30.427137123911006\n",
      "Epoch 950 : 30.42688364731638\n",
      "Epoch 960 : 30.426684680737946\n",
      "Epoch 970 : 30.42652130126953\n",
      "Epoch 980 : 30.426354056910466\n",
      "Epoch 990 : 30.426233040659053\n"
     ]
    }
   ],
   "source": [
    "writer = tf.summary.FileWriter(\"./graphs/linear_reg_minibatch\", tf.get_default_graph())\n",
    "with tf.Session() as sess:\n",
    "    # Step 7 : initialize the necessary variables, in this case, w and b \n",
    "    sess.run(tf.global_variables_initializer())\n",
    "    \n",
    "    total_batch = int(n_samples / batch_size)\n",
    "    \n",
    "    # Step 8 : train the model for 100 epoch\n",
    "    for epoch in range(n_epoch):\n",
    "        total_loss = 0\n",
    "        for i in range(total_batch):\n",
    "            x_data = data[i*batch_size: (i+1)*batch_size, 0]\n",
    "            y_data = data[i*batch_size: (i+1)*batch_size, 1]\n",
    "            \n",
    "            # Session execute optimizer and fetch values of loss\n",
    "            _, _loss = sess.run([optimizer, loss], feed_dict = {X:x_data, Y:y_data})\n",
    "            total_loss += _loss\n",
    "        if epoch % 10 == 0:\n",
    "            print(\"Epoch {0} : {1}\".format(epoch, total_loss / total_batch))\n",
    "        \n",
    "    #close the writer when you're done using it\n",
    "    writer.close()\n",
    "    \n",
    "    # Step 9 : output the values of w and b\n",
    "    w_out, b_out = sess.run([w, b])"
   ]
  },
  {
   "cell_type": "code",
   "execution_count": 12,
   "metadata": {
    "ExecuteTime": {
     "end_time": "2018-07-20T20:51:56.750044Z",
     "start_time": "2018-07-20T20:51:56.637947Z"
    }
   },
   "outputs": [
    {
     "data": {
      "image/png": "[encoded data removed]",
      "text/plain": [
       "<Figure size 432x288 with 1 Axes>"
      ]
     },
     "metadata": {},
     "output_type": "display_data"
    }
   ],
   "source": [
    "plt.plot(data[:,0], data[:,1], 'bo', label = 'Real data')\n",
    "plt.plot(data[:,0], data[:,0]* w_out + b_out, 'r', label = \"Predicted data\")\n",
    "plt.legend()\n",
    "plt.show()"
   ]
  },
  {
   "cell_type": "code",
   "execution_count": null,
   "metadata": {},
   "outputs": [],
   "source": []
  }
 ],
 "metadata": {
  "anaconda-cloud": {},
  "kernelspec": {
   "display_name": "Python [default]",
   "language": "python",
   "name": "python3"
  },
  "language_info": {
   "codemirror_mode": {
    "name": "ipython",
    "version": 3
   },
   "file_extension": ".py",
   "mimetype": "text/x-python",
   "name": "python",
   "nbconvert_exporter": "python",
   "pygments_lexer": "ipython3",
   "version": "3.5.2"
  },
  "varInspector": {
   "cols": {
    "lenName": 16,
    "lenType": 16,
    "lenVar": 40
   },
   "kernels_config": {
    "python": {
     "delete_cmd_postfix": "",
     "delete_cmd_prefix": "del ",
     "library": "var_list.py",
     "varRefreshCmd": "print(var_dic_list())"
    },
    "r": {
     "delete_cmd_postfix": ") ",
     "delete_cmd_prefix": "rm(",
     "library": "var_list.r",
     "varRefreshCmd": "cat(var_dic_list()) "
    }
   },
   "types_to_exclude": [
    "module",
    "function",
    "builtin_function_or_method",
    "instance",
    "_Feature"
   ],
   "window_display": false
  }
 },
 "nbformat": 4,
 "nbformat_minor": 1
}
