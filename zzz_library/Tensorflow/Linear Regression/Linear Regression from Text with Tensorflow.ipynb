{
 "cells": [
  {
   "cell_type": "code",
   "execution_count": 1,
   "metadata": {
    "ExecuteTime": {
     "end_time": "2018-07-17T11:40:55.846822Z",
     "start_time": "2018-07-17T11:40:54.055244Z"
    }
   },
   "outputs": [],
   "source": [
    "import numpy as np\n",
    "import matplotlib.pyplot as plt\n",
    "import tensorflow as tf"
   ]
  },
  {
   "cell_type": "markdown",
   "metadata": {},
   "source": [
    "Read the data file\n",
    "Linear Regression from Text with Tensorflow.ipynb <br>\n",
    "data <br>\n",
    "└──── birth_life_2010.txt <br>\n",
    "\n",
    "+ birth_life_2010.txt\n",
    "\n",
    "| Country | Birth rate | Life expectancy |\n",
    "|---------|------------|-----------------|\n",
    "| Vietnam | 1.822      | 74.828243902    |\n",
    "| Vanuatu | 3.869      | 70.819487805    |\n",
    "| ...     | ...        | ...             |\n"
   ]
  },
  {
   "cell_type": "code",
   "execution_count": 2,
   "metadata": {
    "ExecuteTime": {
     "end_time": "2018-07-17T11:40:55.850763Z",
     "start_time": "2018-07-17T11:40:55.847788Z"
    }
   },
   "outputs": [],
   "source": [
    "DATA_FILE = \"./data/birth_life_2010.txt\""
   ]
  },
  {
   "cell_type": "code",
   "execution_count": 3,
   "metadata": {
    "ExecuteTime": {
     "end_time": "2018-07-17T11:40:55.868647Z",
     "start_time": "2018-07-17T11:40:55.852252Z"
    }
   },
   "outputs": [],
   "source": [
    "def read_birth_file_data(filename):\n",
    "    \"\"\"\n",
    "    Read in birth_life_2010.txt and return:\n",
    "    data in the form of NumPy array\n",
    "    n_samples: number of samples\n",
    "    \"\"\"        \n",
    "    \"readline from 1 row (except 0 row : category)\"\n",
    "    text = open(filename, 'r').readlines()[1:]   \n",
    "    \"Split each line with '\\t'\"\n",
    "    data = [line[:-1].split('\\t') for line in text]\n",
    "    \"Select the column 1 of birth\"\n",
    "    births = [float(line[1]) for line in data]\n",
    "    \"Select the column 2 of lifes\"\n",
    "    lifes = [float(line[2]) for line in data]\n",
    "    \"Zip birth & lifes\"\n",
    "    data = list(zip(births, lifes))\n",
    "    \"The number of samples\"\n",
    "    n_samples = len(data)\n",
    "    \"Transform data type from list to np.array\"\n",
    "    data = np.asarray(data, dtype=np.float32)\n",
    "    \n",
    "    return data, n_samples"
   ]
  },
  {
   "cell_type": "markdown",
   "metadata": {},
   "source": [
    "#### Step 1 : Read in data from the .txt file"
   ]
  },
  {
   "cell_type": "code",
   "execution_count": 4,
   "metadata": {
    "ExecuteTime": {
     "end_time": "2018-07-17T11:40:55.877574Z",
     "start_time": "2018-07-17T11:40:55.869611Z"
    }
   },
   "outputs": [],
   "source": [
    "data, n_samples = read_birth_file_data(DATA_FILE)"
   ]
  },
  {
   "cell_type": "markdown",
   "metadata": {},
   "source": [
    "#### Step 2: Create placeholders for X (birth rate) and Y (life expectancy)"
   ]
  },
  {
   "cell_type": "code",
   "execution_count": 5,
   "metadata": {
    "ExecuteTime": {
     "end_time": "2018-07-17T11:40:55.902374Z",
     "start_time": "2018-07-17T11:40:55.879036Z"
    }
   },
   "outputs": [],
   "source": [
    "X = tf.placeholder(tf.float32, name = \"X\")\n",
    "Y = tf.placeholder(tf.float32, name = \"Y\")"
   ]
  },
  {
   "cell_type": "markdown",
   "metadata": {},
   "source": [
    "#### Step 3 : create weight and bias, initialized to 0"
   ]
  },
  {
   "cell_type": "code",
   "execution_count": 6,
   "metadata": {
    "ExecuteTime": {
     "end_time": "2018-07-17T11:40:55.909788Z",
     "start_time": "2018-07-17T11:40:55.903340Z"
    }
   },
   "outputs": [],
   "source": [
    "w = tf.get_variable(\"weights\", initializer=tf.constant(0.0))\n",
    "b = tf.get_variable(\"bias\", initializer=tf.constant(0.0))"
   ]
  },
  {
   "cell_type": "markdown",
   "metadata": {},
   "source": [
    "#### Step 4 : build model to predict Y"
   ]
  },
  {
   "cell_type": "code",
   "execution_count": 7,
   "metadata": {
    "ExecuteTime": {
     "end_time": "2018-07-17T11:40:55.917751Z",
     "start_time": "2018-07-17T11:40:55.910780Z"
    }
   },
   "outputs": [],
   "source": [
    "hypothesis = w * X + b"
   ]
  },
  {
   "cell_type": "markdown",
   "metadata": {},
   "source": [
    "#### Step 5 : use the squared error as the loss function"
   ]
  },
  {
   "cell_type": "code",
   "execution_count": 8,
   "metadata": {
    "ExecuteTime": {
     "end_time": "2018-07-17T11:40:55.928635Z",
     "start_time": "2018-07-17T11:40:55.918716Z"
    }
   },
   "outputs": [],
   "source": [
    "loss = tf.reduce_mean(tf.square(Y - hypothesis, name = 'loss'))"
   ]
  },
  {
   "cell_type": "markdown",
   "metadata": {},
   "source": [
    "#### Step 6 : Using gradient descent with learning rate of 0.001 to minimize loss"
   ]
  },
  {
   "cell_type": "code",
   "execution_count": 9,
   "metadata": {
    "ExecuteTime": {
     "end_time": "2018-07-17T11:40:55.959426Z",
     "start_time": "2018-07-17T11:40:55.929627Z"
    }
   },
   "outputs": [],
   "source": [
    "optimizer = tf.train.GradientDescentOptimizer(learning_rate=0.001).minimize(loss)"
   ]
  },
  {
   "cell_type": "markdown",
   "metadata": {},
   "source": [
    "#### Stetp 7 : initialize the necessary variables, in this case, w and b\n",
    "#### Stetp 8 : train the model for 100 epochs\n",
    "#### Stetp 9 : output the values of w and b\n",
    "\n",
    "see below code."
   ]
  },
  {
   "cell_type": "code",
   "execution_count": 10,
   "metadata": {
    "ExecuteTime": {
     "end_time": "2018-07-17T11:40:56.052426Z",
     "start_time": "2018-07-17T11:40:55.960380Z"
    }
   },
   "outputs": [],
   "source": [
    "writer = tf.summary.FileWriter(\"./graphs/linear_Regression_Birth_Life\", tf.get_default_graph())"
   ]
  },
  {
   "cell_type": "code",
   "execution_count": 11,
   "metadata": {
    "ExecuteTime": {
     "end_time": "2018-07-17T11:41:28.843385Z",
     "start_time": "2018-07-17T11:40:56.054907Z"
    }
   },
   "outputs": [
    {
     "name": "stdout",
     "output_type": "stream",
     "text": [
      "Epoch 0 : 1661.8637834631543\n",
      "Epoch 1 : 956.3224148609137\n",
      "Epoch 2 : 844.6737023980994\n",
      "Epoch 3 : 750.7312486011339\n",
      "Epoch 4 : 667.6598341012079\n",
      "Epoch 5 : 594.1417715627896\n",
      "Epoch 6 : 529.07878103068\n",
      "Epoch 7 : 471.5004191489204\n",
      "Epoch 8 : 420.5458626462441\n",
      "Epoch 9 : 375.45530721966765\n",
      "Epoch 10 : 335.5543025185697\n",
      "Epoch 11 : 300.24629857978107\n",
      "Epoch 12 : 269.00376475843336\n",
      "Epoch 13 : 241.35957466852116\n",
      "Epoch 14 : 216.90039135300015\n",
      "Epoch 15 : 195.25972298129324\n",
      "Epoch 16 : 176.1137693605349\n",
      "Epoch 17 : 159.17551693441837\n",
      "Epoch 18 : 144.1907111125557\n",
      "Epoch 19 : 130.93503488078713\n",
      "Epoch 20 : 119.20935661137888\n",
      "Epoch 21 : 108.8379309807855\n",
      "Epoch 22 : 99.66466760624593\n",
      "Epoch 23 : 91.55177013029001\n",
      "Epoch 24 : 84.37664046781751\n",
      "Epoch 25 : 78.03217824997724\n",
      "Epoch 26 : 72.42182927812989\n",
      "Epoch 27 : 67.46136239485718\n",
      "Epoch 28 : 63.07566952367442\n",
      "Epoch 29 : 59.19874146522856\n",
      "Epoch 30 : 55.77168446383194\n",
      "Epoch 31 : 52.74269822355127\n",
      "Epoch 32 : 50.065632780875376\n",
      "Epoch 33 : 47.70006421631674\n",
      "Epoch 34 : 45.61017902122909\n",
      "Epoch 35 : 43.76379750625255\n",
      "Epoch 36 : 42.13259221098116\n",
      "Epoch 37 : 40.69221939330516\n",
      "Epoch 38 : 39.420219863367905\n",
      "Epoch 39 : 38.297008645340895\n",
      "Epoch 40 : 37.305591759538146\n",
      "Epoch 41 : 36.43066341609841\n",
      "Epoch 42 : 35.658453942681234\n",
      "Epoch 43 : 34.97724816803575\n",
      "Epoch 44 : 34.37655378567349\n",
      "Epoch 45 : 33.84671358035044\n",
      "Epoch 46 : 33.379665882282545\n",
      "Epoch 47 : 32.96800991297258\n",
      "Epoch 48 : 32.60548541990942\n",
      "Epoch 49 : 32.28618434173986\n",
      "Epoch 50 : 32.004961317298495\n",
      "Epoch 51 : 31.757531331044525\n",
      "Epoch 52 : 31.53978877073019\n",
      "Epoch 53 : 31.348356819100445\n",
      "Epoch 54 : 31.180119247269193\n",
      "Epoch 55 : 31.03225782010038\n",
      "Epoch 56 : 30.902462910201574\n",
      "Epoch 57 : 30.78859985760776\n",
      "Epoch 58 : 30.688725355066556\n",
      "Epoch 59 : 30.60122861903357\n",
      "Epoch 60 : 30.524590178362192\n",
      "Epoch 61 : 30.457532704476954\n",
      "Epoch 62 : 30.398967422668726\n",
      "Epoch 63 : 30.34777825418737\n",
      "Epoch 64 : 30.303121465726413\n",
      "Epoch 65 : 30.26424930739051\n",
      "Epoch 66 : 30.230392129550456\n",
      "Epoch 67 : 30.200964921590334\n",
      "Epoch 68 : 30.175501555469697\n",
      "Epoch 69 : 30.153343991707324\n",
      "Epoch 70 : 30.134226098457216\n",
      "Epoch 71 : 30.117758308603477\n",
      "Epoch 72 : 30.103543774372174\n",
      "Epoch 73 : 30.09139442229674\n",
      "Epoch 74 : 30.0809388476427\n",
      "Epoch 75 : 30.07208499982095\n",
      "Epoch 76 : 30.06452690966084\n",
      "Epoch 77 : 30.058150938555205\n",
      "Epoch 78 : 30.05278219980139\n",
      "Epoch 79 : 30.04828310612785\n",
      "Epoch 80 : 30.04458791257593\n",
      "Epoch 81 : 30.041550708114855\n",
      "Epoch 82 : 30.039046437352113\n",
      "Epoch 83 : 30.03704103724602\n",
      "Epoch 84 : 30.03545715799831\n",
      "Epoch 85 : 30.034288759106282\n",
      "Epoch 86 : 30.03338805212261\n",
      "Epoch 87 : 30.032769865304076\n",
      "Epoch 88 : 30.032386838833535\n",
      "Epoch 89 : 30.032150670733166\n",
      "Epoch 90 : 30.032092865493677\n",
      "Epoch 91 : 30.032186730024037\n",
      "Epoch 92 : 30.03240725137661\n",
      "Epoch 93 : 30.032643962397827\n",
      "Epoch 94 : 30.033039376884087\n",
      "Epoch 95 : 30.033435566514413\n",
      "Epoch 96 : 30.033922631802085\n",
      "Epoch 97 : 30.03442924663878\n",
      "Epoch 98 : 30.0349335548615\n",
      "Epoch 99 : 30.03552558278714\n"
     ]
    }
   ],
   "source": [
    "with tf.Session() as sess:\n",
    "    # Stetp 7 : initialize the necessary variables, in this case, w and b\n",
    "    sess.run(tf.global_variables_initializer())\n",
    "    \n",
    "    # Stetp 8 : train the model for 100 epochs\n",
    "    for i in range(100):\n",
    "        total_loss = 0\n",
    "        for x, y in data:\n",
    "            # Session execute optimizer and fetch values of loss\n",
    "            _, _loss = sess.run([optimizer, loss], feed_dict = {X:x, Y:y})\n",
    "            total_loss += _loss\n",
    "        print(\"Epoch {0} : {1}\".format(i, total_loss / n_samples))\n",
    "    \n",
    "    # close the writer when you're done using it\n",
    "    writer.close()\n",
    "    \n",
    "    # Step 9 : output the values of w and b\n",
    "    w_out, b_out = sess.run([w, b])   "
   ]
  },
  {
   "cell_type": "code",
   "execution_count": 12,
   "metadata": {
    "ExecuteTime": {
     "end_time": "2018-07-17T11:41:28.951512Z",
     "start_time": "2018-07-17T11:41:28.844378Z"
    }
   },
   "outputs": [
    {
     "data": {
      "image/png": "[encoded data removed]",
      "text/plain": [
       "<Figure size 432x288 with 1 Axes>"
      ]
     },
     "metadata": {},
     "output_type": "display_data"
    }
   ],
   "source": [
    "# plot the results\n",
    "plt.plot(data[:,0], data[:,1], \"bo\", label = \"Real Data\")\n",
    "plt.plot(data[:,0], data[:,0] * w_out + b_out, 'r', label = \"Predicted data\")\n",
    "plt.legend()\n",
    "plt.show()"
   ]
  },
  {
   "cell_type": "code",
   "execution_count": null,
   "metadata": {},
   "outputs": [],
   "source": []
  }
 ],
 "metadata": {
  "anaconda-cloud": {},
  "kernelspec": {
   "display_name": "Python [default]",
   "language": "python",
   "name": "python3"
  },
  "language_info": {
   "codemirror_mode": {
    "name": "ipython",
    "version": 3
   },
   "file_extension": ".py",
   "mimetype": "text/x-python",
   "name": "python",
   "nbconvert_exporter": "python",
   "pygments_lexer": "ipython3",
   "version": "3.5.2"
  },
  "varInspector": {
   "cols": {
    "lenName": 16,
    "lenType": 16,
    "lenVar": 40
   },
   "kernels_config": {
    "python": {
     "delete_cmd_postfix": "",
     "delete_cmd_prefix": "del ",
     "library": "var_list.py",
     "varRefreshCmd": "print(var_dic_list())"
    },
    "r": {
     "delete_cmd_postfix": ") ",
     "delete_cmd_prefix": "rm(",
     "library": "var_list.r",
     "varRefreshCmd": "cat(var_dic_list()) "
    }
   },
   "types_to_exclude": [
    "module",
    "function",
    "builtin_function_or_method",
    "instance",
    "_Feature"
   ],
   "window_display": false
  }
 },
 "nbformat": 4,
 "nbformat_minor": 1
}
